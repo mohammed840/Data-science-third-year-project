{
 "cells": [
  {
   "cell_type": "markdown",
   "id": "4ce079bf",
   "metadata": {},
   "source": [
    "# Research Question 1:Can we predict the box office success of a movie based on its  rating, budget, cast, and other features.   What factors are most strongly correlated with box office success, and how accurate are the predictions"
   ]
  },
  {
   "cell_type": "markdown",
   "id": "f3deef00",
   "metadata": {},
   "source": [
    "some factors that have been found to be strongly correlated with box office success include:\n",
    "\n",
    "Budget: Generally, higher-budget movies tend to have higher box office revenues. However, this correlation may not hold for all movies, and there may be a point of diminishing returns for very high-budget movies.\n",
    "\n",
    "Cast and crew: Having well-known and popular actors, directors, and writers can attract audiences and generate buzz around a movie, which can translate into higher box office revenues.\n",
    "\n",
    "Pre-release marketing: A strong marketing campaign can generate excitement and anticipation for a movie, leading to higher box office revenues. This includes advertising, press coverage, social media, and promotional events."
   ]
  },
  {
   "cell_type": "markdown",
   "id": "8024a268",
   "metadata": {},
   "source": [
    "# Pre-release marketing and Box office"
   ]
  },
  {
   "cell_type": "code",
   "execution_count": 1,
   "id": "f70a0011",
   "metadata": {},
   "outputs": [
    {
     "name": "stderr",
     "output_type": "stream",
     "text": [
      "C:\\Users\\malsh\\anaconda3\\lib\\site-packages\\numpy\\_distributor_init.py:30: UserWarning: loaded more than 1 DLL from .libs:\n",
      "C:\\Users\\malsh\\anaconda3\\lib\\site-packages\\numpy\\.libs\\libopenblas.FB5AE2TYXYH2IJRDKGDGQ3XBKLKTF43H.gfortran-win_amd64.dll\n",
      "C:\\Users\\malsh\\anaconda3\\lib\\site-packages\\numpy\\.libs\\libopenblas64__v0.3.21-gcc_10_3_0.dll\n",
      "  warnings.warn(\"loaded more than 1 DLL from .libs:\"\n"
     ]
    }
   ],
   "source": [
    "import pandas as pd\n",
    "import statsmodels.api as sm\n",
    "import plotly.express as px\n",
    "import plotly.graph_objs as go\n",
    "from plotly.subplots import make_subplots\n",
    "from sklearn.linear_model import LinearRegression\n"
   ]
  },
  {
   "cell_type": "code",
   "execution_count": 2,
   "id": "f62df7d2",
   "metadata": {},
   "outputs": [],
   "source": [
    "df_movies_marketing = pd.read_csv('Finalmovie_dataset_fin1.csv')"
   ]
  },
  {
   "cell_type": "code",
   "execution_count": 3,
   "id": "14cd00a6",
   "metadata": {},
   "outputs": [
    {
     "data": {
      "text/plain": [
       "(44872, 15)"
      ]
     },
     "execution_count": 3,
     "metadata": {},
     "output_type": "execute_result"
    }
   ],
   "source": [
    "df_movies_marketing.shape"
   ]
  },
  {
   "cell_type": "code",
   "execution_count": 4,
   "id": "e09c5959",
   "metadata": {},
   "outputs": [
    {
     "data": {
      "text/html": [
       "<div>\n",
       "<style scoped>\n",
       "    .dataframe tbody tr th:only-of-type {\n",
       "        vertical-align: middle;\n",
       "    }\n",
       "\n",
       "    .dataframe tbody tr th {\n",
       "        vertical-align: top;\n",
       "    }\n",
       "\n",
       "    .dataframe thead th {\n",
       "        text-align: right;\n",
       "    }\n",
       "</style>\n",
       "<table border=\"1\" class=\"dataframe\">\n",
       "  <thead>\n",
       "    <tr style=\"text-align: right;\">\n",
       "      <th></th>\n",
       "      <th>budget</th>\n",
       "      <th>popularity</th>\n",
       "      <th>production_companies</th>\n",
       "      <th>country</th>\n",
       "      <th>Box_office</th>\n",
       "      <th>runtime</th>\n",
       "      <th>name</th>\n",
       "      <th>genre</th>\n",
       "      <th>released</th>\n",
       "      <th>imdb Rating</th>\n",
       "      <th>director</th>\n",
       "      <th>writer</th>\n",
       "      <th>Cast</th>\n",
       "      <th>profit</th>\n",
       "      <th>year_only</th>\n",
       "    </tr>\n",
       "  </thead>\n",
       "  <tbody>\n",
       "    <tr>\n",
       "      <th>0</th>\n",
       "      <td>0</td>\n",
       "      <td>2.561161</td>\n",
       "      <td>[{'name': 'Walt Disney Pictures', 'id': 2}]</td>\n",
       "      <td>[{'iso_3166_1': 'US', 'name': 'United States o...</td>\n",
       "      <td>0</td>\n",
       "      <td>97.0</td>\n",
       "      <td>Tom and Huck</td>\n",
       "      <td>Action</td>\n",
       "      <td>NaN</td>\n",
       "      <td>NaN</td>\n",
       "      <td>NaN</td>\n",
       "      <td>NaN</td>\n",
       "      <td>NaN</td>\n",
       "      <td>0</td>\n",
       "      <td>1995.0</td>\n",
       "    </tr>\n",
       "    <tr>\n",
       "      <th>1</th>\n",
       "      <td>0</td>\n",
       "      <td>12.140733</td>\n",
       "      <td>[{'name': 'Universal Pictures', 'id': 33}, {'n...</td>\n",
       "      <td>[{'iso_3166_1': 'US', 'name': 'United States o...</td>\n",
       "      <td>11348324</td>\n",
       "      <td>78.0</td>\n",
       "      <td>Balto</td>\n",
       "      <td>Family</td>\n",
       "      <td>NaN</td>\n",
       "      <td>NaN</td>\n",
       "      <td>NaN</td>\n",
       "      <td>NaN</td>\n",
       "      <td>NaN</td>\n",
       "      <td>11348324</td>\n",
       "      <td>1995.0</td>\n",
       "    </tr>\n",
       "    <tr>\n",
       "      <th>2</th>\n",
       "      <td>0</td>\n",
       "      <td>2.228434</td>\n",
       "      <td>[{'name': 'BBC Films', 'id': 288}]</td>\n",
       "      <td>[{'iso_3166_1': 'GB', 'name': 'United Kingdom'...</td>\n",
       "      <td>0</td>\n",
       "      <td>104.0</td>\n",
       "      <td>Persuasion</td>\n",
       "      <td>Drama</td>\n",
       "      <td>NaN</td>\n",
       "      <td>NaN</td>\n",
       "      <td>NaN</td>\n",
       "      <td>NaN</td>\n",
       "      <td>NaN</td>\n",
       "      <td>0</td>\n",
       "      <td>1995.0</td>\n",
       "    </tr>\n",
       "    <tr>\n",
       "      <th>3</th>\n",
       "      <td>0</td>\n",
       "      <td>1.100915</td>\n",
       "      <td>[{'name': 'Ministère des Affaires Étrangères',...</td>\n",
       "      <td>[{'iso_3166_1': 'CN', 'name': 'China'}, {'iso_...</td>\n",
       "      <td>0</td>\n",
       "      <td>108.0</td>\n",
       "      <td>Shanghai Triad</td>\n",
       "      <td>Drama</td>\n",
       "      <td>NaN</td>\n",
       "      <td>NaN</td>\n",
       "      <td>NaN</td>\n",
       "      <td>NaN</td>\n",
       "      <td>NaN</td>\n",
       "      <td>0</td>\n",
       "      <td>1995.0</td>\n",
       "    </tr>\n",
       "    <tr>\n",
       "      <th>4</th>\n",
       "      <td>0</td>\n",
       "      <td>0.745542</td>\n",
       "      <td>[{'name': 'Iwerks Entertainment', 'id': 70801}]</td>\n",
       "      <td>[{'iso_3166_1': 'FR', 'name': 'France'}, {'iso...</td>\n",
       "      <td>0</td>\n",
       "      <td>50.0</td>\n",
       "      <td>Wings of Courage</td>\n",
       "      <td>Romance</td>\n",
       "      <td>NaN</td>\n",
       "      <td>NaN</td>\n",
       "      <td>NaN</td>\n",
       "      <td>NaN</td>\n",
       "      <td>NaN</td>\n",
       "      <td>0</td>\n",
       "      <td>1996.0</td>\n",
       "    </tr>\n",
       "  </tbody>\n",
       "</table>\n",
       "</div>"
      ],
      "text/plain": [
       "   budget popularity                               production_companies  \\\n",
       "0       0   2.561161        [{'name': 'Walt Disney Pictures', 'id': 2}]   \n",
       "1       0  12.140733  [{'name': 'Universal Pictures', 'id': 33}, {'n...   \n",
       "2       0   2.228434                 [{'name': 'BBC Films', 'id': 288}]   \n",
       "3       0   1.100915  [{'name': 'Ministère des Affaires Étrangères',...   \n",
       "4       0   0.745542    [{'name': 'Iwerks Entertainment', 'id': 70801}]   \n",
       "\n",
       "                                             country  Box_office  runtime  \\\n",
       "0  [{'iso_3166_1': 'US', 'name': 'United States o...           0     97.0   \n",
       "1  [{'iso_3166_1': 'US', 'name': 'United States o...    11348324     78.0   \n",
       "2  [{'iso_3166_1': 'GB', 'name': 'United Kingdom'...           0    104.0   \n",
       "3  [{'iso_3166_1': 'CN', 'name': 'China'}, {'iso_...           0    108.0   \n",
       "4  [{'iso_3166_1': 'FR', 'name': 'France'}, {'iso...           0     50.0   \n",
       "\n",
       "               name    genre released  imdb Rating director writer Cast  \\\n",
       "0      Tom and Huck   Action      NaN          NaN      NaN    NaN  NaN   \n",
       "1             Balto   Family      NaN          NaN      NaN    NaN  NaN   \n",
       "2        Persuasion    Drama      NaN          NaN      NaN    NaN  NaN   \n",
       "3    Shanghai Triad    Drama      NaN          NaN      NaN    NaN  NaN   \n",
       "4  Wings of Courage  Romance      NaN          NaN      NaN    NaN  NaN   \n",
       "\n",
       "     profit  year_only  \n",
       "0         0     1995.0  \n",
       "1  11348324     1995.0  \n",
       "2         0     1995.0  \n",
       "3         0     1995.0  \n",
       "4         0     1996.0  "
      ]
     },
     "execution_count": 4,
     "metadata": {},
     "output_type": "execute_result"
    }
   ],
   "source": [
    "df_movies_marketing.head()"
   ]
  },
  {
   "cell_type": "markdown",
   "id": "f56ea824",
   "metadata": {},
   "source": [
    "# yotube Movie trailers"
   ]
  },
  {
   "cell_type": "code",
   "execution_count": 6,
   "id": "e29fe4f6",
   "metadata": {},
   "outputs": [],
   "source": [
    "df_movies_yotube = pd.read_csv('Movie_Trailers_ready_2.csv')"
   ]
  },
  {
   "cell_type": "code",
   "execution_count": 7,
   "id": "17aeb202",
   "metadata": {},
   "outputs": [
    {
     "data": {
      "text/html": [
       "<div>\n",
       "<style scoped>\n",
       "    .dataframe tbody tr th:only-of-type {\n",
       "        vertical-align: middle;\n",
       "    }\n",
       "\n",
       "    .dataframe tbody tr th {\n",
       "        vertical-align: top;\n",
       "    }\n",
       "\n",
       "    .dataframe thead th {\n",
       "        text-align: right;\n",
       "    }\n",
       "</style>\n",
       "<table border=\"1\" class=\"dataframe\">\n",
       "  <thead>\n",
       "    <tr style=\"text-align: right;\">\n",
       "      <th></th>\n",
       "      <th>Movie Name (Trailer)</th>\n",
       "      <th>Views</th>\n",
       "      <th>Likes</th>\n",
       "    </tr>\n",
       "  </thead>\n",
       "  <tbody>\n",
       "    <tr>\n",
       "      <th>0</th>\n",
       "      <td>Dawg Fight</td>\n",
       "      <td>99901</td>\n",
       "      <td>157</td>\n",
       "    </tr>\n",
       "    <tr>\n",
       "      <th>1</th>\n",
       "      <td>Joker</td>\n",
       "      <td>99868787</td>\n",
       "      <td>1497107</td>\n",
       "    </tr>\n",
       "    <tr>\n",
       "      <th>2</th>\n",
       "      <td>Brothers McMullen, The</td>\n",
       "      <td>9923</td>\n",
       "      <td>24</td>\n",
       "    </tr>\n",
       "    <tr>\n",
       "      <th>3</th>\n",
       "      <td>Insidious</td>\n",
       "      <td>9913503</td>\n",
       "      <td>43902</td>\n",
       "    </tr>\n",
       "    <tr>\n",
       "      <th>4</th>\n",
       "      <td>Ronaldo</td>\n",
       "      <td>990775</td>\n",
       "      <td>4802</td>\n",
       "    </tr>\n",
       "  </tbody>\n",
       "</table>\n",
       "</div>"
      ],
      "text/plain": [
       "     Movie Name (Trailer)     Views    Likes\n",
       "0              Dawg Fight     99901      157\n",
       "1                   Joker  99868787  1497107\n",
       "2  Brothers McMullen, The      9923       24\n",
       "3               Insidious   9913503    43902\n",
       "4                 Ronaldo    990775     4802"
      ]
     },
     "execution_count": 7,
     "metadata": {},
     "output_type": "execute_result"
    }
   ],
   "source": [
    "df_movies_yotube.head()"
   ]
  },
  {
   "cell_type": "code",
   "execution_count": 8,
   "id": "5ec90635",
   "metadata": {},
   "outputs": [
    {
     "data": {
      "text/plain": [
       "(1124, 3)"
      ]
     },
     "execution_count": 8,
     "metadata": {},
     "output_type": "execute_result"
    }
   ],
   "source": [
    "df_movies_yotube.shape"
   ]
  },
  {
   "cell_type": "code",
   "execution_count": 9,
   "id": "858f4b74",
   "metadata": {},
   "outputs": [
    {
     "data": {
      "text/plain": [
       "<bound method NDFrame.describe of                 Movie Name (Trailer)     Views    Likes\n",
       "0                         Dawg Fight     99901      157\n",
       "1                              Joker  99868787  1497107\n",
       "2             Brothers McMullen, The      9923       24\n",
       "3                          Insidious   9913503    43902\n",
       "4                            Ronaldo    990775     4802\n",
       "...                              ...       ...      ...\n",
       "1119          The Kids Are All Right   1000539     2641\n",
       "1120  Peanuts - Die Bank zahlt alles         1        0\n",
       "1121                Shadows (Cienie)         0        0\n",
       "1122                           Gospa         0        0\n",
       "1123                  Superweib, Das         0        0\n",
       "\n",
       "[1124 rows x 3 columns]>"
      ]
     },
     "execution_count": 9,
     "metadata": {},
     "output_type": "execute_result"
    }
   ],
   "source": [
    "df_movies_yotube.describe"
   ]
  },
  {
   "cell_type": "code",
   "execution_count": 10,
   "id": "828d57ab",
   "metadata": {},
   "outputs": [],
   "source": [
    "df_movies_yotube = df_movies_yotube.rename(columns={'Movie Name (Trailer)': 'name'})"
   ]
  },
  {
   "cell_type": "code",
   "execution_count": 11,
   "id": "bd0716fa",
   "metadata": {},
   "outputs": [
    {
     "data": {
      "text/html": [
       "<div>\n",
       "<style scoped>\n",
       "    .dataframe tbody tr th:only-of-type {\n",
       "        vertical-align: middle;\n",
       "    }\n",
       "\n",
       "    .dataframe tbody tr th {\n",
       "        vertical-align: top;\n",
       "    }\n",
       "\n",
       "    .dataframe thead th {\n",
       "        text-align: right;\n",
       "    }\n",
       "</style>\n",
       "<table border=\"1\" class=\"dataframe\">\n",
       "  <thead>\n",
       "    <tr style=\"text-align: right;\">\n",
       "      <th></th>\n",
       "      <th>name</th>\n",
       "      <th>Views</th>\n",
       "      <th>Likes</th>\n",
       "    </tr>\n",
       "  </thead>\n",
       "  <tbody>\n",
       "    <tr>\n",
       "      <th>0</th>\n",
       "      <td>Dawg Fight</td>\n",
       "      <td>99901</td>\n",
       "      <td>157</td>\n",
       "    </tr>\n",
       "    <tr>\n",
       "      <th>1</th>\n",
       "      <td>Joker</td>\n",
       "      <td>99868787</td>\n",
       "      <td>1497107</td>\n",
       "    </tr>\n",
       "    <tr>\n",
       "      <th>2</th>\n",
       "      <td>Brothers McMullen, The</td>\n",
       "      <td>9923</td>\n",
       "      <td>24</td>\n",
       "    </tr>\n",
       "    <tr>\n",
       "      <th>3</th>\n",
       "      <td>Insidious</td>\n",
       "      <td>9913503</td>\n",
       "      <td>43902</td>\n",
       "    </tr>\n",
       "    <tr>\n",
       "      <th>4</th>\n",
       "      <td>Ronaldo</td>\n",
       "      <td>990775</td>\n",
       "      <td>4802</td>\n",
       "    </tr>\n",
       "    <tr>\n",
       "      <th>...</th>\n",
       "      <td>...</td>\n",
       "      <td>...</td>\n",
       "      <td>...</td>\n",
       "    </tr>\n",
       "    <tr>\n",
       "      <th>1119</th>\n",
       "      <td>The Kids Are All Right</td>\n",
       "      <td>1000539</td>\n",
       "      <td>2641</td>\n",
       "    </tr>\n",
       "    <tr>\n",
       "      <th>1120</th>\n",
       "      <td>Peanuts - Die Bank zahlt alles</td>\n",
       "      <td>1</td>\n",
       "      <td>0</td>\n",
       "    </tr>\n",
       "    <tr>\n",
       "      <th>1121</th>\n",
       "      <td>Shadows (Cienie)</td>\n",
       "      <td>0</td>\n",
       "      <td>0</td>\n",
       "    </tr>\n",
       "    <tr>\n",
       "      <th>1122</th>\n",
       "      <td>Gospa</td>\n",
       "      <td>0</td>\n",
       "      <td>0</td>\n",
       "    </tr>\n",
       "    <tr>\n",
       "      <th>1123</th>\n",
       "      <td>Superweib, Das</td>\n",
       "      <td>0</td>\n",
       "      <td>0</td>\n",
       "    </tr>\n",
       "  </tbody>\n",
       "</table>\n",
       "<p>1124 rows × 3 columns</p>\n",
       "</div>"
      ],
      "text/plain": [
       "                                name     Views    Likes\n",
       "0                         Dawg Fight     99901      157\n",
       "1                              Joker  99868787  1497107\n",
       "2             Brothers McMullen, The      9923       24\n",
       "3                          Insidious   9913503    43902\n",
       "4                            Ronaldo    990775     4802\n",
       "...                              ...       ...      ...\n",
       "1119          The Kids Are All Right   1000539     2641\n",
       "1120  Peanuts - Die Bank zahlt alles         1        0\n",
       "1121                Shadows (Cienie)         0        0\n",
       "1122                           Gospa         0        0\n",
       "1123                  Superweib, Das         0        0\n",
       "\n",
       "[1124 rows x 3 columns]"
      ]
     },
     "execution_count": 11,
     "metadata": {},
     "output_type": "execute_result"
    }
   ],
   "source": [
    "df_movies_yotube"
   ]
  },
  {
   "cell_type": "markdown",
   "id": "9e649d7b",
   "metadata": {},
   "source": [
    "# Merging the Two Dataframes "
   ]
  },
  {
   "cell_type": "code",
   "execution_count": 20,
   "id": "016f4e94",
   "metadata": {},
   "outputs": [],
   "source": [
    "df_merged = pd.merge(df_movies_marketing, df_movies_yotube, on='name')\n"
   ]
  },
  {
   "cell_type": "code",
   "execution_count": 21,
   "id": "66421488",
   "metadata": {},
   "outputs": [],
   "source": [
    "# Define the feature matrix and target variable\n",
    "X = df_merged[['Likes','Views']]\n",
    "y = df_merged['Box_office']\n"
   ]
  },
  {
   "cell_type": "code",
   "execution_count": 22,
   "id": "5cabe4c6",
   "metadata": {},
   "outputs": [],
   "source": [
    "X = sm.add_constant(X)\n"
   ]
  },
  {
   "cell_type": "code",
   "execution_count": 23,
   "id": "a39b3140",
   "metadata": {},
   "outputs": [],
   "source": [
    "ols_model = sm.OLS(y, X).fit()\n"
   ]
  },
  {
   "cell_type": "code",
   "execution_count": 24,
   "id": "8229a802",
   "metadata": {},
   "outputs": [
    {
     "name": "stdout",
     "output_type": "stream",
     "text": [
      "                            OLS Regression Results                            \n",
      "==============================================================================\n",
      "Dep. Variable:             Box_office   R-squared:                       0.346\n",
      "Model:                            OLS   Adj. R-squared:                  0.345\n",
      "Method:                 Least Squares   F-statistic:                     261.3\n",
      "Date:                Thu, 18 May 2023   Prob (F-statistic):           8.04e-92\n",
      "Time:                        14:10:28   Log-Likelihood:                -20473.\n",
      "No. Observations:                 991   AIC:                         4.095e+04\n",
      "Df Residuals:                     988   BIC:                         4.097e+04\n",
      "Df Model:                           2                                         \n",
      "Covariance Type:            nonrobust                                         \n",
      "==============================================================================\n",
      "                 coef    std err          t      P>|t|      [0.025      0.975]\n",
      "------------------------------------------------------------------------------\n",
      "const       5.933e+07   8.92e+06      6.654      0.000    4.18e+07    7.68e+07\n",
      "Likes       -490.4960     58.922     -8.325      0.000    -606.123    -374.869\n",
      "Views         13.9830      0.755     18.510      0.000      12.501      15.465\n",
      "==============================================================================\n",
      "Omnibus:                      284.777   Durbin-Watson:                   1.808\n",
      "Prob(Omnibus):                  0.000   Jarque-Bera (JB):            23528.398\n",
      "Skew:                          -0.212   Prob(JB):                         0.00\n",
      "Kurtosis:                      26.867   Cond. No.                     2.59e+07\n",
      "==============================================================================\n",
      "\n",
      "Notes:\n",
      "[1] Standard Errors assume that the covariance matrix of the errors is correctly specified.\n",
      "[2] The condition number is large, 2.59e+07. This might indicate that there are\n",
      "strong multicollinearity or other numerical problems.\n"
     ]
    }
   ],
   "source": [
    "print(ols_model.summary())\n"
   ]
  },
  {
   "cell_type": "markdown",
   "id": "fb6f9776",
   "metadata": {},
   "source": [
    "This OLS regression analysis investigates the relationship between the dependent variable \"Box_office\" and the independent variables \"Likes\" and \"Views.\" The model's R-squared value is 0.346, indicating that approximately 34.6% of the variation in box office can be explained by the two predictors. The F-statistic is 261.3, with a p-value of 8.04e-92, suggesting the model's overall statistical significance.\n",
    "\n",
    "The coefficient for the constant term is 5.933e+07, representing the expected box office value when both \"Likes\" and \"Views\" are zero. The coefficient for \"Likes\" is -490.4960, indicating that, on average, each additional like is associated with a decrease of $490.50 in box office revenue. The coefficient for \"Views\" is 13.9830, suggesting that, on average, for each additional view, the box office is expected to increase by approximately $13.98.\n",
    "\n",
    "The standard errors, t-statistics, and p-values assess the statistical significance of the coefficients. Both \"Likes\" and \"Views\" have small p-values (<0.05), indicating their statistical significance.\n",
    "\n",
    "Other statistical measures such as AIC, BIC, omnibus test, Jarque-Bera test, skewness, and kurtosis provide further insights into the model's performance and the assumption of normality for the residuals.\n",
    "\n",
    "In summary, this analysis indicates that the number of likes and views have a statistically significant relationship with box office revenue, with more views contributing positively and more likes potentially having a negative impact on box office performance."
   ]
  },
  {
   "cell_type": "code",
   "execution_count": 25,
   "id": "6331c8ac",
   "metadata": {},
   "outputs": [
    {
     "data": {
      "text/html": [
       "<div>\n",
       "<style scoped>\n",
       "    .dataframe tbody tr th:only-of-type {\n",
       "        vertical-align: middle;\n",
       "    }\n",
       "\n",
       "    .dataframe tbody tr th {\n",
       "        vertical-align: top;\n",
       "    }\n",
       "\n",
       "    .dataframe thead th {\n",
       "        text-align: right;\n",
       "    }\n",
       "</style>\n",
       "<table border=\"1\" class=\"dataframe\">\n",
       "  <thead>\n",
       "    <tr style=\"text-align: right;\">\n",
       "      <th></th>\n",
       "      <th>budget</th>\n",
       "      <th>popularity</th>\n",
       "      <th>production_companies</th>\n",
       "      <th>country</th>\n",
       "      <th>Box_office</th>\n",
       "      <th>runtime</th>\n",
       "      <th>name</th>\n",
       "      <th>genre</th>\n",
       "      <th>released</th>\n",
       "      <th>imdb Rating</th>\n",
       "      <th>director</th>\n",
       "      <th>writer</th>\n",
       "      <th>Cast</th>\n",
       "      <th>profit</th>\n",
       "      <th>year_only</th>\n",
       "      <th>Views</th>\n",
       "      <th>Likes</th>\n",
       "    </tr>\n",
       "  </thead>\n",
       "  <tbody>\n",
       "    <tr>\n",
       "      <th>0</th>\n",
       "      <td>0</td>\n",
       "      <td>0.046196</td>\n",
       "      <td>[]</td>\n",
       "      <td>[{'iso_3166_1': 'IT', 'name': 'Italy'}]</td>\n",
       "      <td>0</td>\n",
       "      <td>92.0</td>\n",
       "      <td>The Escort</td>\n",
       "      <td>Thriller</td>\n",
       "      <td>NaN</td>\n",
       "      <td>NaN</td>\n",
       "      <td>NaN</td>\n",
       "      <td>NaN</td>\n",
       "      <td>NaN</td>\n",
       "      <td>0</td>\n",
       "      <td>1993.0</td>\n",
       "      <td>2631629</td>\n",
       "      <td>8354</td>\n",
       "    </tr>\n",
       "    <tr>\n",
       "      <th>1</th>\n",
       "      <td>0</td>\n",
       "      <td>6.791697</td>\n",
       "      <td>[{'name': 'Skyhook Productions', 'id': 59566},...</td>\n",
       "      <td>[{'iso_3166_1': 'US', 'name': 'United States o...</td>\n",
       "      <td>0</td>\n",
       "      <td>88.0</td>\n",
       "      <td>The Escort</td>\n",
       "      <td>Drama</td>\n",
       "      <td>NaN</td>\n",
       "      <td>NaN</td>\n",
       "      <td>NaN</td>\n",
       "      <td>NaN</td>\n",
       "      <td>NaN</td>\n",
       "      <td>0</td>\n",
       "      <td>2015.0</td>\n",
       "      <td>2631629</td>\n",
       "      <td>8354</td>\n",
       "    </tr>\n",
       "    <tr>\n",
       "      <th>2</th>\n",
       "      <td>0</td>\n",
       "      <td>3.288353</td>\n",
       "      <td>[{'name': 'Samba P.C.', 'id': 77451}, {'name':...</td>\n",
       "      <td>[{'iso_3166_1': 'ES', 'name': 'Spain'}]</td>\n",
       "      <td>0</td>\n",
       "      <td>86.0</td>\n",
       "      <td>Anguish</td>\n",
       "      <td>Crime</td>\n",
       "      <td>NaN</td>\n",
       "      <td>NaN</td>\n",
       "      <td>NaN</td>\n",
       "      <td>NaN</td>\n",
       "      <td>NaN</td>\n",
       "      <td>0</td>\n",
       "      <td>1987.0</td>\n",
       "      <td>289724</td>\n",
       "      <td>605</td>\n",
       "    </tr>\n",
       "    <tr>\n",
       "      <th>3</th>\n",
       "      <td>0</td>\n",
       "      <td>1.57501</td>\n",
       "      <td>[{'name': 'Lightning Entertainment', 'id': 325...</td>\n",
       "      <td>[{'iso_3166_1': 'US', 'name': 'United States o...</td>\n",
       "      <td>0</td>\n",
       "      <td>91.0</td>\n",
       "      <td>Anguish</td>\n",
       "      <td>Horror</td>\n",
       "      <td>NaN</td>\n",
       "      <td>NaN</td>\n",
       "      <td>NaN</td>\n",
       "      <td>NaN</td>\n",
       "      <td>NaN</td>\n",
       "      <td>0</td>\n",
       "      <td>2015.0</td>\n",
       "      <td>289724</td>\n",
       "      <td>605</td>\n",
       "    </tr>\n",
       "    <tr>\n",
       "      <th>4</th>\n",
       "      <td>0</td>\n",
       "      <td>0.202054</td>\n",
       "      <td>[]</td>\n",
       "      <td>[]</td>\n",
       "      <td>0</td>\n",
       "      <td>93.0</td>\n",
       "      <td>Boy Meets Girl</td>\n",
       "      <td>Drama</td>\n",
       "      <td>NaN</td>\n",
       "      <td>NaN</td>\n",
       "      <td>NaN</td>\n",
       "      <td>NaN</td>\n",
       "      <td>NaN</td>\n",
       "      <td>0</td>\n",
       "      <td>1994.0</td>\n",
       "      <td>1146945</td>\n",
       "      <td>5308</td>\n",
       "    </tr>\n",
       "  </tbody>\n",
       "</table>\n",
       "</div>"
      ],
      "text/plain": [
       "   budget popularity                               production_companies  \\\n",
       "0       0   0.046196                                                 []   \n",
       "1       0   6.791697  [{'name': 'Skyhook Productions', 'id': 59566},...   \n",
       "2       0   3.288353  [{'name': 'Samba P.C.', 'id': 77451}, {'name':...   \n",
       "3       0    1.57501  [{'name': 'Lightning Entertainment', 'id': 325...   \n",
       "4       0   0.202054                                                 []   \n",
       "\n",
       "                                             country  Box_office  runtime  \\\n",
       "0            [{'iso_3166_1': 'IT', 'name': 'Italy'}]           0     92.0   \n",
       "1  [{'iso_3166_1': 'US', 'name': 'United States o...           0     88.0   \n",
       "2            [{'iso_3166_1': 'ES', 'name': 'Spain'}]           0     86.0   \n",
       "3  [{'iso_3166_1': 'US', 'name': 'United States o...           0     91.0   \n",
       "4                                                 []           0     93.0   \n",
       "\n",
       "             name     genre released  imdb Rating director writer Cast  \\\n",
       "0      The Escort  Thriller      NaN          NaN      NaN    NaN  NaN   \n",
       "1      The Escort     Drama      NaN          NaN      NaN    NaN  NaN   \n",
       "2         Anguish     Crime      NaN          NaN      NaN    NaN  NaN   \n",
       "3         Anguish    Horror      NaN          NaN      NaN    NaN  NaN   \n",
       "4  Boy Meets Girl     Drama      NaN          NaN      NaN    NaN  NaN   \n",
       "\n",
       "   profit  year_only    Views  Likes  \n",
       "0       0     1993.0  2631629   8354  \n",
       "1       0     2015.0  2631629   8354  \n",
       "2       0     1987.0   289724    605  \n",
       "3       0     2015.0   289724    605  \n",
       "4       0     1994.0  1146945   5308  "
      ]
     },
     "execution_count": 25,
     "metadata": {},
     "output_type": "execute_result"
    }
   ],
   "source": [
    "df_merged.head()"
   ]
  },
  {
   "cell_type": "code",
   "execution_count": 26,
   "id": "1c7850ee",
   "metadata": {},
   "outputs": [
    {
     "name": "stderr",
     "output_type": "stream",
     "text": [
      "C:\\Users\\malsh\\anaconda3\\lib\\site-packages\\sklearn\\base.py:450: UserWarning:\n",
      "\n",
      "X does not have valid feature names, but LinearRegression was fitted with feature names\n",
      "\n",
      "C:\\Users\\malsh\\anaconda3\\lib\\site-packages\\sklearn\\base.py:450: UserWarning:\n",
      "\n",
      "X does not have valid feature names, but LinearRegression was fitted with feature names\n",
      "\n"
     ]
    },
    {
     "data": {
      "application/vnd.plotly.v1+json": {
       "config": {
        "plotlyServerURL": "https://plot.ly"
       },
       "data": [
        {
         "customdata": [
          [
           "The Escort",
           8354
          ],
          [
           "The Escort",
           8354
          ],
          [
           "Anguish",
           605
          ],
          [
           "Anguish",
           605
          ],
          [
           "Boy Meets Girl",
           5308
          ],
          [
           "Boy Meets Girl",
           5308
          ],
          [
           "Boy Meets Girl",
           5308
          ],
          [
           "Boy Meets Girl",
           5308
          ],
          [
           "Wild Horses",
           1453
          ],
          [
           "Wild Horses",
           1453
          ],
          [
           "Return to Sender",
           9152
          ],
          [
           "Return to Sender",
           9152
          ],
          [
           "Submerged",
           774
          ],
          [
           "Submerged",
           774
          ],
          [
           "Tumbledown",
           4562
          ],
          [
           "Tumbledown",
           4562
          ],
          [
           "Tumbledown",
           4562
          ],
          [
           "Cyberbully",
           2326
          ],
          [
           "Cyberbully",
           2326
          ],
          [
           "Walter",
           313
          ],
          [
           "Walter",
           313
          ],
          [
           "Christmas Eve",
           2729
          ],
          [
           "Christmas Eve",
           2729
          ],
          [
           "Vendetta",
           3504
          ],
          [
           "Vendetta",
           3504
          ],
          [
           "Kumiko, the Treasure Hunter",
           1611
          ],
          [
           "Justice League: Throne of Atlantis",
           9634
          ],
          [
           "Louis C.K.: Live at The Comedy Store",
           5585
          ],
          [
           "Don Verdean",
           2234
          ],
          [
           "The End of the Tour",
           6788
          ],
          [
           "Experimenter",
           3716
          ],
          [
           "True Story",
           66240
          ],
          [
           "The Hunting Ground",
           6048
          ],
          [
           "Going Clear: Scientology and the Prison of Belief",
           1477
          ],
          [
           "Tig",
           25328
          ],
          [
           "I Smile Back",
           1878
          ],
          [
           "Results",
           2838
          ],
          [
           "The Stanford Prison Experiment",
           64232
          ],
          [
           "Home Sweet Hell",
           16435
          ],
          [
           "Kidnapping Mr. Heineken",
           2925
          ],
          [
           "The Hollow",
           3861
          ],
          [
           "The Hollow",
           3861
          ],
          [
           "The Hollow",
           3861
          ],
          [
           "We Are Still Here",
           4972
          ],
          [
           "Spring",
           3511
          ],
          [
           "Spring",
           3511
          ],
          [
           "Aziz Ansari: Live at Madison Square Garden",
           170
          ],
          [
           "Parallels",
           2246
          ],
          [
           "Shaun the Sheep Movie",
           8344
          ],
          [
           "Iliza Shlesinger: Freezing Hot",
           706
          ],
          [
           "Survivor",
           11704
          ],
          [
           "Survivor",
           11704
          ],
          [
           "Survivor",
           11704
          ],
          [
           "Absolution",
           915
          ],
          [
           "Absolution",
           915
          ],
          [
           "Absolution",
           915
          ],
          [
           "Man Up",
           3999
          ],
          [
           "The Culling",
           562
          ],
          [
           "Regression",
           31244
          ],
          [
           "Appropriate Behavior",
           2935
          ],
          [
           "Barbie in Princess Power",
           16501
          ],
          [
           "The Eichmann Show",
           6
          ],
          [
           "Bessie",
           636
          ],
          [
           "The Human Centipede 3 (Final Sequence)",
           3084
          ],
          [
           "Barely Lethal",
           10624
          ],
          [
           "Deep Web",
           8288
          ],
          [
           "Kung Fury",
           13945
          ],
          [
           "The World Made Straight",
           826
          ],
          [
           "The Wolfpack",
           10442
          ],
          [
           "Dawg Fight",
           157
          ],
          [
           "Sharknado 3: Oh Hell No!",
           11723
          ],
          [
           "The Flintstones & WWE: Stone Age Smackdown",
           2150
          ],
          [
           "See You In Valhalla",
           3045
          ],
          [
           "From the Dark",
           356
          ],
          [
           "Robot Overlords",
           1191
          ],
          [
           "Bad Asses on the Bayou",
           714
          ],
          [
           "Accidental Love",
           11005
          ],
          [
           "7 Days in Hell",
           815
          ],
          [
           "Learning to Drive",
           8982
          ],
          [
           "Ooops! Noah is Gone...",
           1928
          ],
          [
           "War Pigs",
           636
          ],
          [
           "Best of Enemies",
           10867
          ],
          [
           "Chloe and Theo",
           922
          ],
          [
           "Smosh: The Movie",
           258817
          ],
          [
           "Always Watching: A Marble Hornets Story",
           2393
          ],
          [
           "Descendants",
           18534
          ],
          [
           "Last Cab to Darwin",
           656
          ],
          [
           "Lava",
           19195
          ],
          [
           "I Am Chris Farley",
           2072
          ],
          [
           "A LEGO Brickumentary",
           10034
          ],
          [
           "Deathgasm",
           2951
          ],
          [
           "He Named Me Malala",
           56422
          ],
          [
           "Bloodsucking Bastards",
           1268
          ],
          [
           "Meru",
           1056
          ],
          [
           "Welcome to Leith",
           373
          ],
          [
           "Listening",
           410
          ],
          [
           "Listen to Me Marlon",
           4041
          ],
          [
           "Into the Forest",
           3796
          ],
          [
           "Last Shift",
           43694
          ],
          [
           "Pay the Ghost",
           1439
          ],
          [
           "Ghoul",
           1682
          ],
          [
           "Ghoul",
           1682
          ],
          [
           "Full Out",
           15429
          ],
          [
           "The Quiet Hour",
           12273
          ],
          [
           "I Am Here",
           341
          ],
          [
           "Oddball",
           2695
          ],
          [
           "Tremors 5: Bloodlines",
           315
          ],
          [
           "Narcopolis",
           363
          ],
          [
           "Ronaldo",
           4802
          ],
          [
           "A Bigger Splash",
           11246
          ],
          [
           "Where to Invade Next",
           11309
          ],
          [
           "Operator",
           25328
          ],
          [
           "Operator",
           25328
          ],
          [
           "All Things Must Pass",
           745
          ],
          [
           "The Girl King",
           3254
          ],
          [
           "Miss You Already",
           6200
          ],
          [
           "Momentum",
           1329
          ],
          [
           "Momentum",
           1329
          ],
          [
           "Tales of Halloween",
           3450
          ],
          [
           "Bone Tomahawk",
           13472
          ],
          [
           "Amy Schumer: Live at the Apollo",
           2
          ],
          [
           "Extraordinary Tales",
           698
          ],
          [
           "SuperBob",
           59
          ],
          [
           "Safelight",
           1646
          ],
          [
           "The Phoenix Incident",
           1510
          ],
          [
           "The Subjects",
           314
          ],
          [
           "Twinsters",
           2252
          ],
          [
           "Condemned",
           290
          ],
          [
           "Chi-Raq",
           7611
          ],
          [
           "The Ridiculous 6",
           27584
          ],
          [
           "He Never Died",
           1655
          ],
          [
           "3-Headed Shark Attack",
           1305
          ],
          [
           "Woodlawn",
           4311
          ],
          [
           "Moonwalkers",
           5962
          ],
          [
           "Racing Extinction",
           7649
          ],
          [
           "Requiem for the American Dream",
           323
          ],
          [
           "Holding the Man",
           13273
          ],
          [
           "The Fear of 13",
           1912
          ],
          [
           "Regular Show: The Movie",
           4376
          ],
          [
           "Forsaken",
           1855
          ],
          [
           "Forsaken",
           1855
          ],
          [
           "Remember",
           1731
          ],
          [
           "I Spit on Your Grave III: Vengeance is Mine",
           1133
          ],
          [
           "The Girl in the Photographs",
           1809
          ],
          [
           "VANish",
           171
          ],
          [
           "Jack of the Red Hearts",
           129366
          ],
          [
           "The Condemned 2",
           5859
          ],
          [
           "The Benefactor",
           71981
          ],
          [
           "Walt Before Mickey",
           5459
          ],
          [
           "Io che amo solo te",
           57
          ],
          [
           "Teen Beach 2",
           4429
          ],
          [
           "Those People",
           100601
          ],
          [
           "Harry Price: Ghost Hunter",
           31
          ],
          [
           "Clash of the Titans",
           2291
          ],
          [
           "Neighbors",
           59596
          ],
          [
           "The Thing",
           15700
          ],
          [
           "Conan the Barbarian",
           12488
          ],
          [
           "Annie",
           21748
          ],
          [
           "Parasite",
           177942
          ],
          [
           "Ghostbusters",
           327407
          ],
          [
           "The Karate Kid",
           38700
          ],
          [
           "A Nightmare on Elm Street",
           16670
          ],
          [
           "Fright Night",
           7613
          ],
          [
           "Project X",
           34657
          ],
          [
           "Sing",
           56892
          ],
          [
           "Total Recall",
           19203
          ],
          [
           "Flatliners",
           22240
          ],
          [
           "Trust",
           4570
          ],
          [
           "The Addams Family",
           66555
          ],
          [
           "Beauty and the Beast",
           305962
          ],
          [
           "Aladdin",
           21332
          ],
          [
           "The Three Musketeers",
           2900
          ],
          [
           "The Lion King",
           780774
          ],
          [
           "Little Women",
           184412
          ],
          [
           "The Jungle Book",
           89319
          ],
          [
           "Fair Game",
           1022
          ],
          [
           "Anna Karenina",
           26053
          ],
          [
           "Godzilla",
           187698
          ],
          [
           "The Avengers",
           308531
          ],
          [
           "Life",
           46235
          ],
          [
           "The Kid",
           11012
          ],
          [
           "Oldboy",
           7127
          ],
          [
           "Hellboy",
           162924
          ],
          [
           "Step Up",
           2277
          ],
          [
           "Halloween",
           370416
          ],
          [
           "Death at a Funeral",
           8138
          ],
          [
           "Passengers",
           177249
          ],
          [
           "The Girl with the Dragon Tattoo",
           23317
          ],
          [
           "Inception",
           137784
          ],
          [
           "Iron Man 2",
           11270
          ],
          [
           "Shutter Island",
           15300
          ],
          [
           "Scott Pilgrim vs. the World",
           56254
          ],
          [
           "Grown Ups",
           15078
          ],
          [
           "Kick-Ass",
           12702
          ],
          [
           "Black Swan",
           88748
          ],
          [
           "The Town",
           37959
          ],
          [
           "Flipped",
           15285
          ],
          [
           "The Social Network",
           82863
          ],
          [
           "Robin Hood",
           6669
          ],
          [
           "Monsters",
           2785
          ],
          [
           "Insidious",
           43902
          ],
          [
           "Tangled",
           11662
          ],
          [
           "RED",
           7910
          ],
          [
           "I Spit on Your Grave",
           900
          ],
          [
           "The Last Airbender",
           21506
          ],
          [
           "How to Train Your Dragon",
           968
          ],
          [
           "The American",
           203
          ],
          [
           "Incendies",
           11093
          ],
          [
           "Sex and the City 2",
           271
          ],
          [
           "Burlesque",
           8284
          ],
          [
           "Despicable Me",
           8287
          ],
          [
           "Love & Other Drugs",
           40317
          ],
          [
           "True Grit",
           13249
          ],
          [
           "The Tourist",
           12714
          ],
          [
           "The Twilight Saga: Eclipse",
           39611
          ],
          [
           "Percy Jackson & the Olympians: The Lightning Thief",
           5635
          ],
          [
           "The Book of Eli",
           12882
          ],
          [
           "Blue Valentine",
           14633
          ],
          [
           "Knight and Day",
           33863
          ],
          [
           "Piranha 3D",
           4233
          ],
          [
           "127 Hours",
           50427
          ],
          [
           "The Expendables",
           12117
          ],
          [
           "The Other Guys",
           22092
          ],
          [
           "TRON: Legacy",
           49581
          ],
          [
           "Life as We Know It",
           15645
          ],
          [
           "Toy Story 3",
           18771
          ],
          [
           "The Next Three Days",
           1930
          ],
          [
           "Easy A",
           37638
          ],
          [
           "The Fighter",
           5558
          ],
          [
           "Machete",
           2363
          ],
          [
           "The Debt",
           864
          ],
          [
           "Megamind",
           941
          ],
          [
           "The Losers",
           2287
          ],
          [
           "Unstoppable",
           6512
          ],
          [
           "Eat Pray Love",
           21037
          ],
          [
           "Centurion",
           10447
          ],
          [
           "The A-Team",
           1372
          ],
          [
           "Hot Tub Time Machine",
           3926
          ],
          [
           "Prince of Persia: the Sands of Time",
           18836
          ],
          [
           "Diary of a Wimpy Kid",
           10968
          ],
          [
           "Never Let Me Go",
           52940
          ],
          [
           "Predators",
           9129
          ],
          [
           "Buried",
           12109
          ],
          [
           "Legion",
           8736
          ],
          [
           "Remember Me",
           19822
          ],
          [
           "Jonah Hex",
           9113
          ],
          [
           "Salt",
           21317
          ],
          [
           "Morning Glory",
           9210
          ],
          [
           "Resident Evil: Afterlife",
           3419
          ],
          [
           "Takers",
           4339
          ],
          [
           "The Way Back",
           177
          ],
          [
           "Killers",
           9740
          ],
          [
           "Due Date",
           489
          ],
          [
           "Devil",
           11280
          ],
          [
           "Green Zone",
           4104
          ],
          [
           "Faster",
           7870
          ],
          [
           "Super",
           4216
          ],
          [
           "The Crazies",
           11335
          ],
          [
           "Shrek Forever After",
           5855
          ],
          [
           "The Chronicles of Narnia: the Voyage of the Dawn Treader",
           388
          ],
          [
           "Let Me In",
           10559
          ],
          [
           "The Kids Are All Right",
           2641
          ],
          [
           "Date Night",
           7358
          ],
          [
           "Leap Year",
           21071
          ],
          [
           "Little Fockers",
           383
          ],
          [
           "The Runaways",
           1123
          ],
          [
           "MacGruber",
           1904
          ],
          [
           "The Ghost Writer",
           1056
          ],
          [
           "Skyline",
           5133
          ],
          [
           "Edge of Darkness",
           1146
          ],
          [
           "Ramona and Beezus",
           1146
          ],
          [
           "Letters to Juliet",
           33020
          ],
          [
           "Dear John",
           51562
          ],
          [
           "Get Him to the Greek",
           4603
          ],
          [
           "Dinner for Schmucks",
           7008
          ],
          [
           "How Do You Know",
           4211
          ],
          [
           "The Secret World of Arrietty",
           42831
          ],
          [
           "Tooth Fairy",
           9626
          ],
          [
           "The Switch",
           12810
          ],
          [
           "Wall Street: Money Never Sleeps",
           7558
          ],
          [
           "The Last Song",
           1959
          ],
          [
           "Cop Out",
           4108
          ],
          [
           "Rubber",
           15224
          ],
          [
           "You Again",
           816
          ],
          [
           "The Bounty Hunter",
           429
          ],
          [
           "From Paris with Love",
           1083
          ],
          [
           "13 Assassins",
           5443
          ],
          [
           "Nanny McPhee Returns",
           10451
          ],
          [
           "Wild Target",
           1725
          ],
          [
           "When in Rome",
           695
          ],
          [
           "Going the Distance",
           221
          ],
          [
           "Somewhere",
           4299
          ],
          [
           "Secretariat",
           4948
          ],
          [
           "The Spy Next Door",
           2996
          ],
          [
           "Hereafter",
           2074
          ],
          [
           "Repo Men",
           5963
          ],
          [
           "Vampires Suck",
           13777
          ],
          [
           "Twelve",
           794
          ],
          [
           "Beginners",
           2177
          ],
          [
           "Rabbit Hole",
           1843
          ],
          [
           "Conviction",
           4902
          ],
          [
           "My Name Is Khan",
           19710
          ],
          [
           "The Company Men",
           344
          ],
          [
           "Cyrus",
           2722
          ],
          [
           "Paranormal Activity 2",
           15428
          ],
          [
           "The Killer Inside Me",
           682
          ],
          [
           "The Extra Man",
           416
          ],
          [
           "Stone",
           973
          ],
          [
           "Why Did I Get Married Too?",
           2507
          ],
          [
           "The Last Exorcism",
           3782
          ],
          [
           "Dirty Girl",
           81
          ],
          [
           "London Boulevard",
           2114
          ],
          [
           "The Back-up Plan",
           4157
          ],
          [
           "Country Strong",
           1187
          ],
          [
           "Charlie St. Cloud",
           7193
          ],
          [
           "Stake Land",
           810
          ],
          [
           "Vanishing on 7th Street",
           1598
          ],
          [
           "You Will Meet a Tall Dark Stranger",
           259
          ],
          [
           "The Conspirator",
           417
          ],
          [
           "The Tempest",
           181
          ],
          [
           "Extraordinary Measures",
           370
          ],
          [
           "Yogi Bear",
           687
          ],
          [
           "My Soul to Take",
           2461
          ],
          [
           "Hatchet II",
           454
          ],
          [
           "Hesher",
           96
          ],
          [
           "For Colored Girls",
           3688
          ],
          [
           "The Perfect Host",
           1946
          ],
          [
           "Love Ranch",
           41
          ],
          [
           "Passion Play",
           1797
          ],
          [
           "Everything Must Go",
           1374
          ],
          [
           "Captain America: the First Avenger",
           91833
          ],
          [
           "Thor",
           76148
          ],
          [
           "Harry Potter and the Deathly Hallows: Part 2",
           87471
          ],
          [
           "Take Shelter",
           3734
          ],
          [
           "Bridesmaids",
           11434
          ],
          [
           "Fast Five",
           11359
          ],
          [
           "Midnight in Paris",
           14339
          ],
          [
           "Moneyball",
           13395
          ],
          [
           "Just Go with It",
           15640
          ],
          [
           "Drive",
           37853
          ],
          [
           "Green Lantern",
           12260
          ],
          [
           "The Cabin in the Woods",
           31766
          ],
          [
           "The Help",
           9598
          ],
          [
           "Crazy, Stupid, Love.",
           30930
          ],
          [
           "No Strings Attached",
           5803
          ],
          [
           "Pirates of the Caribbean: on Stranger Tides",
           686
          ],
          [
           "Sucker Punch",
           17829
          ],
          [
           "Warrior",
           29344
          ],
          [
           "Kung Fu Panda 2",
           8560
          ],
          [
           "Friends with Benefits",
           7858
          ],
          [
           "Immortals",
           10775
          ],
          [
           "X-Men: First Class",
           10133
          ],
          [
           "Contagion",
           129672
          ],
          [
           "Bad Teacher",
           24034
          ],
          [
           "In Time",
           24151
          ],
          [
           "One Day",
           77821
          ],
          [
           "Scream 4",
           7208
          ],
          [
           "Shame",
           6698
          ],
          [
           "Mission: Impossible - Ghost Protocol",
           15741
          ],
          [
           "We Need to Talk About Kevin",
           11717
          ],
          [
           "Limitless",
           26881
          ],
          [
           "Unknown",
           7813
          ],
          [
           "Transformers: Dark of the Moon",
           1618
          ],
          [
           "Cowboys & Aliens",
           13424
          ],
          [
           "The Twilight Saga: Breaking Dawn - Part 1",
           5750
          ],
          [
           "Cars 2",
           28140
          ],
          [
           "Rango",
           3712
          ],
          [
           "Melancholia",
           1355
          ],
          [
           "Source Code",
           20716
          ],
          [
           "Real Steel",
           4375
          ],
          [
           "Horrible Bosses",
           8734
          ],
          [
           "Rio",
           1533
          ],
          [
           "Sherlock Holmes: A Game of Shadows",
           8290
          ],
          [
           "Tower Heist",
           12538
          ],
          [
           "Paul",
           8773
          ],
          [
           "We Bought a Zoo",
           7933
          ],
          [
           "Rise of the Planet of the Apes",
           11476
          ],
          [
           "Your Highness",
           10832
          ],
          [
           "The Lincoln Lawyer",
           5232
          ],
          [
           "Colombiana",
           25466
          ],
          [
           "Larry Crowne",
           1480
          ],
          [
           "Abduction",
           27042
          ],
          [
           "A Separation",
           313
          ],
          [
           "Hugo",
           6579
          ],
          [
           "The Adjustment Bureau",
           8818
          ],
          [
           "The Tree of Life",
           16373
          ],
          [
           "Margin Call",
           12332
          ],
          [
           "Hanna",
           14209
          ],
          [
           "50/50",
           3409
          ],
          [
           "The Descendants",
           3096
          ],
          [
           "The Adventures of Tintin",
           4530
          ],
          [
           "Drive Angry",
           3439
          ],
          [
           "Jack and Jill",
           8968
          ],
          [
           "The Hangover Part II",
           20142
          ],
          [
           "The Mechanic",
           13825
          ],
          [
           "Ghost Rider: Spirit of Vengeance",
           13152
          ],
          [
           "Battle Los Angeles",
           8849
          ],
          [
           "The Green Hornet",
           6847
          ],
          [
           "Killer Elite",
           7037
          ],
          [
           "The Smurfs",
           6297
          ],
          [
           "The Ides of March",
           1294
          ],
          [
           "Soul Surfer",
           11354
          ],
          [
           "The Artist",
           28
          ],
          [
           "Bucky Larson: Born to Be a Star",
           2046
          ],
          [
           "Diary of a Wimpy Kid: Rodrick Rules",
           1980
          ],
          [
           "Carnage",
           1599
          ],
          [
           "Attack the Block",
           7667
          ],
          [
           "The Guard",
           1481
          ],
          [
           "Gnomeo & Juliet",
           2465
          ],
          [
           "Puss in Boots",
           4520
          ],
          [
           "Bernie",
           2090
          ],
          [
           "Season of the Witch",
           2292
          ],
          [
           "Spy Kids 4-D: All the Time in the World",
           114
          ],
          [
           "The Divide",
           2338
          ],
          [
           "Red Riding Hood",
           2580
          ],
          [
           "The Roommate",
           7814
          ],
          [
           "Monte Carlo",
           3959
          ],
          [
           "Alvin and the Chipmunks: Chipwrecked",
           34792
          ],
          [
           "Our Idiot Brother",
           3411
          ],
          [
           "Sanctum",
           12592
          ],
          [
           "The Big Year",
           3145
          ],
          [
           "Straw Dogs",
           4502
          ],
          [
           "The Iron Lady",
           12768
          ],
          [
           "Courageous",
           4044
          ],
          [
           "Django Unchained",
           15674
          ],
          [
           "The Hobbit: An Unexpected Journey",
           33523
          ],
          [
           "The Hunger Games",
           48209
          ],
          [
           "The Dark Knight Rises",
           124235
          ],
          [
           "Pitch Perfect",
           15102
          ],
          [
           "This Is 40",
           6955
          ],
          [
           "The Hunt",
           10353
          ],
          [
           "Prometheus",
           8584
          ],
          [
           "Moonrise Kingdom",
           25749
          ],
          [
           "The Impossible",
           80658
          ],
          [
           "Argo",
           11885
          ],
          [
           "The Twilight Saga: Breaking Dawn - Part 2",
           6144
          ],
          [
           "Jack Reacher",
           12827
          ],
          [
           "Zero Dark Thirty",
           15769
          ],
          [
           "Cloud Atlas",
           101592
          ],
          [
           "Skyfall",
           94648
          ],
          [
           "The Perks of Being a Wallflower",
           111215
          ],
          [
           "The Amazing Spider-Man",
           86971
          ],
          [
           "Les Misérables",
           21322
          ],
          [
           "Silver Linings Playbook",
           6843
          ],
          [
           "Snow White and the Huntsman",
           8093
          ],
          [
           "The Master",
           12347
          ],
          [
           "Looper",
           27235
          ],
          [
           "Killing Them Softly",
           983
          ],
          [
           "Flight",
           10202
          ],
          [
           "21 Jump Street",
           22228
          ],
          [
           "Ted",
           71744
          ],
          [
           "Sinister",
           53308
          ],
          [
           "This Means War",
           13411
          ],
          [
           "Lincoln",
           19758
          ],
          [
           "Brave",
           54034
          ],
          [
           "The Place Beyond the Pines",
           20034
          ],
          [
           "Dredd",
           17032
          ],
          [
           "Dark Shadows",
           29825
          ],
          [
           "John Carter",
           14315
          ],
          [
           "Battleship",
           15916
          ],
          [
           "Magic Mike",
           25335
          ],
          [
           "Hotel Transylvania",
           16742
          ],
          [
           "Lawless",
           2133
          ],
          [
           "Spring Breakers",
           11383
          ],
          [
           "Underworld: Awakening",
           10925
          ],
          [
           "Piranha 3DD",
           65676
          ],
          [
           "Safe House",
           20243
          ],
          [
           "Seeking a Friend for the End of the World",
           3176
          ],
          [
           "The Bourne Legacy",
           11011
          ],
          [
           "Abraham Lincoln: Vampire Hunter",
           14211
          ],
          [
           "Wreck-It Ralph",
           32359
          ],
          [
           "American Reunion",
           9890
          ],
          [
           "Savages",
           6697
          ],
          [
           "Life of Pi",
           24527
          ],
          [
           "Resident Evil: Retribution",
           25792
          ],
          [
           "Men in Black 3",
           73770
          ],
          [
           "Journey 2: The Mysterious Island",
           18214
          ],
          [
           "Seven Psychopaths",
           15910
          ],
          [
           "Rock of Ages",
           4681
          ],
          [
           "The Wolf of Wall Street",
           172205
          ],
          [
           "Iron Man 3",
           101735
          ],
          [
           "The Conjuring",
           117090
          ],
          [
           "Prisoners",
           54430
          ],
          [
           "Thor: The Dark World",
           100513
          ],
          [
           "The Purge",
           186208
          ],
          [
           "Grown Ups 2",
           17014
          ],
          [
           "Fast & Furious 6",
           98600
          ],
          [
           "Gravity",
           65363
          ],
          [
           "About Time",
           78972
          ],
          [
           "The Hobbit: The Desolation of Smaug",
           66235
          ],
          [
           "Man of Steel",
           226093
          ],
          [
           "Star Trek Into Darkness",
           23298
          ],
          [
           "The Hunger Games: Catching Fire",
           188867
          ],
          [
           "Homefront",
           40711
          ],
          [
           "Movie 43",
           14708
          ],
          [
           "World War Z",
           26653
          ],
          [
           "12 Years a Slave",
           16442
          ],
          [
           "G.I. Joe: Retaliation",
           14394
          ],
          [
           "Dallas Buyers Club",
           2837
          ],
          [
           "The Secret Life of Walter Mitty",
           27434
          ],
          [
           "Pacific Rim",
           88449
          ],
          [
           "The Croods",
           30389
          ],
          [
           "The Way Way Back",
           19621
          ],
          [
           "The Internship",
           1018
          ],
          [
           "Elysium",
           40845
          ],
          [
           "Hansel & Gretel: Witch Hunters",
           35400
          ],
          [
           "Captain Phillips",
           18367
          ],
          [
           "Evil Dead",
           9283
          ],
          [
           "White House Down",
           10698
          ],
          [
           "Olympus Has Fallen",
           20707
          ],
          [
           "Lone Survivor",
           58718
          ],
          [
           "Oz the Great and Powerful",
           20660
          ],
          [
           "Pain & Gain",
           67115
          ],
          [
           "Out of the Furnace",
           14666
          ],
          [
           "Coherence",
           8641
          ],
          [
           "Stoker",
           9696
          ],
          [
           "The Mortal Instruments: City of Bones",
           64658
          ],
          [
           "Mama",
           53583
          ],
          [
           "Guardians of the Galaxy",
           78563
          ],
          [
           "Interstellar",
           200297
          ],
          [
           "John Wick",
           40428
          ],
          [
           "Edge of Tomorrow",
           64726
          ],
          [
           "Gone Girl",
           23893
          ],
          [
           "Captain America: The Winter Soldier",
           138030
          ],
          [
           "The Grand Budapest Hotel",
           67822
          ],
          [
           "Whiplash",
           61566
          ],
          [
           "Kingsman: The Secret Service",
           79929
          ],
          [
           "Ex Machina",
           28195
          ],
          [
           "Divergent",
           140505
          ],
          [
           "Nightcrawler",
           25185
          ],
          [
           "The Hobbit: The Battle of the Five Armies",
           113602
          ],
          [
           "The Maze Runner",
           70191
          ],
          [
           "Lucy",
           179918
          ],
          [
           "What We Do in the Shadows",
           50697
          ],
          [
           "The Imitation Game",
           4977
          ],
          [
           "X-Men: Days of Future Past",
           152816
          ],
          [
           "Predestination",
           27462
          ],
          [
           "Birdman or (The Unexpected Virtue of Ignorance)",
           39894
          ],
          [
           "It Follows",
           42512
          ],
          [
           "Blended",
           51670
          ],
          [
           "The Judge",
           62554
          ],
          [
           "The Giver",
           37191
          ],
          [
           "300: Rise of an Empire",
           63441
          ],
          [
           "American Sniper",
           68301
          ],
          [
           "Big Hero 6",
           63228
          ],
          [
           "The Amazing Spider-Man 2",
           252152
          ],
          [
           "Maleficent",
           68791
          ],
          [
           "Into the Woods",
           13104
          ],
          [
           "Unbroken",
           55996
          ],
          [
           "The Lego Movie",
           124291
          ],
          [
           "The Hunger Games: Mockingjay - Part 1",
           51069
          ],
          [
           "Tusk",
           30464
          ],
          [
           "Night at the Museum: Secret of the Tomb",
           22192
          ],
          [
           "The Fault in Our Stars",
           603405
          ],
          [
           "As Above, So Below",
           26081
          ],
          [
           "Annabelle",
           72587
          ],
          [
           "Boyhood",
           33531
          ],
          [
           "The Theory of Everything",
           229534
          ],
          [
           "The Expendables 3",
           45880
          ],
          [
           "The Interview",
           27390
          ],
          [
           "The Drop",
           23550
          ],
          [
           "Transformers: Age of Extinction",
           40476
          ],
          [
           "Inherent Vice",
           20329
          ],
          [
           "The Babadook",
           71549
          ],
          [
           "Sex Tape",
           16882
          ],
          [
           "The Other Woman",
           118092
          ],
          [
           "Wild Tales",
           5511
          ],
          [
           "Wild",
           21271
          ],
          [
           "Foxcatcher",
           15327
          ],
          [
           "The Guest",
           29772
          ],
          [
           "Mad Max: Fury Road",
           155468
          ],
          [
           "Avengers: Age of Ultron",
           740121
          ],
          [
           "Crimson Peak",
           19882
          ],
          [
           "The Big Short",
           48193
          ],
          [
           "Jurassic World",
           370725
          ],
          [
           "The Martian",
           94716
          ],
          [
           "Room",
           64729
          ],
          [
           "Spotlight",
           22101
          ],
          [
           "Cinderella",
           181231
          ],
          [
           "In the Heart of the Sea",
           71459
          ],
          [
           "The Hunger Games: Mockingjay - Part 2",
           152940
          ],
          [
           "The Visit",
           53340
          ],
          [
           "Creed",
           155111
          ],
          [
           "Black Mass",
           17475
          ],
          [
           "Home",
           35130
          ],
          [
           "Pitch Perfect 2",
           42341
          ],
          [
           "San Andreas",
           84230
          ],
          [
           "Tomorrowland",
           43793
          ],
          [
           "The Danish Girl",
           99980
          ],
          [
           "Burnt",
           18558
          ],
          [
           "The Good Dinosaur",
           54298
          ],
          [
           "Hitman: Agent 47",
           88206
          ],
          [
           "Steve Jobs",
           77640
          ],
          [
           "Hardcore Henry",
           83453
          ],
          [
           "Demolition",
           18658
          ],
          [
           "Macbeth",
           12835
          ],
          [
           "Run All Night",
           17939
          ],
          [
           "Mr. Right",
           43372
          ],
          [
           "Magic Mike XXL",
           30250
          ],
          [
           "Victor Frankenstein",
           38357
          ],
          [
           "Goosebumps",
           60952
          ],
          [
           "Aloha",
           26355
          ],
          [
           "Baahubali: The Beginning",
           195603
          ],
          [
           "Secret in Their Eyes",
           15001
          ],
          [
           "Irrational Man",
           9962
          ],
          [
           "Beasts of No Nation",
           77000
          ],
          [
           "Me and Earl and the Dying Girl",
           41147
          ],
          [
           "Tangerine",
           9727
          ],
          [
           "A Walk in the Woods",
           631
          ],
          [
           "Eddie the Eagle",
           7810
          ],
          [
           "The Second Best Exotic Marigold Hotel",
           3635
          ],
          [
           "The Meddler",
           3377
          ],
          [
           "We Are Your Friends",
           113946
          ],
          [
           "Grandma",
           3111
          ],
          [
           "Project Almanac",
           24400
          ],
          [
           "Equals",
           6345
          ],
          [
           "Hot Pursuit",
           51631
          ],
          [
           "90 Minutes in Heaven",
           2421
          ],
          [
           "Rock the Kasbah",
           5769
          ],
          [
           "The Sea of Trees",
           5079
          ],
          [
           "The Lazarus Effect",
           17776
          ],
          [
           "Love the Coopers",
           23621
          ],
          [
           "Slow West",
           9513
          ],
          [
           "Cop Car",
           901
          ],
          [
           "Our Brand Is Crisis",
           4922
          ],
          [
           "Unfinished Business",
           4570
          ],
          [
           "Hot Tub Time Machine 2",
           7912
          ],
          [
           "Hello, My Name Is Doris",
           16793
          ],
          [
           "Ricki and the Flash",
           6922
          ],
          [
           "Danny Collins",
           4173
          ],
          [
           "Mr. Holmes",
           5410
          ],
          [
           "War Room",
           9140
          ],
          [
           "Dragon Blade",
           12312
          ],
          [
           "Suicide Squad",
           235967
          ],
          [
           "The Magnificent Seven",
           39840
          ],
          [
           "Captain America: Civil War",
           122895
          ],
          [
           "Deadpool",
           154073
          ],
          [
           "Doctor Strange",
           306662
          ],
          [
           "Split",
           142855
          ],
          [
           "Me Before You",
           208743
          ],
          [
           "Don't Breathe",
           148721
          ],
          [
           "Moana",
           168504
          ],
          [
           "Arrival",
           130760
          ],
          [
           "X-Men: Apocalypse",
           302978
          ],
          [
           "Captain Fantastic",
           27387
          ],
          [
           "Star Trek Beyond",
           69614
          ],
          [
           "La La Land",
           188671
          ],
          [
           "The Conjuring 2",
           186770
          ],
          [
           "Zootopia",
           88403
          ],
          [
           "Hacksaw Ridge",
           157113
          ],
          [
           "13 Hours",
           28750
          ],
          [
           "Rogue One: A Star Wars Story",
           338106
          ],
          [
           "Batman v Superman: Dawn of Justice",
           524980
          ],
          [
           "Kung Fu Panda 3",
           99967
          ],
          [
           "The Nice Guys",
           30895
          ],
          [
           "Independence Day: Resurgence",
           107839
          ],
          [
           "Miss Peregrine's Home for Peculiar Children",
           123026
          ],
          [
           "Fantastic Beasts and Where to Find Them",
           181647
          ],
          [
           "Resident Evil: The Final Chapter",
           62430
          ],
          [
           "Criminal",
           8457
          ],
          [
           "Underworld: Blood Wars",
           39261
          ],
          [
           "The Shallows",
           86734
          ],
          [
           "Sausage Party",
           74745
          ],
          [
           "Hell or High Water",
           16970
          ],
          [
           "The Purge: Election Year",
           52052
          ],
          [
           "The Accountant",
           45626
          ],
          [
           "The Neon Demon",
           47513
          ],
          [
           "Moonlight",
           78900
          ],
          [
           "Jason Bourne",
           43750
          ],
          [
           "Manchester by the Sea",
           34686
          ],
          [
           "Central Intelligence",
           369103
          ],
          [
           "War Dogs",
           55825
          ],
          [
           "The Legend of Tarzan",
           144633
          ],
          [
           "Silence",
           35996
          ],
          [
           "Gods of Egypt",
           81829
          ],
          [
           "The Founder",
           31777
          ],
          [
           "Inferno",
           39487
          ],
          [
           "Now You See Me 2",
           69925
          ],
          [
           "Miss Sloane",
           11317
          ],
          [
           "10 Cloverfield Lane",
           43732
          ],
          [
           "The Lost City of Z",
           14275
          ],
          [
           "Finding Dory",
           196235
          ],
          [
           "Lion",
           121976
          ],
          [
           "Allied",
           27554
          ],
          [
           "Jack Reacher: Never Go Back",
           54084
          ],
          [
           "Snowden",
           100159
          ],
          [
           "Triple 9",
           18855
          ],
          [
           "Deepwater Horizon",
           39891
          ],
          [
           "Sully",
           71289
          ],
          [
           "Morgan",
           17302
          ],
          [
           "The Edge of Seventeen",
           6380
          ],
          [
           "The 5th Wave",
           106496
          ],
          [
           "The Great Wall",
           38046
          ],
          [
           "The Boy",
           73792
          ],
          [
           "The Belko Experiment",
           22749
          ],
          [
           "The Angry Birds Movie",
           45060
          ],
          [
           "Nerve",
           70211
          ],
          [
           "Jackie",
           24160
          ],
          [
           "Keanu",
           12468
          ],
          [
           "Kubo and the Two Strings",
           10159
          ],
          [
           "Office Christmas Party",
           13384
          ],
          [
           "Leap!",
           14431
          ],
          [
           "Ouija: Origin of Evil",
           35603
          ],
          [
           "All I See Is You",
           12777
          ],
          [
           "Money Monster",
           9994
          ],
          [
           "Bleed for This",
           79634
          ],
          [
           "Mr. Church",
           27490
          ],
          [
           "Ride Along 2",
           54972
          ],
          [
           "Race",
           15116
          ],
          [
           "Incarnate",
           423
          ],
          [
           "Thor: Ragnarok",
           890224
          ],
          [
           "Darkest Hour",
           21853
          ],
          [
           "It",
           268774
          ],
          [
           "Spider-Man: Homecoming",
           87021
          ],
          [
           "Blade Runner 2049",
           243765
          ],
          [
           "Guardians of the Galaxy Vol. 2",
           257340
          ],
          [
           "The Greatest Showman",
           119335
          ],
          [
           "Jumanji: Welcome to the Jungle",
           197315
          ],
          [
           "Baywatch",
           74664
          ],
          [
           "Home Again",
           107067
          ],
          [
           "The Fate of the Furious",
           163877
          ],
          [
           "Get Out",
           127646
          ],
          [
           "Dunkirk",
           338025
          ],
          [
           "Coco",
           41744
          ],
          [
           "Baby Driver",
           127545
          ],
          [
           "The Boss Baby",
           84497
          ],
          [
           "Logan",
           334891
          ],
          [
           "Wonder Woman",
           262465
          ],
          [
           "Alien: Covenant",
           188342
          ],
          [
           "John Wick: Chapter 2",
           102864
          ],
          [
           "Wonder",
           201198
          ],
          [
           "Justice League",
           458661
          ],
          [
           "Mother!",
           63426
          ],
          [
           "Pirates of the Caribbean: Dead Men Tell No Tales",
           163611
          ],
          [
           "The Shape of Water",
           138078
          ],
          [
           "Disobedience",
           34881
          ],
          [
           "Kong: Skull Island",
           95769
          ],
          [
           "Kingsman: The Golden Circle",
           218799
          ],
          [
           "Three Billboards Outside Ebbing, Missouri",
           47704
          ],
          [
           "Star Wars: Episode VIII - The Last Jedi",
           796245
          ],
          [
           "I, Tonya",
           45093
          ],
          [
           "Atomic Blonde",
           8207
          ],
          [
           "Wind River",
           14013
          ],
          [
           "Murder on the Orient Express",
           97444
          ],
          [
           "King Arthur: Legend of the Sword",
           42234
          ],
          [
           "Lady Bird",
           156123
          ],
          [
           "Logan Lucky",
           34154
          ],
          [
           "Fifty Shades Darker",
           96130
          ],
          [
           "Happy Death Day",
           55477
          ],
          [
           "Transformers: The Last Knight",
           146912
          ],
          [
           "Good Time",
           25853
          ],
          [
           "Ghost in the Shell",
           193176
          ],
          [
           "Hostiles",
           9137
          ],
          [
           "Valerian and the City of a Thousand Planets",
           61741
          ],
          [
           "The Dark Tower",
           145180
          ],
          [
           "Pitch Perfect 3",
           106065
          ],
          [
           "American Assassin",
           29109
          ],
          [
           "The Florida Project",
           49574
          ],
          [
           "The Death of Stalin",
           30509
          ],
          [
           "Gifted",
           162214
          ],
          [
           "Phantom Thread",
           34399
          ],
          [
           "The Upside",
           18734
          ],
          [
           "Annabelle: Creation",
           43365
          ],
          [
           "American Made",
           35457
          ],
          [
           "Geostorm",
           63625
          ],
          [
           "CHIPS",
           10306
          ],
          [
           "Ferdinand",
           15015
          ],
          [
           "Only the Brave",
           14902
          ],
          [
           "The Beguiled",
           27068
          ],
          [
           "The Glass Castle",
           15285
          ],
          [
           "The Big Sick",
           22128
          ],
          [
           "The Foreigner",
           92766
          ],
          [
           "Jigsaw",
           95223
          ],
          [
           "The Snowman",
           77506
          ],
          [
           "The Disaster Artist",
           72635
          ],
          [
           "47 Meters Down",
           29154
          ],
          [
           "The Post",
           24209
          ],
          [
           "Everything, Everything",
           134314
          ],
          [
           "All the Money in the World",
           22299
          ],
          [
           "Suburbicon",
           19934
          ],
          [
           "Despicable Me 3",
           129976
          ],
          [
           "Going in Style",
           24957
          ],
          [
           "Downsizing",
           33565
          ],
          [
           "Before I Fall",
           87683
          ],
          [
           "Wonder Wheel",
           4114
          ],
          [
           "Paddington 2",
           4712
          ],
          [
           "Girls Trip",
           20776
          ],
          [
           "The Space Between Us",
           41810
          ],
          [
           "The Mountain Between Us",
           18937
          ],
          [
           "T2 Trainspotting",
           8766
          ],
          [
           "The Hero",
           3618
          ],
          [
           "Battle of the Sexes",
           13306
          ],
          [
           "The Book of Henry",
           118577
          ],
          [
           "The Shack",
           36595
          ],
          [
           "Rings",
           58008
          ],
          [
           "The Lego Ninjago Movie",
           53773
          ],
          [
           "The House",
           28352
          ],
          [
           "Detroit",
           2532
          ],
          [
           "All Eyez on Me",
           45572
          ],
          [
           "Sleepless",
           33745
          ],
          [
           "Tulip Fever",
           32087
          ],
          [
           "Stronger",
           35671
          ],
          [
           "Smurfs: The Lost Village",
           14852
          ],
          [
           "Snatched",
           10558
          ],
          [
           "Victoria & Abdul",
           67208
          ],
          [
           "Fist Fight",
           17122
          ],
          [
           "How to Be a Latin Lover",
           11512
          ],
          [
           "Same Kind of Different as Me",
           363
          ],
          [
           "My Little Pony: The Movie",
           31702
          ],
          [
           "Table 19",
           9700
          ],
          [
           "Father Figures",
           187
          ],
          [
           "Kidnap",
           1372
          ],
          [
           "Diary of a Wimpy Kid: The Long Haul",
           14803
          ],
          [
           "Churchill",
           3436
          ],
          [
           "The Bookshop",
           829
          ],
          [
           "A Bad Moms Christmas",
           17075
          ],
          [
           "Captain Underpants: The First Epic Movie",
           185783
          ],
          [
           "Wish Upon",
           22365
          ],
          [
           "Marshall",
           8617
          ],
          [
           "The Resurrection of Gavin Stone",
           2981
          ],
          [
           "The Bye Bye Man",
           23558
          ],
          [
           "A Quiet Place",
           154582
          ],
          [
           "Avengers: Infinity War",
           4102339
          ],
          [
           "Deadpool 2",
           661628
          ],
          [
           "Bohemian Rhapsody",
           367993
          ],
          [
           "Black Panther",
           576783
          ],
          [
           "A Simple Favor",
           2343
          ],
          [
           "Aquaman",
           677746
          ],
          [
           "Ready Player One",
           331044
          ],
          [
           "Spider-Man: Into the Spider-Verse",
           580550
          ],
          [
           "Mission: Impossible - Fallout",
           351165
          ],
          [
           "Venom",
           1468099
          ],
          [
           "Green Book",
           68876
          ],
          [
           "The Predator",
           108504
          ],
          [
           "White Boy Rick",
           30464
          ],
          [
           "Solo: A Star Wars Story",
           229168
          ],
          [
           "Midnight Sun",
           78776
          ],
          [
           "Under the Silver Lake",
           38193
          ],
          [
           "Den of Thieves",
           35648
          ],
          [
           "Annihilation",
           97457
          ],
          [
           "Red Sparrow",
           78384
          ],
          [
           "A Star Is Born",
           241932
          ],
          [
           "Mamma Mia! Here We Go Again",
           60009
          ],
          [
           "Instant Family",
           65271
          ],
          [
           "Jurassic World: Fallen Kingdom",
           668509
          ],
          [
           "Eighth Grade",
           85012
          ],
          [
           "Suspiria",
           2430
          ],
          [
           "The Favourite",
           49892
          ],
          [
           "The Meg",
           325284
          ],
          [
           "Mandy",
           17894
          ],
          [
           "Sicario: Day of the Soldado",
           45948
          ],
          [
           "Fifty Shades Freed",
           23655
          ],
          [
           "Incredibles 2",
           486958
          ],
          [
           "The First Purge",
           134779
          ],
          [
           "Ophelia",
           42001
          ],
          [
           "The Nun",
           404832
          ],
          [
           "The Equalizer 2",
           48539
          ],
          [
           "The Commuter",
           22718
          ],
          [
           "Game Night",
           28550
          ],
          [
           "Tag",
           70565
          ],
          [
           "The Hate U Give",
           279734
          ],
          [
           "Bad Times at the El Royale",
           36643
          ],
          [
           "Fantastic Beasts: The Crimes of Grindelwald",
           172765
          ],
          [
           "Hunter Killer",
           40950
          ],
          [
           "The Mule",
           90049
          ],
          [
           "Beautiful Boy",
           16319
          ],
          [
           "Capharnaüm",
           20324
          ],
          [
           "Adrift",
           48941
          ],
          [
           "Love, Simon",
           169906
          ],
          [
           "Bumblebee",
           264392
          ],
          [
           "Vice",
           28700
          ],
          [
           "Hotel Transylvania 3: Summer Vacation",
           67794
          ],
          [
           "Mile 22",
           63794
          ],
          [
           "Peter Rabbit",
           21905
          ],
          [
           "The Spy Who Dumped Me",
           27294
          ],
          [
           "Mary Queen of Scots",
           50368
          ],
          [
           "Ralph Breaks the Internet",
           252402
          ],
          [
           "Overlord",
           69380
          ],
          [
           "Mortal Engines",
           140069
          ],
          [
           "Creed II",
           167926
          ],
          [
           "Mid90s",
           131083
          ],
          [
           "Replicas",
           18252
          ],
          [
           "Searching",
           76560
          ],
          [
           "Slender Man",
           242545
          ],
          [
           "Arctic",
           30402
          ],
          [
           "London Fields",
           5671
          ],
          [
           "The House with a Clock in Its Walls",
           32991
          ],
          [
           "Can You Ever Forgive Me?",
           9644
          ],
          [
           "Johnny English Strikes Again",
           290493
          ],
          [
           "The Nutcracker and the Four Realms",
           50130
          ],
          [
           "Winchester",
           21487
          ],
          [
           "The 15:17 to Paris",
           23542
          ],
          [
           "SuperFly",
           35233
          ],
          [
           "Early Man",
           11383
          ],
          [
           "Kin",
           2722
          ],
          [
           "Goosebumps 2: Haunted Halloween",
           42352
          ],
          [
           "Midsommar",
           173185
          ],
          [
           "Once Upon a Time... In Hollywood",
           358875
          ],
          [
           "Avengers: Endgame",
           3401396
          ],
          [
           "Escape Room",
           153381
          ],
          [
           "Joker",
           1497107
          ],
          [
           "Yesterday",
           85831
          ],
          [
           "John Wick: Chapter 3 - Parabellum",
           559408
          ],
          [
           "Knives Out",
           73367
          ],
          [
           "Fast & Furious Presents: Hobbs & Shaw",
           459689
          ],
          [
           "Captain Marvel",
           1133775
          ],
          [
           "After",
           4917
          ],
          [
           "Spider-Man: Far from Home",
           1995083
          ],
          [
           "Jojo Rabbit",
           282551
          ],
          [
           "It Chapter Two",
           485185
          ],
          [
           "1917",
           207588
          ],
          [
           "Star Wars: Episode IX - The Rise of Skywalker",
           677248
          ],
          [
           "Ford v Ferrari",
           152996
          ],
          [
           "The Irishman",
           106088
          ],
          [
           "Jumanji: The Next Level",
           333086
          ],
          [
           "Alita: Battle Angel",
           169458
          ],
          [
           "Us",
           338971
          ],
          [
           "Ready or Not",
           107675
          ],
          [
           "Terminator: Dark Fate",
           145378
          ],
          [
           "Downton Abbey",
           56201
          ],
          [
           "Gemini Man",
           175444
          ],
          [
           "Booksmart",
           10204
          ],
          [
           "Dora and the Lost City of Gold",
           434451
          ],
          [
           "Glass",
           268356
          ],
          [
           "The Best of Enemies",
           4255
          ],
          [
           "Marriage Story",
           73749
          ],
          [
           "Godzilla: King of the Monsters",
           346785
          ],
          [
           "Rocketman",
           141190
          ],
          [
           "Hustlers",
           6582
          ],
          [
           "Toy Story 4",
           1112712
          ],
          [
           "Zombieland: Double Tap",
           319869
          ],
          [
           "Long Shot",
           23019
          ],
          [
           "Angel Has Fallen",
           47176
          ],
          [
           "Men in Black: International",
           351642
          ],
          [
           "X-Men: Dark Phoenix",
           244878
          ],
          [
           "Frozen II",
           950304
          ],
          [
           "Brightburn",
           173849
          ],
          [
           "Ad Astra",
           44527
          ],
          [
           "The Peanut Butter Falcon",
           54292
          ],
          [
           "Good Boys",
           59628
          ],
          [
           "Ma",
           93033
          ],
          [
           "Five Feet Apart",
           167272
          ],
          [
           "Cold Pursuit",
           22810
          ],
          [
           "Crawl",
           325918
          ],
          [
           "Annabelle Comes Home",
           285500
          ],
          [
           "Rambo: Last Blood",
           178596
          ],
          [
           "Late Night",
           7178
          ],
          [
           "The Goldfinch",
           63612
          ],
          [
           "A Beautiful Day in the Neighborhood",
           188933
          ],
          [
           "How to Train Your Dragon: The Hidden World",
           129831
          ],
          [
           "The Secret Life of Pets 2",
           38379
          ],
          [
           "The Curse of la Llorona",
           30396
          ],
          [
           "Captive State",
           12934
          ],
          [
           "Scary Stories to Tell in the Dark",
           164310
          ],
          [
           "The Intruder",
           45956
          ],
          [
           "The Angry Birds Movie 2",
           27184
          ],
          [
           "What Men Want",
           50265
          ],
          [
           "Weathering with You",
           291312
          ],
          [
           "The Lego Movie 2: The Second Part",
           104143
          ],
          [
           "Dumbo",
           254799
          ],
          [
           "The Beach Bum",
           5511
          ],
          [
           "The Art of Racing in the Rain",
           88200
          ],
          [
           "Blinded by the Light",
           6565
          ],
          [
           "Ip Man 4: The Finale",
           191629
          ],
          [
           "Abominable",
           46219
          ],
          [
           "Miss Bala",
           30757
          ],
          [
           "Triple Threat",
           7072
          ],
          [
           "The Wandering Earth",
           17065
          ],
          [
           "Breakthrough",
           145645
          ],
          [
           "Poms",
           5754
          ],
          [
           "Little",
           25122
          ],
          [
           "The Prodigy",
           38095
          ],
          [
           "Overcomer",
           2420
          ],
          [
           "A Madea Family Funeral",
           9589
          ],
          [
           "The Sun Is also a Star",
           121378
          ],
          [
           "K-12",
           601360
          ],
          [
           "Unplanned",
           50183
          ],
          [
           "Tenet",
           311633
          ],
          [
           "Birds of Prey",
           343487
          ],
          [
           "The Invisible Man",
           59513
          ],
          [
           "Sonic the Hedgehog",
           1131694
          ],
          [
           "Dolittle",
           521491
          ],
          [
           "The Call of the Wild",
           100010
          ],
          [
           "The Eight Hundred",
           4365
          ],
          [
           "The Dressmaker",
           16547
          ],
          [
           "Paranormal Activity: The Ghost Dimension",
           23112
          ],
          [
           "Truth",
           3473
          ],
          [
           "Strangerland",
           2299
          ],
          [
           "Howl",
           8134
          ],
          [
           "Frankenstein",
           10044
          ],
          [
           "Anchorman 2: The Legend Continues",
           25866
          ]
         ],
         "hovertemplate": "Views=%{x}<br>Box_office=%{y}<br>name=%{customdata[0]}<br>Likes=%{customdata[1]}<extra></extra>",
         "legendgroup": "",
         "marker": {
          "color": "red",
          "symbol": "circle"
         },
         "mode": "markers",
         "name": "",
         "orientation": "v",
         "showlegend": false,
         "type": "scatter",
         "x": [
          2631629,
          2631629,
          289724,
          289724,
          1146945,
          1146945,
          1146945,
          1146945,
          1130539,
          1130539,
          2862275,
          2862275,
          604613,
          604613,
          1375254,
          1375254,
          1375254,
          958927,
          958927,
          283769,
          283769,
          1051353,
          1051353,
          498142,
          498142,
          454094,
          2613037,
          488396,
          1033543,
          1712766,
          1338910,
          16569486,
          1513595,
          826178,
          3395280,
          647496,
          1397592,
          9679306,
          6211461,
          2413736,
          1300613,
          1300613,
          1300613,
          2713539,
          1081784,
          1081784,
          36318,
          255417,
          1829617,
          201119,
          5950515,
          5950515,
          5950515,
          716842,
          716842,
          716842,
          1523630,
          505966,
          10413304,
          1149072,
          8149464,
          3349,
          45638,
          882417,
          1567300,
          2049437,
          1791704,
          689660,
          1773517,
          99901,
          3982126,
          622700,
          1632825,
          64927,
          329252,
          346487,
          6400218,
          131756,
          1614275,
          966992,
          893417,
          1969454,
          290055,
          13657067,
          851838,
          4398931,
          394209,
          5698660,
          251189,
          1815611,
          168330,
          3637076,
          712048,
          562540,
          49493,
          426186,
          582679,
          1775529,
          7386940,
          740315,
          303199,
          303199,
          1569102,
          2592291,
          408217,
          1360400,
          39827,
          639630,
          990775,
          3340687,
          2060772,
          3395280,
          3395280,
          119384,
          740303,
          1451467,
          1051549,
          1051549,
          1319802,
          5231591,
          2366,
          121081,
          15957,
          222699,
          523043,
          167576,
          255586,
          348309,
          1721726,
          9783955,
          367206,
          468018,
          1398366,
          1749787,
          1601074,
          22450,
          1909503,
          709282,
          420175,
          1511475,
          1511475,
          814668,
          429232,
          773764,
          243469,
          11304234,
          685904,
          10621826,
          1128222,
          11005,
          927225,
          10803581,
          13961,
          371089,
          18418664,
          5708600,
          12086764,
          5911899,
          18564278,
          48178612,
          18197819,
          2795962,
          4316799,
          5110072,
          11619457,
          7803121,
          3452380,
          1001331,
          18265832,
          39055146,
          1456540,
          588516,
          74398614,
          18286878,
          26515747,
          651647,
          3644746,
          41484626,
          37214177,
          12165094,
          2002004,
          1346608,
          16267262,
          337896,
          36817650,
          2600632,
          33969196,
          6057967,
          15613461,
          2031380,
          1737362,
          4901853,
          6874999,
          2129743,
          31988201,
          8114245,
          1612318,
          15253654,
          2087856,
          683751,
          9913503,
          6213673,
          2126156,
          303556,
          10456159,
          229249,
          141080,
          2307697,
          477503,
          1973236,
          2855717,
          7636777,
          6591557,
          3202983,
          22697146,
          815431,
          2709220,
          2657616,
          5820302,
          3539361,
          14244651,
          3046241,
          9090557,
          14836439,
          2143611,
          11571769,
          425690,
          10934727,
          1250291,
          946423,
          210760,
          450915,
          388412,
          1271247,
          6971741,
          6363489,
          174794,
          693033,
          6592749,
          6367147,
          16135421,
          2006499,
          2412906,
          2472802,
          2756773,
          5322266,
          9408098,
          6427313,
          811576,
          1058344,
          30736,
          1708311,
          116445,
          3307250,
          2046069,
          1732159,
          960420,
          3767408,
          7205019,
          75792,
          6090884,
          1000539,
          5274199,
          4254914,
          560463,
          316345,
          423087,
          353445,
          1791432,
          279218,
          279218,
          2307428,
          13433064,
          1269431,
          3302728,
          2225065,
          4938671,
          3823528,
          7717150,
          1130222,
          650888,
          1060172,
          1503928,
          144876,
          64964,
          694898,
          1295978,
          2565893,
          713932,
          195677,
          106145,
          1063167,
          2441997,
          816027,
          667469,
          4668217,
          1723974,
          435138,
          335896,
          750864,
          2496544,
          1364277,
          156663,
          2179362,
          19500763,
          451736,
          109367,
          434780,
          527283,
          1449805,
          43661,
          1006801,
          1455543,
          320016,
          909635,
          313900,
          208234,
          249841,
          115259,
          38413,
          224748,
          247728,
          435683,
          242238,
          11063,
          555143,
          745056,
          7780,
          423505,
          552481,
          11880743,
          26452579,
          12354163,
          746944,
          5241392,
          2850362,
          2574754,
          3995758,
          3714500,
          8541876,
          1891605,
          11062944,
          1670104,
          7930084,
          987810,
          88224,
          2375603,
          7566551,
          2324330,
          1673024,
          1620569,
          2209356,
          29659659,
          4289699,
          2933462,
          12692118,
          807713,
          2671005,
          2545952,
          1358112,
          4270400,
          2614690,
          331216,
          5506119,
          2456075,
          32797435,
          2392702,
          1083259,
          8724881,
          2808731,
          2508515,
          1611952,
          1861849,
          6332354,
          1307280,
          1163886,
          4863051,
          5898131,
          4195187,
          7440394,
          436718,
          8346497,
          110599,
          1231008,
          2182065,
          2559581,
          2248827,
          2673721,
          3865865,
          802593,
          392538,
          1030588,
          1410829,
          5369208,
          10444669,
          2234751,
          2219482,
          2906129,
          2288304,
          3532627,
          478014,
          2030815,
          9027,
          1018433,
          230958,
          335716,
          791737,
          387826,
          920065,
          1569906,
          861413,
          505900,
          40502,
          696192,
          834120,
          2063152,
          314711,
          14608154,
          1968267,
          2838752,
          2475688,
          2258297,
          1338953,
          773879,
          1888642,
          7546475,
          10110636,
          39401568,
          4480867,
          2945126,
          1534004,
          1615031,
          3457723,
          17304236,
          2940464,
          1803056,
          2742969,
          4062558,
          23026894,
          30617962,
          12384496,
          16911338,
          4258792,
          1069515,
          1592860,
          1504471,
          10084518,
          159350,
          2279375,
          4067800,
          24244725,
          8837203,
          3722929,
          4707014,
          21307820,
          2706712,
          3777695,
          3179045,
          5530850,
          5996735,
          10742854,
          5375901,
          429571,
          2056717,
          4669729,
          18462191,
          9501004,
          1413391,
          4750034,
          3540885,
          11764929,
          4228698,
          2061733,
          4842857,
          6889524,
          18455311,
          4361121,
          2659518,
          976292,
          29827668,
          30726463,
          35700932,
          13640817,
          21995061,
          41898109,
          4288270,
          29214620,
          20217081,
          16146782,
          14822584,
          49219655,
          8083980,
          32513220,
          11881584,
          4331536,
          12561639,
          6961538,
          2000714,
          810280,
          5490675,
          22812952,
          14830608,
          3746727,
          1872558,
          12058130,
          10676180,
          3569737,
          1269671,
          9223481,
          6289224,
          20280772,
          8099762,
          22892069,
          5733374,
          1490953,
          4171965,
          9425434,
          16198928,
          10366412,
          36084861,
          13765909,
          17336794,
          15802931,
          33160766,
          14054342,
          15226132,
          20701113,
          9018887,
          38789694,
          8726612,
          23968145,
          13182473,
          44271725,
          7196552,
          1425657,
          37469393,
          7809529,
          15755181,
          10498607,
          13661334,
          8385830,
          8575534,
          18562100,
          24735187,
          21355289,
          41330418,
          18209296,
          4133291,
          11701382,
          34729678,
          14054262,
          7085055,
          6823471,
          47647207,
          3193391,
          29233708,
          9422304,
          23911719,
          18068752,
          8892766,
          7494210,
          7078665,
          6856928,
          17088372,
          7791266,
          17203540,
          1262219,
          9620967,
          9058572,
          7642035,
          35993794,
          93136456,
          3065553,
          12773447,
          92701512,
          20224641,
          13800069,
          6057836,
          42139777,
          15513097,
          23716245,
          13554154,
          28173455,
          5324732,
          14727961,
          10185564,
          27265464,
          10381190,
          14475273,
          4914157,
          21569428,
          22356634,
          16277652,
          20703535,
          3298748,
          2705738,
          8945572,
          9848580,
          12169929,
          10504471,
          18523254,
          11032453,
          27672008,
          5153915,
          5444646,
          13896281,
          7496171,
          2800897,
          723041,
          885307,
          1265354,
          1106149,
          21065381,
          1112159,
          9618992,
          1098878,
          11298833,
          702611,
          2010404,
          1139867,
          6733696,
          6240021,
          3010137,
          611230,
          4619670,
          3578211,
          3022961,
          3334966,
          4274511,
          2396415,
          1565492,
          1646210,
          3792400,
          43612620,
          14142063,
          30313451,
          21036223,
          44742333,
          30697114,
          30004423,
          33417544,
          40308746,
          24311291,
          56516429,
          8749016,
          19343044,
          41291629,
          36561903,
          23702488,
          26214851,
          8391110,
          41658553,
          78302379,
          26686552,
          10156012,
          28382453,
          17778867,
          19229727,
          13903964,
          4578870,
          8757062,
          24346628,
          15489907,
          7171209,
          11426920,
          12510988,
          10976481,
          18845165,
          12621587,
          9731437,
          42912165,
          14548376,
          38000916,
          8090083,
          27144126,
          6192544,
          13804143,
          11690272,
          3803131,
          11454542,
          2533442,
          31593445,
          18210247,
          7006452,
          13187256,
          17823293,
          7735467,
          15721724,
          17685715,
          6923623,
          1429513,
          21198345,
          11983948,
          17667649,
          3502401,
          18298837,
          11773792,
          5330009,
          3088198,
          1066633,
          3845830,
          2205373,
          8777065,
          1940956,
          2626913,
          9218327,
          3306463,
          15658533,
          1992939,
          1154795,
          82243099,
          6353514,
          44280574,
          11351625,
          35623611,
          22560304,
          23654363,
          36663624,
          18761468,
          12546200,
          20630519,
          22583419,
          47784685,
          8796399,
          18613122,
          25098808,
          35233892,
          30776306,
          30246282,
          21138160,
          14469341,
          40391529,
          20490536,
          21176614,
          26297189,
          9139243,
          17746001,
          26172011,
          10260484,
          57803372,
          6672099,
          680370,
          3159917,
          15533608,
          10645412,
          20483382,
          12207289,
          24943042,
          7995923,
          21592352,
          3243822,
          34794506,
          2846147,
          10266703,
          29513664,
          9014982,
          5762583,
          6124737,
          3255527,
          17144647,
          11718705,
          14380986,
          9534011,
          14721588,
          17323551,
          2317347,
          8382765,
          3147923,
          4298558,
          2361654,
          4969048,
          11836682,
          19777041,
          14354923,
          8457067,
          9034518,
          18106381,
          11190272,
          7201575,
          4905116,
          39902910,
          6347825,
          11854993,
          11377667,
          2105234,
          852242,
          6920332,
          6498975,
          3505626,
          1051516,
          1375786,
          3276936,
          10082417,
          11206236,
          10832658,
          9251335,
          4800310,
          624850,
          4830120,
          8916345,
          4083493,
          4405453,
          4249448,
          3604054,
          7627060,
          4910894,
          3272448,
          59779,
          5965811,
          1866969,
          592708,
          5704042,
          3543070,
          255598,
          718510,
          4476409,
          12944992,
          3843430,
          1177621,
          511421,
          5697614,
          33230714,
          258808507,
          50169229,
          39090190,
          44884097,
          1202018,
          65230598,
          36958811,
          40304361,
          41547587,
          86084817,
          13913414,
          14868974,
          6201341,
          20357128,
          10658687,
          5229367,
          8110955,
          22147426,
          33282563,
          36250494,
          10264881,
          18311428,
          68680484,
          7844339,
          260805,
          11844645,
          50974171,
          2840418,
          16277000,
          3958340,
          164357291,
          19037801,
          3309683,
          53087617,
          12168962,
          10071799,
          10707151,
          13243866,
          22989427,
          26019770,
          15157622,
          12495931,
          16695416,
          12875468,
          2494925,
          7011652,
          30712813,
          28023160,
          12730025,
          18034696,
          12899254,
          7545097,
          10664625,
          5029019,
          21551133,
          16404403,
          28122135,
          20591714,
          6195350,
          4462130,
          10299418,
          24294703,
          10137480,
          1282513,
          6671844,
          5098502,
          17767318,
          6437662,
          18436190,
          6090134,
          8507166,
          3296421,
          430594,
          7862992,
          24447219,
          38690760,
          155072913,
          25933768,
          99868787,
          8869712,
          42550267,
          19419518,
          122627848,
          62162515,
          1071632,
          87314471,
          28751853,
          40817995,
          28236238,
          49420530,
          17437009,
          10413636,
          45820755,
          20341737,
          35330100,
          14756634,
          20008952,
          10911770,
          23041196,
          1200627,
          35286276,
          28612647,
          3048088,
          6494587,
          30130722,
          22019887,
          4629117,
          66617843,
          20932849,
          4861334,
          7656137,
          26134024,
          19935639,
          101359095,
          21340550,
          10696633,
          16652387,
          22901413,
          12486721,
          13827605,
          9295713,
          36721616,
          23745028,
          25953266,
          12189931,
          8231957,
          16001784,
          11483722,
          27320266,
          4340780,
          7081956,
          19083743,
          12134664,
          6379364,
          11716782,
          8928855,
          11638598,
          21239912,
          1291887,
          10060847,
          1193170,
          16925898,
          4455780,
          13217409,
          1865022,
          2021749,
          8044695,
          4956554,
          2385808,
          41498486,
          264924,
          1082324,
          10999120,
          8090062,
          5489284,
          36951864,
          30405295,
          12838707,
          52206777,
          28900970,
          11048599,
          836702,
          2374977,
          4303815,
          1451713,
          1519560,
          974857,
          3298179,
          10095222
         ],
         "xaxis": "x",
         "y": [
          0,
          0,
          0,
          0,
          0,
          0,
          0,
          0,
          0,
          0,
          0,
          0,
          0,
          0,
          0,
          135026,
          0,
          0,
          0,
          0,
          0,
          0,
          0,
          0,
          0,
          0,
          0,
          0,
          31309,
          3002884,
          0,
          4719695,
          411115,
          0,
          0,
          0,
          104507,
          643557,
          0,
          2633527,
          0,
          0,
          0,
          0,
          49970,
          0,
          0,
          0,
          59700000,
          0,
          0,
          0,
          0,
          0,
          0,
          0,
          0,
          0,
          17671101,
          0,
          0,
          0,
          0,
          0,
          6075,
          0,
          0,
          0,
          1301696,
          0,
          0,
          0,
          0,
          0,
          0,
          0,
          0,
          0,
          3447633,
          0,
          0,
          0,
          0,
          0,
          0,
          0,
          0,
          0,
          0,
          0,
          0,
          2642899,
          0,
          2334228,
          0,
          0,
          0,
          0,
          0,
          2160298,
          0,
          0,
          0,
          0,
          0,
          0,
          0,
          0,
          0,
          1982505,
          0,
          0,
          0,
          0,
          0,
          0,
          133332,
          0,
          0,
          0,
          0,
          0,
          0,
          0,
          0,
          0,
          0,
          0,
          0,
          0,
          0,
          0,
          14394097,
          0,
          0,
          44695,
          0,
          0,
          0,
          0,
          0,
          1986615,
          0,
          0,
          0,
          0,
          0,
          0,
          0,
          0,
          0,
          0,
          0,
          41092328,
          29916207,
          19632053,
          68851475,
          57063861,
          2270,
          296187079,
          91119319,
          25507137,
          24922237,
          21589395,
          2260616,
          261317921,
          61489265,
          357400,
          191502426,
          424967620,
          504050219,
          53898845,
          1083720877,
          50083616,
          43229904,
          11534477,
          858553,
          379014294,
          23384939,
          73475268,
          110317580,
          15189934,
          99378985,
          114197742,
          80460948,
          46789413,
          5798974,
          104414200,
          836836967,
          623933331,
          294805697,
          48917974,
          271457301,
          96188903,
          329398046,
          154026136,
          4324817,
          224920375,
          321669741,
          5060438,
          99557032,
          592462816,
          199006387,
          1278650,
          319713881,
          494879471,
          67876281,
          7099598,
          290745055,
          89520336,
          543113985,
          102820008,
          252276927,
          278780441,
          698491347,
          226497209,
          157107755,
          15440333,
          261989769,
          83188165,
          60738797,
          274470394,
          170458922,
          400063852,
          105734416,
          1066970811,
          67448651,
          75026327,
          129190869,
          45491656,
          45636368,
          321885765,
          29397654,
          167805466,
          204594016,
          6890432,
          177238796,
          64780213,
          336365676,
          76196538,
          9918093,
          127233108,
          19439764,
          67918658,
          56032889,
          10903312,
          293503354,
          60040976,
          300228084,
          80205382,
          24172201,
          98159963,
          211780824,
          62695489,
          154711438,
          35626958,
          422618,
          54806823,
          752600867,
          415686217,
          27093592,
          34758951,
          152263880,
          32686500,
          310650585,
          4681651,
          9322895,
          60331447,
          66984887,
          81126522,
          27293743,
          79628830,
          114984666,
          91720255,
          86855739,
          48668907,
          149411550,
          112462508,
          49843011,
          134748021,
          89137047,
          55611001,
          101729,
          32054369,
          136333522,
          52844496,
          18689058,
          93251121,
          3494154,
          43053376,
          42059111,
          14788642,
          60321861,
          66166000,
          106956330,
          18409891,
          80547866,
          2648195,
          14311701,
          5144717,
          11104555,
          42345360,
          8087000,
          9933873,
          177512032,
          4052191,
          649626,
          10300416,
          60673972,
          69432527,
          143485,
          8307227,
          77477008,
          20529194,
          48190704,
          405380,
          1671196,
          36015260,
          15625544,
          405861,
          15134293,
          203509374,
          21500813,
          156190,
          449702,
          37981984,
          453708,
          146149,
          25603,
          2820490,
          370569774,
          449326618,
          1342321665,
          3741098,
          288383523,
          626137675,
          151653750,
          110206216,
          214945591,
          77187281,
          219851172,
          69935600,
          216639112,
          145051197,
          149228077,
          1045713802,
          89792502,
          23308615,
          665692281,
          149542245,
          226904017,
          352616690,
          136515867,
          216197492,
          173930596,
          59389433,
          97231420,
          19123767,
          694713380,
          9232318,
          161849455,
          135710029,
          1123794079,
          174822325,
          712205856,
          559852396,
          245724603,
          17039814,
          147332697,
          299268508,
          209838559,
          483866518,
          543848418,
          152930623,
          97984015,
          120081841,
          481800873,
          28013733,
          86752352,
          71508440,
          75055070,
          82087155,
          22926076,
          185770310,
          127869379,
          58409247,
          19504039,
          63782078,
          41097853,
          177243185,
          373993951,
          40909909,
          149673788,
          586764305,
          76130093,
          132563930,
          211819354,
          227817248,
          57084522,
          563749323,
          76338111,
          47120948,
          133432856,
          2530394,
          72526996,
          30722632,
          6206022,
          19561904,
          193967670,
          554987477,
          10173061,
          91627228,
          85564310,
          145676,
          90260376,
          40492652,
          39782683,
          342695435,
          25804448,
          108609310,
          8179416,
          11168712,
          115890699,
          35185884,
          426074373,
          1017003568,
          694394724,
          1081142612,
          115350426,
          88215156,
          15843274,
          403354469,
          68264022,
          198087212,
          232325503,
          829747654,
          218340595,
          132820716,
          130482868,
          1108569499,
          33384127,
          757930663,
          441809770,
          236412453,
          396592829,
          28258060,
          176506819,
          37930465,
          161772375,
          201585328,
          549368315,
          82515113,
          156491279,
          275293450,
          538983207,
          47052899,
          41037742,
          245527149,
          284139100,
          303025485,
          167739961,
          358375603,
          55404207,
          32170399,
          160112671,
          8518634,
          208076205,
          11681781,
          276144750,
          116471580,
          471222889,
          234989584,
          82966152,
          609016565,
          240159255,
          624026776,
          335260290,
          32226382,
          59418613,
          392000694,
          1214811252,
          320290989,
          122126687,
          644783140,
          89328627,
          246984278,
          788680968,
          723192705,
          87100449,
          959007513,
          668045518,
          467365246,
          865011746,
          48449416,
          32443111,
          540455876,
          187733202,
          375740705,
          55736588,
          188133322,
          411002906,
          587205319,
          26474920,
          93492844,
          286140700,
          226349749,
          218791811,
          97542952,
          205366737,
          170270201,
          154802912,
          493311825,
          87305549,
          15661554,
          139745,
          12077441,
          95396573,
          146428180,
          773350147,
          701729206,
          86081711,
          370541256,
          369330363,
          714421503,
          172945750,
          49396747,
          414351546,
          36869414,
          288885818,
          47398992,
          962182865,
          348319861,
          458863600,
          7253160,
          233555708,
          746045700,
          4942449,
          103215094,
          21947454,
          127994610,
          84419388,
          66980456,
          337580051,
          547426372,
          657869686,
          708982323,
          758411779,
          212902372,
          161459297,
          468060692,
          755356711,
          1882074,
          363204635,
          307166834,
          41898409,
          257579282,
          48137666,
          123726688,
          214657577,
          11782625,
          18658381,
          1104054072,
          14710975,
          10312540,
          126069509,
          196710396,
          30642704,
          52501541,
          19206513,
          2700051,
          375658750,
          1402809540,
          74679822,
          133440870,
          1670516444,
          630162448,
          35401758,
          98690254,
          542358331,
          93920758,
          658344137,
          98450062,
          173567581,
          99775678,
          386041607,
          287144079,
          473990832,
          209035668,
          64191523,
          36606743,
          332207671,
          82347656,
          34441873,
          16810562,
          4366460,
          16322067,
          71561644,
          607595,
          117813057,
          34227298,
          158261424,
          26250020,
          24548038,
          34854990,
          27391084,
          90777,
          9074749,
          828874,
          37461274,
          46152800,
          85978292,
          5425148,
          11122090,
          7205073,
          33213241,
          2084628,
          51380201,
          4842699,
          3394174,
          906995,
          38356892,
          42426912,
          1295574,
          143658,
          8527658,
          14431253,
          13081651,
          14659448,
          41325328,
          10835752,
          29355203,
          73256266,
          122606884,
          746846894,
          162360636,
          1153337496,
          782836791,
          677796076,
          278454417,
          208314186,
          157830487,
          644411850,
          203388186,
          543934105,
          23123592,
          343471816,
          448906865,
          321788219,
          1024121104,
          180563636,
          69411370,
          1056057720,
          873637528,
          521170825,
          62788218,
          389681935,
          296482446,
          814044001,
          312242626,
          38803993,
          81093313,
          119100758,
          140705322,
          37879877,
          118587880,
          155160045,
          3377430,
          65336603,
          415484914,
          78988148,
          216972543,
          86234523,
          356700357,
          23834809,
          150680864,
          24121245,
          220021259,
          334897606,
          9101546,
          110216998,
          19263938,
          1028570942,
          140853810,
          119520023,
          162146076,
          37357216,
          23177948,
          121790373,
          240797623,
          8809407,
          19370020,
          109906372,
          334933831,
          73929392,
          11084630,
          352333929,
          85251425,
          29777777,
          20651333,
          76249438,
          114501299,
          106127278,
          81705746,
          678150,
          93282604,
          6698679,
          685780,
          124608438,
          25070261,
          9037058,
          853983911,
          150847274,
          701796444,
          880166924,
          259334548,
          863756051,
          438006904,
          962542945,
          177856751,
          37270721,
          1236005118,
          255589157,
          527016307,
          807817888,
          226945087,
          527965936,
          619179950,
          822824522,
          240891763,
          171547802,
          306209289,
          657926987,
          44516999,
          794881442,
          195333312,
          8003180,
          566652812,
          410902662,
          160192267,
          1332698830,
          53939297,
          100014025,
          43980821,
          352794081,
          148675066,
          78966486,
          48453605,
          381545846,
          125479266,
          605425157,
          3283369,
          169846945,
          35669017,
          225973340,
          113231078,
          185400345,
          67234188,
          10971298,
          24646055,
          43069254,
          47756590,
          125856180,
          306515884,
          134866593,
          221600160,
          26800152,
          296069199,
          26351322,
          27869129,
          22088533,
          56411585,
          145418070,
          102952888,
          43155261,
          29820616,
          62198461,
          180419231,
          61621140,
          56996304,
          12751667,
          1034800131,
          84918541,
          55003890,
          16373843,
          15889124,
          227978645,
          140552359,
          16080475,
          62832209,
          41681746,
          4101699,
          18598607,
          4596705,
          96942115,
          83080890,
          123081555,
          34184504,
          23355100,
          55668698,
          32917353,
          9204549,
          8503658,
          197183546,
          60845711,
          66558465,
          41087017,
          62547032,
          6423605,
          60330833,
          5042014,
          25601244,
          34814102,
          40140972,
          6724365,
          12062146,
          130560428,
          125427681,
          23468586,
          10116816,
          2308355,
          29874280,
          350320413,
          2048359754,
          786470484,
          911902649,
          1347597973,
          97644617,
          1148485886,
          582893671,
          375540831,
          791657398,
          856085151,
          321752656,
          160542134,
          25957482,
          392924807,
          27365467,
          2053469,
          80509622,
          43070915,
          151572634,
          436188866,
          395618157,
          120556201,
          1310466296,
          14347433,
          7942093,
          95918706,
          530259473,
          1555203,
          75837743,
          371987838,
          1244639527,
          137056262,
          242115,
          365551694,
          190400157,
          119942387,
          117679066,
          78130625,
          34934009,
          31882724,
          654855901,
          31676128,
          174804407,
          16636604,
          64417003,
          59945012,
          66316289,
          467989645,
          76073488,
          528583774,
          66308758,
          351496066,
          75339459,
          46712809,
          529323962,
          41657844,
          83869818,
          214215889,
          9303022,
          9330075,
          75462037,
          51738549,
          4165776,
          487420,
          131523093,
          12442161,
          158972499,
          173961069,
          44019588,
          57076286,
          20780685,
          54622814,
          10313019,
          93320380,
          47967636,
          374565754,
          -2147483648,
          155712077,
          1074427370,
          153193369,
          327281779,
          311539397,
          759056935,
          1128462972,
          69756455,
          1131927996,
          90335025,
          473093228,
          384623579,
          1078232589,
          225508210,
          968853,
          800059707,
          404980543,
          255184580,
          57615777,
          261119292,
          237860050,
          173469516,
          24959607,
          119682635,
          246999039,
          10209813,
          333686,
          386600138,
          195179299,
          157563598,
          1073394593,
          122810399,
          53873809,
          146661977,
          253890701,
          252442974,
          1450026933,
          32893421,
          127461872,
          133031473,
          111037232,
          61105744,
          91527795,
          76419755,
          91542097,
          231252591,
          91490353,
          22386555,
          9932621,
          67760877,
          525683457,
          430051293,
          123133739,
          8808611,
          104545505,
          36599361,
          147792047,
          72216294,
          193457467,
          192306508,
          353284621,
          4554416,
          33766787,
          18096691,
          176345966,
          180314199,
          15383580,
          345900,
          699992512,
          50444358,
          16418218,
          49000667,
          21150265,
          38026103,
          74747725,
          6750029,
          359377,
          21354152,
          363656624,
          201858461,
          143151000,
          319715683,
          245487753,
          111105497,
          461421559,
          18340000,
          78099553,
          2541554,
          17472,
          617000,
          112006296,
          173649015
         ],
         "yaxis": "y"
        },
        {
         "line": {
          "color": "black",
          "width": 2
         },
         "mode": "lines",
         "name": "Linear Regression",
         "type": "scatter",
         "x": [
          2366,
          258808507
         ],
         "y": [
          59360504.49279505,
          3678239829.108789
         ]
        }
       ],
       "layout": {
        "font": {
         "size": 14
        },
        "legend": {
         "tracegroupgap": 0
        },
        "margin": {
         "t": 60
        },
        "template": {
         "data": {
          "bar": [
           {
            "error_x": {
             "color": "rgb(36,36,36)"
            },
            "error_y": {
             "color": "rgb(36,36,36)"
            },
            "marker": {
             "line": {
              "color": "white",
              "width": 0.5
             },
             "pattern": {
              "fillmode": "overlay",
              "size": 10,
              "solidity": 0.2
             }
            },
            "type": "bar"
           }
          ],
          "barpolar": [
           {
            "marker": {
             "line": {
              "color": "white",
              "width": 0.5
             },
             "pattern": {
              "fillmode": "overlay",
              "size": 10,
              "solidity": 0.2
             }
            },
            "type": "barpolar"
           }
          ],
          "carpet": [
           {
            "aaxis": {
             "endlinecolor": "rgb(36,36,36)",
             "gridcolor": "white",
             "linecolor": "white",
             "minorgridcolor": "white",
             "startlinecolor": "rgb(36,36,36)"
            },
            "baxis": {
             "endlinecolor": "rgb(36,36,36)",
             "gridcolor": "white",
             "linecolor": "white",
             "minorgridcolor": "white",
             "startlinecolor": "rgb(36,36,36)"
            },
            "type": "carpet"
           }
          ],
          "choropleth": [
           {
            "colorbar": {
             "outlinewidth": 1,
             "tickcolor": "rgb(36,36,36)",
             "ticks": "outside"
            },
            "type": "choropleth"
           }
          ],
          "contour": [
           {
            "colorbar": {
             "outlinewidth": 1,
             "tickcolor": "rgb(36,36,36)",
             "ticks": "outside"
            },
            "colorscale": [
             [
              0,
              "#440154"
             ],
             [
              0.1111111111111111,
              "#482878"
             ],
             [
              0.2222222222222222,
              "#3e4989"
             ],
             [
              0.3333333333333333,
              "#31688e"
             ],
             [
              0.4444444444444444,
              "#26828e"
             ],
             [
              0.5555555555555556,
              "#1f9e89"
             ],
             [
              0.6666666666666666,
              "#35b779"
             ],
             [
              0.7777777777777778,
              "#6ece58"
             ],
             [
              0.8888888888888888,
              "#b5de2b"
             ],
             [
              1,
              "#fde725"
             ]
            ],
            "type": "contour"
           }
          ],
          "contourcarpet": [
           {
            "colorbar": {
             "outlinewidth": 1,
             "tickcolor": "rgb(36,36,36)",
             "ticks": "outside"
            },
            "type": "contourcarpet"
           }
          ],
          "heatmap": [
           {
            "colorbar": {
             "outlinewidth": 1,
             "tickcolor": "rgb(36,36,36)",
             "ticks": "outside"
            },
            "colorscale": [
             [
              0,
              "#440154"
             ],
             [
              0.1111111111111111,
              "#482878"
             ],
             [
              0.2222222222222222,
              "#3e4989"
             ],
             [
              0.3333333333333333,
              "#31688e"
             ],
             [
              0.4444444444444444,
              "#26828e"
             ],
             [
              0.5555555555555556,
              "#1f9e89"
             ],
             [
              0.6666666666666666,
              "#35b779"
             ],
             [
              0.7777777777777778,
              "#6ece58"
             ],
             [
              0.8888888888888888,
              "#b5de2b"
             ],
             [
              1,
              "#fde725"
             ]
            ],
            "type": "heatmap"
           }
          ],
          "heatmapgl": [
           {
            "colorbar": {
             "outlinewidth": 1,
             "tickcolor": "rgb(36,36,36)",
             "ticks": "outside"
            },
            "colorscale": [
             [
              0,
              "#440154"
             ],
             [
              0.1111111111111111,
              "#482878"
             ],
             [
              0.2222222222222222,
              "#3e4989"
             ],
             [
              0.3333333333333333,
              "#31688e"
             ],
             [
              0.4444444444444444,
              "#26828e"
             ],
             [
              0.5555555555555556,
              "#1f9e89"
             ],
             [
              0.6666666666666666,
              "#35b779"
             ],
             [
              0.7777777777777778,
              "#6ece58"
             ],
             [
              0.8888888888888888,
              "#b5de2b"
             ],
             [
              1,
              "#fde725"
             ]
            ],
            "type": "heatmapgl"
           }
          ],
          "histogram": [
           {
            "marker": {
             "line": {
              "color": "white",
              "width": 0.6
             }
            },
            "type": "histogram"
           }
          ],
          "histogram2d": [
           {
            "colorbar": {
             "outlinewidth": 1,
             "tickcolor": "rgb(36,36,36)",
             "ticks": "outside"
            },
            "colorscale": [
             [
              0,
              "#440154"
             ],
             [
              0.1111111111111111,
              "#482878"
             ],
             [
              0.2222222222222222,
              "#3e4989"
             ],
             [
              0.3333333333333333,
              "#31688e"
             ],
             [
              0.4444444444444444,
              "#26828e"
             ],
             [
              0.5555555555555556,
              "#1f9e89"
             ],
             [
              0.6666666666666666,
              "#35b779"
             ],
             [
              0.7777777777777778,
              "#6ece58"
             ],
             [
              0.8888888888888888,
              "#b5de2b"
             ],
             [
              1,
              "#fde725"
             ]
            ],
            "type": "histogram2d"
           }
          ],
          "histogram2dcontour": [
           {
            "colorbar": {
             "outlinewidth": 1,
             "tickcolor": "rgb(36,36,36)",
             "ticks": "outside"
            },
            "colorscale": [
             [
              0,
              "#440154"
             ],
             [
              0.1111111111111111,
              "#482878"
             ],
             [
              0.2222222222222222,
              "#3e4989"
             ],
             [
              0.3333333333333333,
              "#31688e"
             ],
             [
              0.4444444444444444,
              "#26828e"
             ],
             [
              0.5555555555555556,
              "#1f9e89"
             ],
             [
              0.6666666666666666,
              "#35b779"
             ],
             [
              0.7777777777777778,
              "#6ece58"
             ],
             [
              0.8888888888888888,
              "#b5de2b"
             ],
             [
              1,
              "#fde725"
             ]
            ],
            "type": "histogram2dcontour"
           }
          ],
          "mesh3d": [
           {
            "colorbar": {
             "outlinewidth": 1,
             "tickcolor": "rgb(36,36,36)",
             "ticks": "outside"
            },
            "type": "mesh3d"
           }
          ],
          "parcoords": [
           {
            "line": {
             "colorbar": {
              "outlinewidth": 1,
              "tickcolor": "rgb(36,36,36)",
              "ticks": "outside"
             }
            },
            "type": "parcoords"
           }
          ],
          "pie": [
           {
            "automargin": true,
            "type": "pie"
           }
          ],
          "scatter": [
           {
            "fillpattern": {
             "fillmode": "overlay",
             "size": 10,
             "solidity": 0.2
            },
            "type": "scatter"
           }
          ],
          "scatter3d": [
           {
            "line": {
             "colorbar": {
              "outlinewidth": 1,
              "tickcolor": "rgb(36,36,36)",
              "ticks": "outside"
             }
            },
            "marker": {
             "colorbar": {
              "outlinewidth": 1,
              "tickcolor": "rgb(36,36,36)",
              "ticks": "outside"
             }
            },
            "type": "scatter3d"
           }
          ],
          "scattercarpet": [
           {
            "marker": {
             "colorbar": {
              "outlinewidth": 1,
              "tickcolor": "rgb(36,36,36)",
              "ticks": "outside"
             }
            },
            "type": "scattercarpet"
           }
          ],
          "scattergeo": [
           {
            "marker": {
             "colorbar": {
              "outlinewidth": 1,
              "tickcolor": "rgb(36,36,36)",
              "ticks": "outside"
             }
            },
            "type": "scattergeo"
           }
          ],
          "scattergl": [
           {
            "marker": {
             "colorbar": {
              "outlinewidth": 1,
              "tickcolor": "rgb(36,36,36)",
              "ticks": "outside"
             }
            },
            "type": "scattergl"
           }
          ],
          "scattermapbox": [
           {
            "marker": {
             "colorbar": {
              "outlinewidth": 1,
              "tickcolor": "rgb(36,36,36)",
              "ticks": "outside"
             }
            },
            "type": "scattermapbox"
           }
          ],
          "scatterpolar": [
           {
            "marker": {
             "colorbar": {
              "outlinewidth": 1,
              "tickcolor": "rgb(36,36,36)",
              "ticks": "outside"
             }
            },
            "type": "scatterpolar"
           }
          ],
          "scatterpolargl": [
           {
            "marker": {
             "colorbar": {
              "outlinewidth": 1,
              "tickcolor": "rgb(36,36,36)",
              "ticks": "outside"
             }
            },
            "type": "scatterpolargl"
           }
          ],
          "scatterternary": [
           {
            "marker": {
             "colorbar": {
              "outlinewidth": 1,
              "tickcolor": "rgb(36,36,36)",
              "ticks": "outside"
             }
            },
            "type": "scatterternary"
           }
          ],
          "surface": [
           {
            "colorbar": {
             "outlinewidth": 1,
             "tickcolor": "rgb(36,36,36)",
             "ticks": "outside"
            },
            "colorscale": [
             [
              0,
              "#440154"
             ],
             [
              0.1111111111111111,
              "#482878"
             ],
             [
              0.2222222222222222,
              "#3e4989"
             ],
             [
              0.3333333333333333,
              "#31688e"
             ],
             [
              0.4444444444444444,
              "#26828e"
             ],
             [
              0.5555555555555556,
              "#1f9e89"
             ],
             [
              0.6666666666666666,
              "#35b779"
             ],
             [
              0.7777777777777778,
              "#6ece58"
             ],
             [
              0.8888888888888888,
              "#b5de2b"
             ],
             [
              1,
              "#fde725"
             ]
            ],
            "type": "surface"
           }
          ],
          "table": [
           {
            "cells": {
             "fill": {
              "color": "rgb(237,237,237)"
             },
             "line": {
              "color": "white"
             }
            },
            "header": {
             "fill": {
              "color": "rgb(217,217,217)"
             },
             "line": {
              "color": "white"
             }
            },
            "type": "table"
           }
          ]
         },
         "layout": {
          "annotationdefaults": {
           "arrowhead": 0,
           "arrowwidth": 1
          },
          "autotypenumbers": "strict",
          "coloraxis": {
           "colorbar": {
            "outlinewidth": 1,
            "tickcolor": "rgb(36,36,36)",
            "ticks": "outside"
           }
          },
          "colorscale": {
           "diverging": [
            [
             0,
             "rgb(103,0,31)"
            ],
            [
             0.1,
             "rgb(178,24,43)"
            ],
            [
             0.2,
             "rgb(214,96,77)"
            ],
            [
             0.3,
             "rgb(244,165,130)"
            ],
            [
             0.4,
             "rgb(253,219,199)"
            ],
            [
             0.5,
             "rgb(247,247,247)"
            ],
            [
             0.6,
             "rgb(209,229,240)"
            ],
            [
             0.7,
             "rgb(146,197,222)"
            ],
            [
             0.8,
             "rgb(67,147,195)"
            ],
            [
             0.9,
             "rgb(33,102,172)"
            ],
            [
             1,
             "rgb(5,48,97)"
            ]
           ],
           "sequential": [
            [
             0,
             "#440154"
            ],
            [
             0.1111111111111111,
             "#482878"
            ],
            [
             0.2222222222222222,
             "#3e4989"
            ],
            [
             0.3333333333333333,
             "#31688e"
            ],
            [
             0.4444444444444444,
             "#26828e"
            ],
            [
             0.5555555555555556,
             "#1f9e89"
            ],
            [
             0.6666666666666666,
             "#35b779"
            ],
            [
             0.7777777777777778,
             "#6ece58"
            ],
            [
             0.8888888888888888,
             "#b5de2b"
            ],
            [
             1,
             "#fde725"
            ]
           ],
           "sequentialminus": [
            [
             0,
             "#440154"
            ],
            [
             0.1111111111111111,
             "#482878"
            ],
            [
             0.2222222222222222,
             "#3e4989"
            ],
            [
             0.3333333333333333,
             "#31688e"
            ],
            [
             0.4444444444444444,
             "#26828e"
            ],
            [
             0.5555555555555556,
             "#1f9e89"
            ],
            [
             0.6666666666666666,
             "#35b779"
            ],
            [
             0.7777777777777778,
             "#6ece58"
            ],
            [
             0.8888888888888888,
             "#b5de2b"
            ],
            [
             1,
             "#fde725"
            ]
           ]
          },
          "colorway": [
           "#1F77B4",
           "#FF7F0E",
           "#2CA02C",
           "#D62728",
           "#9467BD",
           "#8C564B",
           "#E377C2",
           "#7F7F7F",
           "#BCBD22",
           "#17BECF"
          ],
          "font": {
           "color": "rgb(36,36,36)"
          },
          "geo": {
           "bgcolor": "white",
           "lakecolor": "white",
           "landcolor": "white",
           "showlakes": true,
           "showland": true,
           "subunitcolor": "white"
          },
          "hoverlabel": {
           "align": "left"
          },
          "hovermode": "closest",
          "mapbox": {
           "style": "light"
          },
          "paper_bgcolor": "white",
          "plot_bgcolor": "white",
          "polar": {
           "angularaxis": {
            "gridcolor": "rgb(232,232,232)",
            "linecolor": "rgb(36,36,36)",
            "showgrid": false,
            "showline": true,
            "ticks": "outside"
           },
           "bgcolor": "white",
           "radialaxis": {
            "gridcolor": "rgb(232,232,232)",
            "linecolor": "rgb(36,36,36)",
            "showgrid": false,
            "showline": true,
            "ticks": "outside"
           }
          },
          "scene": {
           "xaxis": {
            "backgroundcolor": "white",
            "gridcolor": "rgb(232,232,232)",
            "gridwidth": 2,
            "linecolor": "rgb(36,36,36)",
            "showbackground": true,
            "showgrid": false,
            "showline": true,
            "ticks": "outside",
            "zeroline": false,
            "zerolinecolor": "rgb(36,36,36)"
           },
           "yaxis": {
            "backgroundcolor": "white",
            "gridcolor": "rgb(232,232,232)",
            "gridwidth": 2,
            "linecolor": "rgb(36,36,36)",
            "showbackground": true,
            "showgrid": false,
            "showline": true,
            "ticks": "outside",
            "zeroline": false,
            "zerolinecolor": "rgb(36,36,36)"
           },
           "zaxis": {
            "backgroundcolor": "white",
            "gridcolor": "rgb(232,232,232)",
            "gridwidth": 2,
            "linecolor": "rgb(36,36,36)",
            "showbackground": true,
            "showgrid": false,
            "showline": true,
            "ticks": "outside",
            "zeroline": false,
            "zerolinecolor": "rgb(36,36,36)"
           }
          },
          "shapedefaults": {
           "fillcolor": "black",
           "line": {
            "width": 0
           },
           "opacity": 0.3
          },
          "ternary": {
           "aaxis": {
            "gridcolor": "rgb(232,232,232)",
            "linecolor": "rgb(36,36,36)",
            "showgrid": false,
            "showline": true,
            "ticks": "outside"
           },
           "baxis": {
            "gridcolor": "rgb(232,232,232)",
            "linecolor": "rgb(36,36,36)",
            "showgrid": false,
            "showline": true,
            "ticks": "outside"
           },
           "bgcolor": "white",
           "caxis": {
            "gridcolor": "rgb(232,232,232)",
            "linecolor": "rgb(36,36,36)",
            "showgrid": false,
            "showline": true,
            "ticks": "outside"
           }
          },
          "title": {
           "x": 0.05
          },
          "xaxis": {
           "automargin": true,
           "gridcolor": "rgb(232,232,232)",
           "linecolor": "rgb(36,36,36)",
           "showgrid": false,
           "showline": true,
           "ticks": "outside",
           "title": {
            "standoff": 15
           },
           "zeroline": false,
           "zerolinecolor": "rgb(36,36,36)"
          },
          "yaxis": {
           "automargin": true,
           "gridcolor": "rgb(232,232,232)",
           "linecolor": "rgb(36,36,36)",
           "showgrid": false,
           "showline": true,
           "ticks": "outside",
           "title": {
            "standoff": 15
           },
           "zeroline": false,
           "zerolinecolor": "rgb(36,36,36)"
          }
         }
        },
        "title": {
         "text": "Box Office Revenue vs. Number of Views for Movie Trailers (R-squared: 0.35)"
        },
        "xaxis": {
         "anchor": "y",
         "domain": [
          0,
          1
         ],
         "range": [
          0,
          50000000
         ],
         "title": {
          "text": "Number of Views"
         }
        },
        "yaxis": {
         "anchor": "x",
         "domain": [
          0,
          1
         ],
         "range": [
          0,
          500000000
         ],
         "title": {
          "text": "Box Office Revenue"
         }
        }
       }
      },
      "text/html": [
       "<div>                            <div id=\"26863675-286b-4664-aae8-447354e2ac4c\" class=\"plotly-graph-div\" style=\"height:525px; width:100%;\"></div>            <script type=\"text/javascript\">                require([\"plotly\"], function(Plotly) {                    window.PLOTLYENV=window.PLOTLYENV || {};                                    if (document.getElementById(\"26863675-286b-4664-aae8-447354e2ac4c\")) {                    Plotly.newPlot(                        \"26863675-286b-4664-aae8-447354e2ac4c\",                        [{\"customdata\":[[\"The Escort\",8354],[\"The Escort\",8354],[\"Anguish\",605],[\"Anguish\",605],[\"Boy Meets Girl\",5308],[\"Boy Meets Girl\",5308],[\"Boy Meets Girl\",5308],[\"Boy Meets Girl\",5308],[\"Wild Horses\",1453],[\"Wild Horses\",1453],[\"Return to Sender\",9152],[\"Return to Sender\",9152],[\"Submerged\",774],[\"Submerged\",774],[\"Tumbledown\",4562],[\"Tumbledown\",4562],[\"Tumbledown\",4562],[\"Cyberbully\",2326],[\"Cyberbully\",2326],[\"Walter\",313],[\"Walter\",313],[\"Christmas Eve\",2729],[\"Christmas Eve\",2729],[\"Vendetta\",3504],[\"Vendetta\",3504],[\"Kumiko, the Treasure Hunter\",1611],[\"Justice League: Throne of Atlantis\",9634],[\"Louis C.K.: Live at The Comedy Store\",5585],[\"Don Verdean\",2234],[\"The End of the Tour\",6788],[\"Experimenter\",3716],[\"True Story\",66240],[\"The Hunting Ground\",6048],[\"Going Clear: Scientology and the Prison of Belief\",1477],[\"Tig\",25328],[\"I Smile Back\",1878],[\"Results\",2838],[\"The Stanford Prison Experiment\",64232],[\"Home Sweet Hell\",16435],[\"Kidnapping Mr. Heineken\",2925],[\"The Hollow\",3861],[\"The Hollow\",3861],[\"The Hollow\",3861],[\"We Are Still Here\",4972],[\"Spring\",3511],[\"Spring\",3511],[\"Aziz Ansari: Live at Madison Square Garden\",170],[\"Parallels\",2246],[\"Shaun the Sheep Movie\",8344],[\"Iliza Shlesinger: Freezing Hot\",706],[\"Survivor\",11704],[\"Survivor\",11704],[\"Survivor\",11704],[\"Absolution\",915],[\"Absolution\",915],[\"Absolution\",915],[\"Man Up\",3999],[\"The Culling\",562],[\"Regression\",31244],[\"Appropriate Behavior\",2935],[\"Barbie in Princess Power\",16501],[\"The Eichmann Show\",6],[\"Bessie\",636],[\"The Human Centipede 3 (Final Sequence)\",3084],[\"Barely Lethal\",10624],[\"Deep Web\",8288],[\"Kung Fury\",13945],[\"The World Made Straight\",826],[\"The Wolfpack\",10442],[\"Dawg Fight\",157],[\"Sharknado 3: Oh Hell No!\",11723],[\"The Flintstones & WWE: Stone Age Smackdown\",2150],[\"See You In Valhalla\",3045],[\"From the Dark\",356],[\"Robot Overlords\",1191],[\"Bad Asses on the Bayou\",714],[\"Accidental Love\",11005],[\"7 Days in Hell\",815],[\"Learning to Drive\",8982],[\"Ooops! Noah is Gone...\",1928],[\"War Pigs\",636],[\"Best of Enemies\",10867],[\"Chloe and Theo\",922],[\"Smosh: The Movie\",258817],[\"Always Watching: A Marble Hornets Story\",2393],[\"Descendants\",18534],[\"Last Cab to Darwin\",656],[\"Lava\",19195],[\"I Am Chris Farley\",2072],[\"A LEGO Brickumentary\",10034],[\"Deathgasm\",2951],[\"He Named Me Malala\",56422],[\"Bloodsucking Bastards\",1268],[\"Meru\",1056],[\"Welcome to Leith\",373],[\"Listening\",410],[\"Listen to Me Marlon\",4041],[\"Into the Forest\",3796],[\"Last Shift\",43694],[\"Pay the Ghost\",1439],[\"Ghoul\",1682],[\"Ghoul\",1682],[\"Full Out\",15429],[\"The Quiet Hour\",12273],[\"I Am Here\",341],[\"Oddball\",2695],[\"Tremors 5: Bloodlines\",315],[\"Narcopolis\",363],[\"Ronaldo\",4802],[\"A Bigger Splash\",11246],[\"Where to Invade Next\",11309],[\"Operator\",25328],[\"Operator\",25328],[\"All Things Must Pass\",745],[\"The Girl King\",3254],[\"Miss You Already\",6200],[\"Momentum\",1329],[\"Momentum\",1329],[\"Tales of Halloween\",3450],[\"Bone Tomahawk\",13472],[\"Amy Schumer: Live at the Apollo\",2],[\"Extraordinary Tales\",698],[\"SuperBob\",59],[\"Safelight\",1646],[\"The Phoenix Incident\",1510],[\"The Subjects\",314],[\"Twinsters\",2252],[\"Condemned\",290],[\"Chi-Raq\",7611],[\"The Ridiculous 6\",27584],[\"He Never Died\",1655],[\"3-Headed Shark Attack\",1305],[\"Woodlawn\",4311],[\"Moonwalkers\",5962],[\"Racing Extinction\",7649],[\"Requiem for the American Dream\",323],[\"Holding the Man\",13273],[\"The Fear of 13\",1912],[\"Regular Show: The Movie\",4376],[\"Forsaken\",1855],[\"Forsaken\",1855],[\"Remember\",1731],[\"I Spit on Your Grave III: Vengeance is Mine\",1133],[\"The Girl in the Photographs\",1809],[\"VANish\",171],[\"Jack of the Red Hearts\",129366],[\"The Condemned 2\",5859],[\"The Benefactor\",71981],[\"Walt Before Mickey\",5459],[\"Io che amo solo te\",57],[\"Teen Beach 2\",4429],[\"Those People\",100601],[\"Harry Price: Ghost Hunter\",31],[\"Clash of the Titans\",2291],[\"Neighbors\",59596],[\"The Thing\",15700],[\"Conan the Barbarian\",12488],[\"Annie\",21748],[\"Parasite\",177942],[\"Ghostbusters\",327407],[\"The Karate Kid\",38700],[\"A Nightmare on Elm Street\",16670],[\"Fright Night\",7613],[\"Project X\",34657],[\"Sing\",56892],[\"Total Recall\",19203],[\"Flatliners\",22240],[\"Trust\",4570],[\"The Addams Family\",66555],[\"Beauty and the Beast\",305962],[\"Aladdin\",21332],[\"The Three Musketeers\",2900],[\"The Lion King\",780774],[\"Little Women\",184412],[\"The Jungle Book\",89319],[\"Fair Game\",1022],[\"Anna Karenina\",26053],[\"Godzilla\",187698],[\"The Avengers\",308531],[\"Life\",46235],[\"The Kid\",11012],[\"Oldboy\",7127],[\"Hellboy\",162924],[\"Step Up\",2277],[\"Halloween\",370416],[\"Death at a Funeral\",8138],[\"Passengers\",177249],[\"The Girl with the Dragon Tattoo\",23317],[\"Inception\",137784],[\"Iron Man 2\",11270],[\"Shutter Island\",15300],[\"Scott Pilgrim vs. the World\",56254],[\"Grown Ups\",15078],[\"Kick-Ass\",12702],[\"Black Swan\",88748],[\"The Town\",37959],[\"Flipped\",15285],[\"The Social Network\",82863],[\"Robin Hood\",6669],[\"Monsters\",2785],[\"Insidious\",43902],[\"Tangled\",11662],[\"RED\",7910],[\"I Spit on Your Grave\",900],[\"The Last Airbender\",21506],[\"How to Train Your Dragon\",968],[\"The American\",203],[\"Incendies\",11093],[\"Sex and the City 2\",271],[\"Burlesque\",8284],[\"Despicable Me\",8287],[\"Love & Other Drugs\",40317],[\"True Grit\",13249],[\"The Tourist\",12714],[\"The Twilight Saga: Eclipse\",39611],[\"Percy Jackson & the Olympians: The Lightning Thief\",5635],[\"The Book of Eli\",12882],[\"Blue Valentine\",14633],[\"Knight and Day\",33863],[\"Piranha 3D\",4233],[\"127 Hours\",50427],[\"The Expendables\",12117],[\"The Other Guys\",22092],[\"TRON: Legacy\",49581],[\"Life as We Know It\",15645],[\"Toy Story 3\",18771],[\"The Next Three Days\",1930],[\"Easy A\",37638],[\"The Fighter\",5558],[\"Machete\",2363],[\"The Debt\",864],[\"Megamind\",941],[\"The Losers\",2287],[\"Unstoppable\",6512],[\"Eat Pray Love\",21037],[\"Centurion\",10447],[\"The A-Team\",1372],[\"Hot Tub Time Machine\",3926],[\"Prince of Persia: the Sands of Time\",18836],[\"Diary of a Wimpy Kid\",10968],[\"Never Let Me Go\",52940],[\"Predators\",9129],[\"Buried\",12109],[\"Legion\",8736],[\"Remember Me\",19822],[\"Jonah Hex\",9113],[\"Salt\",21317],[\"Morning Glory\",9210],[\"Resident Evil: Afterlife\",3419],[\"Takers\",4339],[\"The Way Back\",177],[\"Killers\",9740],[\"Due Date\",489],[\"Devil\",11280],[\"Green Zone\",4104],[\"Faster\",7870],[\"Super\",4216],[\"The Crazies\",11335],[\"Shrek Forever After\",5855],[\"The Chronicles of Narnia: the Voyage of the Dawn Treader\",388],[\"Let Me In\",10559],[\"The Kids Are All Right\",2641],[\"Date Night\",7358],[\"Leap Year\",21071],[\"Little Fockers\",383],[\"The Runaways\",1123],[\"MacGruber\",1904],[\"The Ghost Writer\",1056],[\"Skyline\",5133],[\"Edge of Darkness\",1146],[\"Ramona and Beezus\",1146],[\"Letters to Juliet\",33020],[\"Dear John\",51562],[\"Get Him to the Greek\",4603],[\"Dinner for Schmucks\",7008],[\"How Do You Know\",4211],[\"The Secret World of Arrietty\",42831],[\"Tooth Fairy\",9626],[\"The Switch\",12810],[\"Wall Street: Money Never Sleeps\",7558],[\"The Last Song\",1959],[\"Cop Out\",4108],[\"Rubber\",15224],[\"You Again\",816],[\"The Bounty Hunter\",429],[\"From Paris with Love\",1083],[\"13 Assassins\",5443],[\"Nanny McPhee Returns\",10451],[\"Wild Target\",1725],[\"When in Rome\",695],[\"Going the Distance\",221],[\"Somewhere\",4299],[\"Secretariat\",4948],[\"The Spy Next Door\",2996],[\"Hereafter\",2074],[\"Repo Men\",5963],[\"Vampires Suck\",13777],[\"Twelve\",794],[\"Beginners\",2177],[\"Rabbit Hole\",1843],[\"Conviction\",4902],[\"My Name Is Khan\",19710],[\"The Company Men\",344],[\"Cyrus\",2722],[\"Paranormal Activity 2\",15428],[\"The Killer Inside Me\",682],[\"The Extra Man\",416],[\"Stone\",973],[\"Why Did I Get Married Too?\",2507],[\"The Last Exorcism\",3782],[\"Dirty Girl\",81],[\"London Boulevard\",2114],[\"The Back-up Plan\",4157],[\"Country Strong\",1187],[\"Charlie St. Cloud\",7193],[\"Stake Land\",810],[\"Vanishing on 7th Street\",1598],[\"You Will Meet a Tall Dark Stranger\",259],[\"The Conspirator\",417],[\"The Tempest\",181],[\"Extraordinary Measures\",370],[\"Yogi Bear\",687],[\"My Soul to Take\",2461],[\"Hatchet II\",454],[\"Hesher\",96],[\"For Colored Girls\",3688],[\"The Perfect Host\",1946],[\"Love Ranch\",41],[\"Passion Play\",1797],[\"Everything Must Go\",1374],[\"Captain America: the First Avenger\",91833],[\"Thor\",76148],[\"Harry Potter and the Deathly Hallows: Part 2\",87471],[\"Take Shelter\",3734],[\"Bridesmaids\",11434],[\"Fast Five\",11359],[\"Midnight in Paris\",14339],[\"Moneyball\",13395],[\"Just Go with It\",15640],[\"Drive\",37853],[\"Green Lantern\",12260],[\"The Cabin in the Woods\",31766],[\"The Help\",9598],[\"Crazy, Stupid, Love.\",30930],[\"No Strings Attached\",5803],[\"Pirates of the Caribbean: on Stranger Tides\",686],[\"Sucker Punch\",17829],[\"Warrior\",29344],[\"Kung Fu Panda 2\",8560],[\"Friends with Benefits\",7858],[\"Immortals\",10775],[\"X-Men: First Class\",10133],[\"Contagion\",129672],[\"Bad Teacher\",24034],[\"In Time\",24151],[\"One Day\",77821],[\"Scream 4\",7208],[\"Shame\",6698],[\"Mission: Impossible - Ghost Protocol\",15741],[\"We Need to Talk About Kevin\",11717],[\"Limitless\",26881],[\"Unknown\",7813],[\"Transformers: Dark of the Moon\",1618],[\"Cowboys & Aliens\",13424],[\"The Twilight Saga: Breaking Dawn - Part 1\",5750],[\"Cars 2\",28140],[\"Rango\",3712],[\"Melancholia\",1355],[\"Source Code\",20716],[\"Real Steel\",4375],[\"Horrible Bosses\",8734],[\"Rio\",1533],[\"Sherlock Holmes: A Game of Shadows\",8290],[\"Tower Heist\",12538],[\"Paul\",8773],[\"We Bought a Zoo\",7933],[\"Rise of the Planet of the Apes\",11476],[\"Your Highness\",10832],[\"The Lincoln Lawyer\",5232],[\"Colombiana\",25466],[\"Larry Crowne\",1480],[\"Abduction\",27042],[\"A Separation\",313],[\"Hugo\",6579],[\"The Adjustment Bureau\",8818],[\"The Tree of Life\",16373],[\"Margin Call\",12332],[\"Hanna\",14209],[\"50/50\",3409],[\"The Descendants\",3096],[\"The Adventures of Tintin\",4530],[\"Drive Angry\",3439],[\"Jack and Jill\",8968],[\"The Hangover Part II\",20142],[\"The Mechanic\",13825],[\"Ghost Rider: Spirit of Vengeance\",13152],[\"Battle Los Angeles\",8849],[\"The Green Hornet\",6847],[\"Killer Elite\",7037],[\"The Smurfs\",6297],[\"The Ides of March\",1294],[\"Soul Surfer\",11354],[\"The Artist\",28],[\"Bucky Larson: Born to Be a Star\",2046],[\"Diary of a Wimpy Kid: Rodrick Rules\",1980],[\"Carnage\",1599],[\"Attack the Block\",7667],[\"The Guard\",1481],[\"Gnomeo & Juliet\",2465],[\"Puss in Boots\",4520],[\"Bernie\",2090],[\"Season of the Witch\",2292],[\"Spy Kids 4-D: All the Time in the World\",114],[\"The Divide\",2338],[\"Red Riding Hood\",2580],[\"The Roommate\",7814],[\"Monte Carlo\",3959],[\"Alvin and the Chipmunks: Chipwrecked\",34792],[\"Our Idiot Brother\",3411],[\"Sanctum\",12592],[\"The Big Year\",3145],[\"Straw Dogs\",4502],[\"The Iron Lady\",12768],[\"Courageous\",4044],[\"Django Unchained\",15674],[\"The Hobbit: An Unexpected Journey\",33523],[\"The Hunger Games\",48209],[\"The Dark Knight Rises\",124235],[\"Pitch Perfect\",15102],[\"This Is 40\",6955],[\"The Hunt\",10353],[\"Prometheus\",8584],[\"Moonrise Kingdom\",25749],[\"The Impossible\",80658],[\"Argo\",11885],[\"The Twilight Saga: Breaking Dawn - Part 2\",6144],[\"Jack Reacher\",12827],[\"Zero Dark Thirty\",15769],[\"Cloud Atlas\",101592],[\"Skyfall\",94648],[\"The Perks of Being a Wallflower\",111215],[\"The Amazing Spider-Man\",86971],[\"Les Mis\\u00e9rables\",21322],[\"Silver Linings Playbook\",6843],[\"Snow White and the Huntsman\",8093],[\"The Master\",12347],[\"Looper\",27235],[\"Killing Them Softly\",983],[\"Flight\",10202],[\"21 Jump Street\",22228],[\"Ted\",71744],[\"Sinister\",53308],[\"This Means War\",13411],[\"Lincoln\",19758],[\"Brave\",54034],[\"The Place Beyond the Pines\",20034],[\"Dredd\",17032],[\"Dark Shadows\",29825],[\"John Carter\",14315],[\"Battleship\",15916],[\"Magic Mike\",25335],[\"Hotel Transylvania\",16742],[\"Lawless\",2133],[\"Spring Breakers\",11383],[\"Underworld: Awakening\",10925],[\"Piranha 3DD\",65676],[\"Safe House\",20243],[\"Seeking a Friend for the End of the World\",3176],[\"The Bourne Legacy\",11011],[\"Abraham Lincoln: Vampire Hunter\",14211],[\"Wreck-It Ralph\",32359],[\"American Reunion\",9890],[\"Savages\",6697],[\"Life of Pi\",24527],[\"Resident Evil: Retribution\",25792],[\"Men in Black 3\",73770],[\"Journey 2: The Mysterious Island\",18214],[\"Seven Psychopaths\",15910],[\"Rock of Ages\",4681],[\"The Wolf of Wall Street\",172205],[\"Iron Man 3\",101735],[\"The Conjuring\",117090],[\"Prisoners\",54430],[\"Thor: The Dark World\",100513],[\"The Purge\",186208],[\"Grown Ups 2\",17014],[\"Fast & Furious 6\",98600],[\"Gravity\",65363],[\"About Time\",78972],[\"The Hobbit: The Desolation of Smaug\",66235],[\"Man of Steel\",226093],[\"Star Trek Into Darkness\",23298],[\"The Hunger Games: Catching Fire\",188867],[\"Homefront\",40711],[\"Movie 43\",14708],[\"World War Z\",26653],[\"12 Years a Slave\",16442],[\"G.I. Joe: Retaliation\",14394],[\"Dallas Buyers Club\",2837],[\"The Secret Life of Walter Mitty\",27434],[\"Pacific Rim\",88449],[\"The Croods\",30389],[\"The Way Way Back\",19621],[\"The Internship\",1018],[\"Elysium\",40845],[\"Hansel & Gretel: Witch Hunters\",35400],[\"Captain Phillips\",18367],[\"Evil Dead\",9283],[\"White House Down\",10698],[\"Olympus Has Fallen\",20707],[\"Lone Survivor\",58718],[\"Oz the Great and Powerful\",20660],[\"Pain & Gain\",67115],[\"Out of the Furnace\",14666],[\"Coherence\",8641],[\"Stoker\",9696],[\"The Mortal Instruments: City of Bones\",64658],[\"Mama\",53583],[\"Guardians of the Galaxy\",78563],[\"Interstellar\",200297],[\"John Wick\",40428],[\"Edge of Tomorrow\",64726],[\"Gone Girl\",23893],[\"Captain America: The Winter Soldier\",138030],[\"The Grand Budapest Hotel\",67822],[\"Whiplash\",61566],[\"Kingsman: The Secret Service\",79929],[\"Ex Machina\",28195],[\"Divergent\",140505],[\"Nightcrawler\",25185],[\"The Hobbit: The Battle of the Five Armies\",113602],[\"The Maze Runner\",70191],[\"Lucy\",179918],[\"What We Do in the Shadows\",50697],[\"The Imitation Game\",4977],[\"X-Men: Days of Future Past\",152816],[\"Predestination\",27462],[\"Birdman or (The Unexpected Virtue of Ignorance)\",39894],[\"It Follows\",42512],[\"Blended\",51670],[\"The Judge\",62554],[\"The Giver\",37191],[\"300: Rise of an Empire\",63441],[\"American Sniper\",68301],[\"Big Hero 6\",63228],[\"The Amazing Spider-Man 2\",252152],[\"Maleficent\",68791],[\"Into the Woods\",13104],[\"Unbroken\",55996],[\"The Lego Movie\",124291],[\"The Hunger Games: Mockingjay - Part 1\",51069],[\"Tusk\",30464],[\"Night at the Museum: Secret of the Tomb\",22192],[\"The Fault in Our Stars\",603405],[\"As Above, So Below\",26081],[\"Annabelle\",72587],[\"Boyhood\",33531],[\"The Theory of Everything\",229534],[\"The Expendables 3\",45880],[\"The Interview\",27390],[\"The Drop\",23550],[\"Transformers: Age of Extinction\",40476],[\"Inherent Vice\",20329],[\"The Babadook\",71549],[\"Sex Tape\",16882],[\"The Other Woman\",118092],[\"Wild Tales\",5511],[\"Wild\",21271],[\"Foxcatcher\",15327],[\"The Guest\",29772],[\"Mad Max: Fury Road\",155468],[\"Avengers: Age of Ultron\",740121],[\"Crimson Peak\",19882],[\"The Big Short\",48193],[\"Jurassic World\",370725],[\"The Martian\",94716],[\"Room\",64729],[\"Spotlight\",22101],[\"Cinderella\",181231],[\"In the Heart of the Sea\",71459],[\"The Hunger Games: Mockingjay - Part 2\",152940],[\"The Visit\",53340],[\"Creed\",155111],[\"Black Mass\",17475],[\"Home\",35130],[\"Pitch Perfect 2\",42341],[\"San Andreas\",84230],[\"Tomorrowland\",43793],[\"The Danish Girl\",99980],[\"Burnt\",18558],[\"The Good Dinosaur\",54298],[\"Hitman: Agent 47\",88206],[\"Steve Jobs\",77640],[\"Hardcore Henry\",83453],[\"Demolition\",18658],[\"Macbeth\",12835],[\"Run All Night\",17939],[\"Mr. Right\",43372],[\"Magic Mike XXL\",30250],[\"Victor Frankenstein\",38357],[\"Goosebumps\",60952],[\"Aloha\",26355],[\"Baahubali: The Beginning\",195603],[\"Secret in Their Eyes\",15001],[\"Irrational Man\",9962],[\"Beasts of No Nation\",77000],[\"Me and Earl and the Dying Girl\",41147],[\"Tangerine\",9727],[\"A Walk in the Woods\",631],[\"Eddie the Eagle\",7810],[\"The Second Best Exotic Marigold Hotel\",3635],[\"The Meddler\",3377],[\"We Are Your Friends\",113946],[\"Grandma\",3111],[\"Project Almanac\",24400],[\"Equals\",6345],[\"Hot Pursuit\",51631],[\"90 Minutes in Heaven\",2421],[\"Rock the Kasbah\",5769],[\"The Sea of Trees\",5079],[\"The Lazarus Effect\",17776],[\"Love the Coopers\",23621],[\"Slow West\",9513],[\"Cop Car\",901],[\"Our Brand Is Crisis\",4922],[\"Unfinished Business\",4570],[\"Hot Tub Time Machine 2\",7912],[\"Hello, My Name Is Doris\",16793],[\"Ricki and the Flash\",6922],[\"Danny Collins\",4173],[\"Mr. Holmes\",5410],[\"War Room\",9140],[\"Dragon Blade\",12312],[\"Suicide Squad\",235967],[\"The Magnificent Seven\",39840],[\"Captain America: Civil War\",122895],[\"Deadpool\",154073],[\"Doctor Strange\",306662],[\"Split\",142855],[\"Me Before You\",208743],[\"Don't Breathe\",148721],[\"Moana\",168504],[\"Arrival\",130760],[\"X-Men: Apocalypse\",302978],[\"Captain Fantastic\",27387],[\"Star Trek Beyond\",69614],[\"La La Land\",188671],[\"The Conjuring 2\",186770],[\"Zootopia\",88403],[\"Hacksaw Ridge\",157113],[\"13 Hours\",28750],[\"Rogue One: A Star Wars Story\",338106],[\"Batman v Superman: Dawn of Justice\",524980],[\"Kung Fu Panda 3\",99967],[\"The Nice Guys\",30895],[\"Independence Day: Resurgence\",107839],[\"Miss Peregrine's Home for Peculiar Children\",123026],[\"Fantastic Beasts and Where to Find Them\",181647],[\"Resident Evil: The Final Chapter\",62430],[\"Criminal\",8457],[\"Underworld: Blood Wars\",39261],[\"The Shallows\",86734],[\"Sausage Party\",74745],[\"Hell or High Water\",16970],[\"The Purge: Election Year\",52052],[\"The Accountant\",45626],[\"The Neon Demon\",47513],[\"Moonlight\",78900],[\"Jason Bourne\",43750],[\"Manchester by the Sea\",34686],[\"Central Intelligence\",369103],[\"War Dogs\",55825],[\"The Legend of Tarzan\",144633],[\"Silence\",35996],[\"Gods of Egypt\",81829],[\"The Founder\",31777],[\"Inferno\",39487],[\"Now You See Me 2\",69925],[\"Miss Sloane\",11317],[\"10 Cloverfield Lane\",43732],[\"The Lost City of Z\",14275],[\"Finding Dory\",196235],[\"Lion\",121976],[\"Allied\",27554],[\"Jack Reacher: Never Go Back\",54084],[\"Snowden\",100159],[\"Triple 9\",18855],[\"Deepwater Horizon\",39891],[\"Sully\",71289],[\"Morgan\",17302],[\"The Edge of Seventeen\",6380],[\"The 5th Wave\",106496],[\"The Great Wall\",38046],[\"The Boy\",73792],[\"The Belko Experiment\",22749],[\"The Angry Birds Movie\",45060],[\"Nerve\",70211],[\"Jackie\",24160],[\"Keanu\",12468],[\"Kubo and the Two Strings\",10159],[\"Office Christmas Party\",13384],[\"Leap!\",14431],[\"Ouija: Origin of Evil\",35603],[\"All I See Is You\",12777],[\"Money Monster\",9994],[\"Bleed for This\",79634],[\"Mr. Church\",27490],[\"Ride Along 2\",54972],[\"Race\",15116],[\"Incarnate\",423],[\"Thor: Ragnarok\",890224],[\"Darkest Hour\",21853],[\"It\",268774],[\"Spider-Man: Homecoming\",87021],[\"Blade Runner 2049\",243765],[\"Guardians of the Galaxy Vol. 2\",257340],[\"The Greatest Showman\",119335],[\"Jumanji: Welcome to the Jungle\",197315],[\"Baywatch\",74664],[\"Home Again\",107067],[\"The Fate of the Furious\",163877],[\"Get Out\",127646],[\"Dunkirk\",338025],[\"Coco\",41744],[\"Baby Driver\",127545],[\"The Boss Baby\",84497],[\"Logan\",334891],[\"Wonder Woman\",262465],[\"Alien: Covenant\",188342],[\"John Wick: Chapter 2\",102864],[\"Wonder\",201198],[\"Justice League\",458661],[\"Mother!\",63426],[\"Pirates of the Caribbean: Dead Men Tell No Tales\",163611],[\"The Shape of Water\",138078],[\"Disobedience\",34881],[\"Kong: Skull Island\",95769],[\"Kingsman: The Golden Circle\",218799],[\"Three Billboards Outside Ebbing, Missouri\",47704],[\"Star Wars: Episode VIII - The Last Jedi\",796245],[\"I, Tonya\",45093],[\"Atomic Blonde\",8207],[\"Wind River\",14013],[\"Murder on the Orient Express\",97444],[\"King Arthur: Legend of the Sword\",42234],[\"Lady Bird\",156123],[\"Logan Lucky\",34154],[\"Fifty Shades Darker\",96130],[\"Happy Death Day\",55477],[\"Transformers: The Last Knight\",146912],[\"Good Time\",25853],[\"Ghost in the Shell\",193176],[\"Hostiles\",9137],[\"Valerian and the City of a Thousand Planets\",61741],[\"The Dark Tower\",145180],[\"Pitch Perfect 3\",106065],[\"American Assassin\",29109],[\"The Florida Project\",49574],[\"The Death of Stalin\",30509],[\"Gifted\",162214],[\"Phantom Thread\",34399],[\"The Upside\",18734],[\"Annabelle: Creation\",43365],[\"American Made\",35457],[\"Geostorm\",63625],[\"CHIPS\",10306],[\"Ferdinand\",15015],[\"Only the Brave\",14902],[\"The Beguiled\",27068],[\"The Glass Castle\",15285],[\"The Big Sick\",22128],[\"The Foreigner\",92766],[\"Jigsaw\",95223],[\"The Snowman\",77506],[\"The Disaster Artist\",72635],[\"47 Meters Down\",29154],[\"The Post\",24209],[\"Everything, Everything\",134314],[\"All the Money in the World\",22299],[\"Suburbicon\",19934],[\"Despicable Me 3\",129976],[\"Going in Style\",24957],[\"Downsizing\",33565],[\"Before I Fall\",87683],[\"Wonder Wheel\",4114],[\"Paddington 2\",4712],[\"Girls Trip\",20776],[\"The Space Between Us\",41810],[\"The Mountain Between Us\",18937],[\"T2 Trainspotting\",8766],[\"The Hero\",3618],[\"Battle of the Sexes\",13306],[\"The Book of Henry\",118577],[\"The Shack\",36595],[\"Rings\",58008],[\"The Lego Ninjago Movie\",53773],[\"The House\",28352],[\"Detroit\",2532],[\"All Eyez on Me\",45572],[\"Sleepless\",33745],[\"Tulip Fever\",32087],[\"Stronger\",35671],[\"Smurfs: The Lost Village\",14852],[\"Snatched\",10558],[\"Victoria & Abdul\",67208],[\"Fist Fight\",17122],[\"How to Be a Latin Lover\",11512],[\"Same Kind of Different as Me\",363],[\"My Little Pony: The Movie\",31702],[\"Table 19\",9700],[\"Father Figures\",187],[\"Kidnap\",1372],[\"Diary of a Wimpy Kid: The Long Haul\",14803],[\"Churchill\",3436],[\"The Bookshop\",829],[\"A Bad Moms Christmas\",17075],[\"Captain Underpants: The First Epic Movie\",185783],[\"Wish Upon\",22365],[\"Marshall\",8617],[\"The Resurrection of Gavin Stone\",2981],[\"The Bye Bye Man\",23558],[\"A Quiet Place\",154582],[\"Avengers: Infinity War\",4102339],[\"Deadpool 2\",661628],[\"Bohemian Rhapsody\",367993],[\"Black Panther\",576783],[\"A Simple Favor\",2343],[\"Aquaman\",677746],[\"Ready Player One\",331044],[\"Spider-Man: Into the Spider-Verse\",580550],[\"Mission: Impossible - Fallout\",351165],[\"Venom\",1468099],[\"Green Book\",68876],[\"The Predator\",108504],[\"White Boy Rick\",30464],[\"Solo: A Star Wars Story\",229168],[\"Midnight Sun\",78776],[\"Under the Silver Lake\",38193],[\"Den of Thieves\",35648],[\"Annihilation\",97457],[\"Red Sparrow\",78384],[\"A Star Is Born\",241932],[\"Mamma Mia! Here We Go Again\",60009],[\"Instant Family\",65271],[\"Jurassic World: Fallen Kingdom\",668509],[\"Eighth Grade\",85012],[\"Suspiria\",2430],[\"The Favourite\",49892],[\"The Meg\",325284],[\"Mandy\",17894],[\"Sicario: Day of the Soldado\",45948],[\"Fifty Shades Freed\",23655],[\"Incredibles 2\",486958],[\"The First Purge\",134779],[\"Ophelia\",42001],[\"The Nun\",404832],[\"The Equalizer 2\",48539],[\"The Commuter\",22718],[\"Game Night\",28550],[\"Tag\",70565],[\"The Hate U Give\",279734],[\"Bad Times at the El Royale\",36643],[\"Fantastic Beasts: The Crimes of Grindelwald\",172765],[\"Hunter Killer\",40950],[\"The Mule\",90049],[\"Beautiful Boy\",16319],[\"Capharna\\u00fcm\",20324],[\"Adrift\",48941],[\"Love, Simon\",169906],[\"Bumblebee\",264392],[\"Vice\",28700],[\"Hotel Transylvania 3: Summer Vacation\",67794],[\"Mile 22\",63794],[\"Peter Rabbit\",21905],[\"The Spy Who Dumped Me\",27294],[\"Mary Queen of Scots\",50368],[\"Ralph Breaks the Internet\",252402],[\"Overlord\",69380],[\"Mortal Engines\",140069],[\"Creed II\",167926],[\"Mid90s\",131083],[\"Replicas\",18252],[\"Searching\",76560],[\"Slender Man\",242545],[\"Arctic\",30402],[\"London Fields\",5671],[\"The House with a Clock in Its Walls\",32991],[\"Can You Ever Forgive Me?\",9644],[\"Johnny English Strikes Again\",290493],[\"The Nutcracker and the Four Realms\",50130],[\"Winchester\",21487],[\"The 15:17 to Paris\",23542],[\"SuperFly\",35233],[\"Early Man\",11383],[\"Kin\",2722],[\"Goosebumps 2: Haunted Halloween\",42352],[\"Midsommar\",173185],[\"Once Upon a Time... In Hollywood\",358875],[\"Avengers: Endgame\",3401396],[\"Escape Room\",153381],[\"Joker\",1497107],[\"Yesterday\",85831],[\"John Wick: Chapter 3 - Parabellum\",559408],[\"Knives Out\",73367],[\"Fast & Furious Presents: Hobbs & Shaw\",459689],[\"Captain Marvel\",1133775],[\"After\",4917],[\"Spider-Man: Far from Home\",1995083],[\"Jojo Rabbit\",282551],[\"It Chapter Two\",485185],[\"1917\",207588],[\"Star Wars: Episode IX - The Rise of Skywalker\",677248],[\"Ford v Ferrari\",152996],[\"The Irishman\",106088],[\"Jumanji: The Next Level\",333086],[\"Alita: Battle Angel\",169458],[\"Us\",338971],[\"Ready or Not\",107675],[\"Terminator: Dark Fate\",145378],[\"Downton Abbey\",56201],[\"Gemini Man\",175444],[\"Booksmart\",10204],[\"Dora and the Lost City of Gold\",434451],[\"Glass\",268356],[\"The Best of Enemies\",4255],[\"Marriage Story\",73749],[\"Godzilla: King of the Monsters\",346785],[\"Rocketman\",141190],[\"Hustlers\",6582],[\"Toy Story 4\",1112712],[\"Zombieland: Double Tap\",319869],[\"Long Shot\",23019],[\"Angel Has Fallen\",47176],[\"Men in Black: International\",351642],[\"X-Men: Dark Phoenix\",244878],[\"Frozen II\",950304],[\"Brightburn\",173849],[\"Ad Astra\",44527],[\"The Peanut Butter Falcon\",54292],[\"Good Boys\",59628],[\"Ma\",93033],[\"Five Feet Apart\",167272],[\"Cold Pursuit\",22810],[\"Crawl\",325918],[\"Annabelle Comes Home\",285500],[\"Rambo: Last Blood\",178596],[\"Late Night\",7178],[\"The Goldfinch\",63612],[\"A Beautiful Day in the Neighborhood\",188933],[\"How to Train Your Dragon: The Hidden World\",129831],[\"The Secret Life of Pets 2\",38379],[\"The Curse of la Llorona\",30396],[\"Captive State\",12934],[\"Scary Stories to Tell in the Dark\",164310],[\"The Intruder\",45956],[\"The Angry Birds Movie 2\",27184],[\"What Men Want\",50265],[\"Weathering with You\",291312],[\"The Lego Movie 2: The Second Part\",104143],[\"Dumbo\",254799],[\"The Beach Bum\",5511],[\"The Art of Racing in the Rain\",88200],[\"Blinded by the Light\",6565],[\"Ip Man 4: The Finale\",191629],[\"Abominable\",46219],[\"Miss Bala\",30757],[\"Triple Threat\",7072],[\"The Wandering Earth\",17065],[\"Breakthrough\",145645],[\"Poms\",5754],[\"Little\",25122],[\"The Prodigy\",38095],[\"Overcomer\",2420],[\"A Madea Family Funeral\",9589],[\"The Sun Is also a Star\",121378],[\"K-12\",601360],[\"Unplanned\",50183],[\"Tenet\",311633],[\"Birds of Prey\",343487],[\"The Invisible Man\",59513],[\"Sonic the Hedgehog\",1131694],[\"Dolittle\",521491],[\"The Call of the Wild\",100010],[\"The Eight Hundred\",4365],[\"The Dressmaker\",16547],[\"Paranormal Activity: The Ghost Dimension\",23112],[\"Truth\",3473],[\"Strangerland\",2299],[\"Howl\",8134],[\"Frankenstein\",10044],[\"Anchorman 2: The Legend Continues\",25866]],\"hovertemplate\":\"Views=%{x}<br>Box_office=%{y}<br>name=%{customdata[0]}<br>Likes=%{customdata[1]}<extra></extra>\",\"legendgroup\":\"\",\"marker\":{\"color\":\"red\",\"symbol\":\"circle\"},\"mode\":\"markers\",\"name\":\"\",\"orientation\":\"v\",\"showlegend\":false,\"x\":[2631629,2631629,289724,289724,1146945,1146945,1146945,1146945,1130539,1130539,2862275,2862275,604613,604613,1375254,1375254,1375254,958927,958927,283769,283769,1051353,1051353,498142,498142,454094,2613037,488396,1033543,1712766,1338910,16569486,1513595,826178,3395280,647496,1397592,9679306,6211461,2413736,1300613,1300613,1300613,2713539,1081784,1081784,36318,255417,1829617,201119,5950515,5950515,5950515,716842,716842,716842,1523630,505966,10413304,1149072,8149464,3349,45638,882417,1567300,2049437,1791704,689660,1773517,99901,3982126,622700,1632825,64927,329252,346487,6400218,131756,1614275,966992,893417,1969454,290055,13657067,851838,4398931,394209,5698660,251189,1815611,168330,3637076,712048,562540,49493,426186,582679,1775529,7386940,740315,303199,303199,1569102,2592291,408217,1360400,39827,639630,990775,3340687,2060772,3395280,3395280,119384,740303,1451467,1051549,1051549,1319802,5231591,2366,121081,15957,222699,523043,167576,255586,348309,1721726,9783955,367206,468018,1398366,1749787,1601074,22450,1909503,709282,420175,1511475,1511475,814668,429232,773764,243469,11304234,685904,10621826,1128222,11005,927225,10803581,13961,371089,18418664,5708600,12086764,5911899,18564278,48178612,18197819,2795962,4316799,5110072,11619457,7803121,3452380,1001331,18265832,39055146,1456540,588516,74398614,18286878,26515747,651647,3644746,41484626,37214177,12165094,2002004,1346608,16267262,337896,36817650,2600632,33969196,6057967,15613461,2031380,1737362,4901853,6874999,2129743,31988201,8114245,1612318,15253654,2087856,683751,9913503,6213673,2126156,303556,10456159,229249,141080,2307697,477503,1973236,2855717,7636777,6591557,3202983,22697146,815431,2709220,2657616,5820302,3539361,14244651,3046241,9090557,14836439,2143611,11571769,425690,10934727,1250291,946423,210760,450915,388412,1271247,6971741,6363489,174794,693033,6592749,6367147,16135421,2006499,2412906,2472802,2756773,5322266,9408098,6427313,811576,1058344,30736,1708311,116445,3307250,2046069,1732159,960420,3767408,7205019,75792,6090884,1000539,5274199,4254914,560463,316345,423087,353445,1791432,279218,279218,2307428,13433064,1269431,3302728,2225065,4938671,3823528,7717150,1130222,650888,1060172,1503928,144876,64964,694898,1295978,2565893,713932,195677,106145,1063167,2441997,816027,667469,4668217,1723974,435138,335896,750864,2496544,1364277,156663,2179362,19500763,451736,109367,434780,527283,1449805,43661,1006801,1455543,320016,909635,313900,208234,249841,115259,38413,224748,247728,435683,242238,11063,555143,745056,7780,423505,552481,11880743,26452579,12354163,746944,5241392,2850362,2574754,3995758,3714500,8541876,1891605,11062944,1670104,7930084,987810,88224,2375603,7566551,2324330,1673024,1620569,2209356,29659659,4289699,2933462,12692118,807713,2671005,2545952,1358112,4270400,2614690,331216,5506119,2456075,32797435,2392702,1083259,8724881,2808731,2508515,1611952,1861849,6332354,1307280,1163886,4863051,5898131,4195187,7440394,436718,8346497,110599,1231008,2182065,2559581,2248827,2673721,3865865,802593,392538,1030588,1410829,5369208,10444669,2234751,2219482,2906129,2288304,3532627,478014,2030815,9027,1018433,230958,335716,791737,387826,920065,1569906,861413,505900,40502,696192,834120,2063152,314711,14608154,1968267,2838752,2475688,2258297,1338953,773879,1888642,7546475,10110636,39401568,4480867,2945126,1534004,1615031,3457723,17304236,2940464,1803056,2742969,4062558,23026894,30617962,12384496,16911338,4258792,1069515,1592860,1504471,10084518,159350,2279375,4067800,24244725,8837203,3722929,4707014,21307820,2706712,3777695,3179045,5530850,5996735,10742854,5375901,429571,2056717,4669729,18462191,9501004,1413391,4750034,3540885,11764929,4228698,2061733,4842857,6889524,18455311,4361121,2659518,976292,29827668,30726463,35700932,13640817,21995061,41898109,4288270,29214620,20217081,16146782,14822584,49219655,8083980,32513220,11881584,4331536,12561639,6961538,2000714,810280,5490675,22812952,14830608,3746727,1872558,12058130,10676180,3569737,1269671,9223481,6289224,20280772,8099762,22892069,5733374,1490953,4171965,9425434,16198928,10366412,36084861,13765909,17336794,15802931,33160766,14054342,15226132,20701113,9018887,38789694,8726612,23968145,13182473,44271725,7196552,1425657,37469393,7809529,15755181,10498607,13661334,8385830,8575534,18562100,24735187,21355289,41330418,18209296,4133291,11701382,34729678,14054262,7085055,6823471,47647207,3193391,29233708,9422304,23911719,18068752,8892766,7494210,7078665,6856928,17088372,7791266,17203540,1262219,9620967,9058572,7642035,35993794,93136456,3065553,12773447,92701512,20224641,13800069,6057836,42139777,15513097,23716245,13554154,28173455,5324732,14727961,10185564,27265464,10381190,14475273,4914157,21569428,22356634,16277652,20703535,3298748,2705738,8945572,9848580,12169929,10504471,18523254,11032453,27672008,5153915,5444646,13896281,7496171,2800897,723041,885307,1265354,1106149,21065381,1112159,9618992,1098878,11298833,702611,2010404,1139867,6733696,6240021,3010137,611230,4619670,3578211,3022961,3334966,4274511,2396415,1565492,1646210,3792400,43612620,14142063,30313451,21036223,44742333,30697114,30004423,33417544,40308746,24311291,56516429,8749016,19343044,41291629,36561903,23702488,26214851,8391110,41658553,78302379,26686552,10156012,28382453,17778867,19229727,13903964,4578870,8757062,24346628,15489907,7171209,11426920,12510988,10976481,18845165,12621587,9731437,42912165,14548376,38000916,8090083,27144126,6192544,13804143,11690272,3803131,11454542,2533442,31593445,18210247,7006452,13187256,17823293,7735467,15721724,17685715,6923623,1429513,21198345,11983948,17667649,3502401,18298837,11773792,5330009,3088198,1066633,3845830,2205373,8777065,1940956,2626913,9218327,3306463,15658533,1992939,1154795,82243099,6353514,44280574,11351625,35623611,22560304,23654363,36663624,18761468,12546200,20630519,22583419,47784685,8796399,18613122,25098808,35233892,30776306,30246282,21138160,14469341,40391529,20490536,21176614,26297189,9139243,17746001,26172011,10260484,57803372,6672099,680370,3159917,15533608,10645412,20483382,12207289,24943042,7995923,21592352,3243822,34794506,2846147,10266703,29513664,9014982,5762583,6124737,3255527,17144647,11718705,14380986,9534011,14721588,17323551,2317347,8382765,3147923,4298558,2361654,4969048,11836682,19777041,14354923,8457067,9034518,18106381,11190272,7201575,4905116,39902910,6347825,11854993,11377667,2105234,852242,6920332,6498975,3505626,1051516,1375786,3276936,10082417,11206236,10832658,9251335,4800310,624850,4830120,8916345,4083493,4405453,4249448,3604054,7627060,4910894,3272448,59779,5965811,1866969,592708,5704042,3543070,255598,718510,4476409,12944992,3843430,1177621,511421,5697614,33230714,258808507,50169229,39090190,44884097,1202018,65230598,36958811,40304361,41547587,86084817,13913414,14868974,6201341,20357128,10658687,5229367,8110955,22147426,33282563,36250494,10264881,18311428,68680484,7844339,260805,11844645,50974171,2840418,16277000,3958340,164357291,19037801,3309683,53087617,12168962,10071799,10707151,13243866,22989427,26019770,15157622,12495931,16695416,12875468,2494925,7011652,30712813,28023160,12730025,18034696,12899254,7545097,10664625,5029019,21551133,16404403,28122135,20591714,6195350,4462130,10299418,24294703,10137480,1282513,6671844,5098502,17767318,6437662,18436190,6090134,8507166,3296421,430594,7862992,24447219,38690760,155072913,25933768,99868787,8869712,42550267,19419518,122627848,62162515,1071632,87314471,28751853,40817995,28236238,49420530,17437009,10413636,45820755,20341737,35330100,14756634,20008952,10911770,23041196,1200627,35286276,28612647,3048088,6494587,30130722,22019887,4629117,66617843,20932849,4861334,7656137,26134024,19935639,101359095,21340550,10696633,16652387,22901413,12486721,13827605,9295713,36721616,23745028,25953266,12189931,8231957,16001784,11483722,27320266,4340780,7081956,19083743,12134664,6379364,11716782,8928855,11638598,21239912,1291887,10060847,1193170,16925898,4455780,13217409,1865022,2021749,8044695,4956554,2385808,41498486,264924,1082324,10999120,8090062,5489284,36951864,30405295,12838707,52206777,28900970,11048599,836702,2374977,4303815,1451713,1519560,974857,3298179,10095222],\"xaxis\":\"x\",\"y\":[0,0,0,0,0,0,0,0,0,0,0,0,0,0,0,135026,0,0,0,0,0,0,0,0,0,0,0,0,31309,3002884,0,4719695,411115,0,0,0,104507,643557,0,2633527,0,0,0,0,49970,0,0,0,59700000,0,0,0,0,0,0,0,0,0,17671101,0,0,0,0,0,6075,0,0,0,1301696,0,0,0,0,0,0,0,0,0,3447633,0,0,0,0,0,0,0,0,0,0,0,0,2642899,0,2334228,0,0,0,0,0,2160298,0,0,0,0,0,0,0,0,0,1982505,0,0,0,0,0,0,133332,0,0,0,0,0,0,0,0,0,0,0,0,0,0,0,14394097,0,0,44695,0,0,0,0,0,1986615,0,0,0,0,0,0,0,0,0,0,0,41092328,29916207,19632053,68851475,57063861,2270,296187079,91119319,25507137,24922237,21589395,2260616,261317921,61489265,357400,191502426,424967620,504050219,53898845,1083720877,50083616,43229904,11534477,858553,379014294,23384939,73475268,110317580,15189934,99378985,114197742,80460948,46789413,5798974,104414200,836836967,623933331,294805697,48917974,271457301,96188903,329398046,154026136,4324817,224920375,321669741,5060438,99557032,592462816,199006387,1278650,319713881,494879471,67876281,7099598,290745055,89520336,543113985,102820008,252276927,278780441,698491347,226497209,157107755,15440333,261989769,83188165,60738797,274470394,170458922,400063852,105734416,1066970811,67448651,75026327,129190869,45491656,45636368,321885765,29397654,167805466,204594016,6890432,177238796,64780213,336365676,76196538,9918093,127233108,19439764,67918658,56032889,10903312,293503354,60040976,300228084,80205382,24172201,98159963,211780824,62695489,154711438,35626958,422618,54806823,752600867,415686217,27093592,34758951,152263880,32686500,310650585,4681651,9322895,60331447,66984887,81126522,27293743,79628830,114984666,91720255,86855739,48668907,149411550,112462508,49843011,134748021,89137047,55611001,101729,32054369,136333522,52844496,18689058,93251121,3494154,43053376,42059111,14788642,60321861,66166000,106956330,18409891,80547866,2648195,14311701,5144717,11104555,42345360,8087000,9933873,177512032,4052191,649626,10300416,60673972,69432527,143485,8307227,77477008,20529194,48190704,405380,1671196,36015260,15625544,405861,15134293,203509374,21500813,156190,449702,37981984,453708,146149,25603,2820490,370569774,449326618,1342321665,3741098,288383523,626137675,151653750,110206216,214945591,77187281,219851172,69935600,216639112,145051197,149228077,1045713802,89792502,23308615,665692281,149542245,226904017,352616690,136515867,216197492,173930596,59389433,97231420,19123767,694713380,9232318,161849455,135710029,1123794079,174822325,712205856,559852396,245724603,17039814,147332697,299268508,209838559,483866518,543848418,152930623,97984015,120081841,481800873,28013733,86752352,71508440,75055070,82087155,22926076,185770310,127869379,58409247,19504039,63782078,41097853,177243185,373993951,40909909,149673788,586764305,76130093,132563930,211819354,227817248,57084522,563749323,76338111,47120948,133432856,2530394,72526996,30722632,6206022,19561904,193967670,554987477,10173061,91627228,85564310,145676,90260376,40492652,39782683,342695435,25804448,108609310,8179416,11168712,115890699,35185884,426074373,1017003568,694394724,1081142612,115350426,88215156,15843274,403354469,68264022,198087212,232325503,829747654,218340595,132820716,130482868,1108569499,33384127,757930663,441809770,236412453,396592829,28258060,176506819,37930465,161772375,201585328,549368315,82515113,156491279,275293450,538983207,47052899,41037742,245527149,284139100,303025485,167739961,358375603,55404207,32170399,160112671,8518634,208076205,11681781,276144750,116471580,471222889,234989584,82966152,609016565,240159255,624026776,335260290,32226382,59418613,392000694,1214811252,320290989,122126687,644783140,89328627,246984278,788680968,723192705,87100449,959007513,668045518,467365246,865011746,48449416,32443111,540455876,187733202,375740705,55736588,188133322,411002906,587205319,26474920,93492844,286140700,226349749,218791811,97542952,205366737,170270201,154802912,493311825,87305549,15661554,139745,12077441,95396573,146428180,773350147,701729206,86081711,370541256,369330363,714421503,172945750,49396747,414351546,36869414,288885818,47398992,962182865,348319861,458863600,7253160,233555708,746045700,4942449,103215094,21947454,127994610,84419388,66980456,337580051,547426372,657869686,708982323,758411779,212902372,161459297,468060692,755356711,1882074,363204635,307166834,41898409,257579282,48137666,123726688,214657577,11782625,18658381,1104054072,14710975,10312540,126069509,196710396,30642704,52501541,19206513,2700051,375658750,1402809540,74679822,133440870,1670516444,630162448,35401758,98690254,542358331,93920758,658344137,98450062,173567581,99775678,386041607,287144079,473990832,209035668,64191523,36606743,332207671,82347656,34441873,16810562,4366460,16322067,71561644,607595,117813057,34227298,158261424,26250020,24548038,34854990,27391084,90777,9074749,828874,37461274,46152800,85978292,5425148,11122090,7205073,33213241,2084628,51380201,4842699,3394174,906995,38356892,42426912,1295574,143658,8527658,14431253,13081651,14659448,41325328,10835752,29355203,73256266,122606884,746846894,162360636,1153337496,782836791,677796076,278454417,208314186,157830487,644411850,203388186,543934105,23123592,343471816,448906865,321788219,1024121104,180563636,69411370,1056057720,873637528,521170825,62788218,389681935,296482446,814044001,312242626,38803993,81093313,119100758,140705322,37879877,118587880,155160045,3377430,65336603,415484914,78988148,216972543,86234523,356700357,23834809,150680864,24121245,220021259,334897606,9101546,110216998,19263938,1028570942,140853810,119520023,162146076,37357216,23177948,121790373,240797623,8809407,19370020,109906372,334933831,73929392,11084630,352333929,85251425,29777777,20651333,76249438,114501299,106127278,81705746,678150,93282604,6698679,685780,124608438,25070261,9037058,853983911,150847274,701796444,880166924,259334548,863756051,438006904,962542945,177856751,37270721,1236005118,255589157,527016307,807817888,226945087,527965936,619179950,822824522,240891763,171547802,306209289,657926987,44516999,794881442,195333312,8003180,566652812,410902662,160192267,1332698830,53939297,100014025,43980821,352794081,148675066,78966486,48453605,381545846,125479266,605425157,3283369,169846945,35669017,225973340,113231078,185400345,67234188,10971298,24646055,43069254,47756590,125856180,306515884,134866593,221600160,26800152,296069199,26351322,27869129,22088533,56411585,145418070,102952888,43155261,29820616,62198461,180419231,61621140,56996304,12751667,1034800131,84918541,55003890,16373843,15889124,227978645,140552359,16080475,62832209,41681746,4101699,18598607,4596705,96942115,83080890,123081555,34184504,23355100,55668698,32917353,9204549,8503658,197183546,60845711,66558465,41087017,62547032,6423605,60330833,5042014,25601244,34814102,40140972,6724365,12062146,130560428,125427681,23468586,10116816,2308355,29874280,350320413,2048359754,786470484,911902649,1347597973,97644617,1148485886,582893671,375540831,791657398,856085151,321752656,160542134,25957482,392924807,27365467,2053469,80509622,43070915,151572634,436188866,395618157,120556201,1310466296,14347433,7942093,95918706,530259473,1555203,75837743,371987838,1244639527,137056262,242115,365551694,190400157,119942387,117679066,78130625,34934009,31882724,654855901,31676128,174804407,16636604,64417003,59945012,66316289,467989645,76073488,528583774,66308758,351496066,75339459,46712809,529323962,41657844,83869818,214215889,9303022,9330075,75462037,51738549,4165776,487420,131523093,12442161,158972499,173961069,44019588,57076286,20780685,54622814,10313019,93320380,47967636,374565754,-2147483648,155712077,1074427370,153193369,327281779,311539397,759056935,1128462972,69756455,1131927996,90335025,473093228,384623579,1078232589,225508210,968853,800059707,404980543,255184580,57615777,261119292,237860050,173469516,24959607,119682635,246999039,10209813,333686,386600138,195179299,157563598,1073394593,122810399,53873809,146661977,253890701,252442974,1450026933,32893421,127461872,133031473,111037232,61105744,91527795,76419755,91542097,231252591,91490353,22386555,9932621,67760877,525683457,430051293,123133739,8808611,104545505,36599361,147792047,72216294,193457467,192306508,353284621,4554416,33766787,18096691,176345966,180314199,15383580,345900,699992512,50444358,16418218,49000667,21150265,38026103,74747725,6750029,359377,21354152,363656624,201858461,143151000,319715683,245487753,111105497,461421559,18340000,78099553,2541554,17472,617000,112006296,173649015],\"yaxis\":\"y\",\"type\":\"scatter\"},{\"line\":{\"color\":\"black\",\"width\":2},\"mode\":\"lines\",\"name\":\"Linear Regression\",\"x\":[2366,258808507],\"y\":[59360504.49279505,3678239829.108789],\"type\":\"scatter\"}],                        {\"template\":{\"data\":{\"barpolar\":[{\"marker\":{\"line\":{\"color\":\"white\",\"width\":0.5},\"pattern\":{\"fillmode\":\"overlay\",\"size\":10,\"solidity\":0.2}},\"type\":\"barpolar\"}],\"bar\":[{\"error_x\":{\"color\":\"rgb(36,36,36)\"},\"error_y\":{\"color\":\"rgb(36,36,36)\"},\"marker\":{\"line\":{\"color\":\"white\",\"width\":0.5},\"pattern\":{\"fillmode\":\"overlay\",\"size\":10,\"solidity\":0.2}},\"type\":\"bar\"}],\"carpet\":[{\"aaxis\":{\"endlinecolor\":\"rgb(36,36,36)\",\"gridcolor\":\"white\",\"linecolor\":\"white\",\"minorgridcolor\":\"white\",\"startlinecolor\":\"rgb(36,36,36)\"},\"baxis\":{\"endlinecolor\":\"rgb(36,36,36)\",\"gridcolor\":\"white\",\"linecolor\":\"white\",\"minorgridcolor\":\"white\",\"startlinecolor\":\"rgb(36,36,36)\"},\"type\":\"carpet\"}],\"choropleth\":[{\"colorbar\":{\"outlinewidth\":1,\"tickcolor\":\"rgb(36,36,36)\",\"ticks\":\"outside\"},\"type\":\"choropleth\"}],\"contourcarpet\":[{\"colorbar\":{\"outlinewidth\":1,\"tickcolor\":\"rgb(36,36,36)\",\"ticks\":\"outside\"},\"type\":\"contourcarpet\"}],\"contour\":[{\"colorbar\":{\"outlinewidth\":1,\"tickcolor\":\"rgb(36,36,36)\",\"ticks\":\"outside\"},\"colorscale\":[[0.0,\"#440154\"],[0.1111111111111111,\"#482878\"],[0.2222222222222222,\"#3e4989\"],[0.3333333333333333,\"#31688e\"],[0.4444444444444444,\"#26828e\"],[0.5555555555555556,\"#1f9e89\"],[0.6666666666666666,\"#35b779\"],[0.7777777777777778,\"#6ece58\"],[0.8888888888888888,\"#b5de2b\"],[1.0,\"#fde725\"]],\"type\":\"contour\"}],\"heatmapgl\":[{\"colorbar\":{\"outlinewidth\":1,\"tickcolor\":\"rgb(36,36,36)\",\"ticks\":\"outside\"},\"colorscale\":[[0.0,\"#440154\"],[0.1111111111111111,\"#482878\"],[0.2222222222222222,\"#3e4989\"],[0.3333333333333333,\"#31688e\"],[0.4444444444444444,\"#26828e\"],[0.5555555555555556,\"#1f9e89\"],[0.6666666666666666,\"#35b779\"],[0.7777777777777778,\"#6ece58\"],[0.8888888888888888,\"#b5de2b\"],[1.0,\"#fde725\"]],\"type\":\"heatmapgl\"}],\"heatmap\":[{\"colorbar\":{\"outlinewidth\":1,\"tickcolor\":\"rgb(36,36,36)\",\"ticks\":\"outside\"},\"colorscale\":[[0.0,\"#440154\"],[0.1111111111111111,\"#482878\"],[0.2222222222222222,\"#3e4989\"],[0.3333333333333333,\"#31688e\"],[0.4444444444444444,\"#26828e\"],[0.5555555555555556,\"#1f9e89\"],[0.6666666666666666,\"#35b779\"],[0.7777777777777778,\"#6ece58\"],[0.8888888888888888,\"#b5de2b\"],[1.0,\"#fde725\"]],\"type\":\"heatmap\"}],\"histogram2dcontour\":[{\"colorbar\":{\"outlinewidth\":1,\"tickcolor\":\"rgb(36,36,36)\",\"ticks\":\"outside\"},\"colorscale\":[[0.0,\"#440154\"],[0.1111111111111111,\"#482878\"],[0.2222222222222222,\"#3e4989\"],[0.3333333333333333,\"#31688e\"],[0.4444444444444444,\"#26828e\"],[0.5555555555555556,\"#1f9e89\"],[0.6666666666666666,\"#35b779\"],[0.7777777777777778,\"#6ece58\"],[0.8888888888888888,\"#b5de2b\"],[1.0,\"#fde725\"]],\"type\":\"histogram2dcontour\"}],\"histogram2d\":[{\"colorbar\":{\"outlinewidth\":1,\"tickcolor\":\"rgb(36,36,36)\",\"ticks\":\"outside\"},\"colorscale\":[[0.0,\"#440154\"],[0.1111111111111111,\"#482878\"],[0.2222222222222222,\"#3e4989\"],[0.3333333333333333,\"#31688e\"],[0.4444444444444444,\"#26828e\"],[0.5555555555555556,\"#1f9e89\"],[0.6666666666666666,\"#35b779\"],[0.7777777777777778,\"#6ece58\"],[0.8888888888888888,\"#b5de2b\"],[1.0,\"#fde725\"]],\"type\":\"histogram2d\"}],\"histogram\":[{\"marker\":{\"line\":{\"color\":\"white\",\"width\":0.6}},\"type\":\"histogram\"}],\"mesh3d\":[{\"colorbar\":{\"outlinewidth\":1,\"tickcolor\":\"rgb(36,36,36)\",\"ticks\":\"outside\"},\"type\":\"mesh3d\"}],\"parcoords\":[{\"line\":{\"colorbar\":{\"outlinewidth\":1,\"tickcolor\":\"rgb(36,36,36)\",\"ticks\":\"outside\"}},\"type\":\"parcoords\"}],\"pie\":[{\"automargin\":true,\"type\":\"pie\"}],\"scatter3d\":[{\"line\":{\"colorbar\":{\"outlinewidth\":1,\"tickcolor\":\"rgb(36,36,36)\",\"ticks\":\"outside\"}},\"marker\":{\"colorbar\":{\"outlinewidth\":1,\"tickcolor\":\"rgb(36,36,36)\",\"ticks\":\"outside\"}},\"type\":\"scatter3d\"}],\"scattercarpet\":[{\"marker\":{\"colorbar\":{\"outlinewidth\":1,\"tickcolor\":\"rgb(36,36,36)\",\"ticks\":\"outside\"}},\"type\":\"scattercarpet\"}],\"scattergeo\":[{\"marker\":{\"colorbar\":{\"outlinewidth\":1,\"tickcolor\":\"rgb(36,36,36)\",\"ticks\":\"outside\"}},\"type\":\"scattergeo\"}],\"scattergl\":[{\"marker\":{\"colorbar\":{\"outlinewidth\":1,\"tickcolor\":\"rgb(36,36,36)\",\"ticks\":\"outside\"}},\"type\":\"scattergl\"}],\"scattermapbox\":[{\"marker\":{\"colorbar\":{\"outlinewidth\":1,\"tickcolor\":\"rgb(36,36,36)\",\"ticks\":\"outside\"}},\"type\":\"scattermapbox\"}],\"scatterpolargl\":[{\"marker\":{\"colorbar\":{\"outlinewidth\":1,\"tickcolor\":\"rgb(36,36,36)\",\"ticks\":\"outside\"}},\"type\":\"scatterpolargl\"}],\"scatterpolar\":[{\"marker\":{\"colorbar\":{\"outlinewidth\":1,\"tickcolor\":\"rgb(36,36,36)\",\"ticks\":\"outside\"}},\"type\":\"scatterpolar\"}],\"scatter\":[{\"fillpattern\":{\"fillmode\":\"overlay\",\"size\":10,\"solidity\":0.2},\"type\":\"scatter\"}],\"scatterternary\":[{\"marker\":{\"colorbar\":{\"outlinewidth\":1,\"tickcolor\":\"rgb(36,36,36)\",\"ticks\":\"outside\"}},\"type\":\"scatterternary\"}],\"surface\":[{\"colorbar\":{\"outlinewidth\":1,\"tickcolor\":\"rgb(36,36,36)\",\"ticks\":\"outside\"},\"colorscale\":[[0.0,\"#440154\"],[0.1111111111111111,\"#482878\"],[0.2222222222222222,\"#3e4989\"],[0.3333333333333333,\"#31688e\"],[0.4444444444444444,\"#26828e\"],[0.5555555555555556,\"#1f9e89\"],[0.6666666666666666,\"#35b779\"],[0.7777777777777778,\"#6ece58\"],[0.8888888888888888,\"#b5de2b\"],[1.0,\"#fde725\"]],\"type\":\"surface\"}],\"table\":[{\"cells\":{\"fill\":{\"color\":\"rgb(237,237,237)\"},\"line\":{\"color\":\"white\"}},\"header\":{\"fill\":{\"color\":\"rgb(217,217,217)\"},\"line\":{\"color\":\"white\"}},\"type\":\"table\"}]},\"layout\":{\"annotationdefaults\":{\"arrowhead\":0,\"arrowwidth\":1},\"autotypenumbers\":\"strict\",\"coloraxis\":{\"colorbar\":{\"outlinewidth\":1,\"tickcolor\":\"rgb(36,36,36)\",\"ticks\":\"outside\"}},\"colorscale\":{\"diverging\":[[0.0,\"rgb(103,0,31)\"],[0.1,\"rgb(178,24,43)\"],[0.2,\"rgb(214,96,77)\"],[0.3,\"rgb(244,165,130)\"],[0.4,\"rgb(253,219,199)\"],[0.5,\"rgb(247,247,247)\"],[0.6,\"rgb(209,229,240)\"],[0.7,\"rgb(146,197,222)\"],[0.8,\"rgb(67,147,195)\"],[0.9,\"rgb(33,102,172)\"],[1.0,\"rgb(5,48,97)\"]],\"sequential\":[[0.0,\"#440154\"],[0.1111111111111111,\"#482878\"],[0.2222222222222222,\"#3e4989\"],[0.3333333333333333,\"#31688e\"],[0.4444444444444444,\"#26828e\"],[0.5555555555555556,\"#1f9e89\"],[0.6666666666666666,\"#35b779\"],[0.7777777777777778,\"#6ece58\"],[0.8888888888888888,\"#b5de2b\"],[1.0,\"#fde725\"]],\"sequentialminus\":[[0.0,\"#440154\"],[0.1111111111111111,\"#482878\"],[0.2222222222222222,\"#3e4989\"],[0.3333333333333333,\"#31688e\"],[0.4444444444444444,\"#26828e\"],[0.5555555555555556,\"#1f9e89\"],[0.6666666666666666,\"#35b779\"],[0.7777777777777778,\"#6ece58\"],[0.8888888888888888,\"#b5de2b\"],[1.0,\"#fde725\"]]},\"colorway\":[\"#1F77B4\",\"#FF7F0E\",\"#2CA02C\",\"#D62728\",\"#9467BD\",\"#8C564B\",\"#E377C2\",\"#7F7F7F\",\"#BCBD22\",\"#17BECF\"],\"font\":{\"color\":\"rgb(36,36,36)\"},\"geo\":{\"bgcolor\":\"white\",\"lakecolor\":\"white\",\"landcolor\":\"white\",\"showlakes\":true,\"showland\":true,\"subunitcolor\":\"white\"},\"hoverlabel\":{\"align\":\"left\"},\"hovermode\":\"closest\",\"mapbox\":{\"style\":\"light\"},\"paper_bgcolor\":\"white\",\"plot_bgcolor\":\"white\",\"polar\":{\"angularaxis\":{\"gridcolor\":\"rgb(232,232,232)\",\"linecolor\":\"rgb(36,36,36)\",\"showgrid\":false,\"showline\":true,\"ticks\":\"outside\"},\"bgcolor\":\"white\",\"radialaxis\":{\"gridcolor\":\"rgb(232,232,232)\",\"linecolor\":\"rgb(36,36,36)\",\"showgrid\":false,\"showline\":true,\"ticks\":\"outside\"}},\"scene\":{\"xaxis\":{\"backgroundcolor\":\"white\",\"gridcolor\":\"rgb(232,232,232)\",\"gridwidth\":2,\"linecolor\":\"rgb(36,36,36)\",\"showbackground\":true,\"showgrid\":false,\"showline\":true,\"ticks\":\"outside\",\"zeroline\":false,\"zerolinecolor\":\"rgb(36,36,36)\"},\"yaxis\":{\"backgroundcolor\":\"white\",\"gridcolor\":\"rgb(232,232,232)\",\"gridwidth\":2,\"linecolor\":\"rgb(36,36,36)\",\"showbackground\":true,\"showgrid\":false,\"showline\":true,\"ticks\":\"outside\",\"zeroline\":false,\"zerolinecolor\":\"rgb(36,36,36)\"},\"zaxis\":{\"backgroundcolor\":\"white\",\"gridcolor\":\"rgb(232,232,232)\",\"gridwidth\":2,\"linecolor\":\"rgb(36,36,36)\",\"showbackground\":true,\"showgrid\":false,\"showline\":true,\"ticks\":\"outside\",\"zeroline\":false,\"zerolinecolor\":\"rgb(36,36,36)\"}},\"shapedefaults\":{\"fillcolor\":\"black\",\"line\":{\"width\":0},\"opacity\":0.3},\"ternary\":{\"aaxis\":{\"gridcolor\":\"rgb(232,232,232)\",\"linecolor\":\"rgb(36,36,36)\",\"showgrid\":false,\"showline\":true,\"ticks\":\"outside\"},\"baxis\":{\"gridcolor\":\"rgb(232,232,232)\",\"linecolor\":\"rgb(36,36,36)\",\"showgrid\":false,\"showline\":true,\"ticks\":\"outside\"},\"bgcolor\":\"white\",\"caxis\":{\"gridcolor\":\"rgb(232,232,232)\",\"linecolor\":\"rgb(36,36,36)\",\"showgrid\":false,\"showline\":true,\"ticks\":\"outside\"}},\"title\":{\"x\":0.05},\"xaxis\":{\"automargin\":true,\"gridcolor\":\"rgb(232,232,232)\",\"linecolor\":\"rgb(36,36,36)\",\"showgrid\":false,\"showline\":true,\"ticks\":\"outside\",\"title\":{\"standoff\":15},\"zeroline\":false,\"zerolinecolor\":\"rgb(36,36,36)\"},\"yaxis\":{\"automargin\":true,\"gridcolor\":\"rgb(232,232,232)\",\"linecolor\":\"rgb(36,36,36)\",\"showgrid\":false,\"showline\":true,\"ticks\":\"outside\",\"title\":{\"standoff\":15},\"zeroline\":false,\"zerolinecolor\":\"rgb(36,36,36)\"}}},\"xaxis\":{\"anchor\":\"y\",\"domain\":[0.0,1.0],\"title\":{\"text\":\"Number of Views\"},\"range\":[0,50000000]},\"yaxis\":{\"anchor\":\"x\",\"domain\":[0.0,1.0],\"title\":{\"text\":\"Box Office Revenue\"},\"range\":[0,500000000]},\"legend\":{\"tracegroupgap\":0},\"margin\":{\"t\":60},\"font\":{\"size\":14},\"title\":{\"text\":\"Box Office Revenue vs. Number of Views for Movie Trailers (R-squared: 0.35)\"}},                        {\"responsive\": true}                    ).then(function(){\n",
       "                            \n",
       "var gd = document.getElementById('26863675-286b-4664-aae8-447354e2ac4c');\n",
       "var x = new MutationObserver(function (mutations, observer) {{\n",
       "        var display = window.getComputedStyle(gd).display;\n",
       "        if (!display || display === 'none') {{\n",
       "            console.log([gd, 'removed!']);\n",
       "            Plotly.purge(gd);\n",
       "            observer.disconnect();\n",
       "        }}\n",
       "}});\n",
       "\n",
       "// Listen for the removal of the full notebook cells\n",
       "var notebookContainer = gd.closest('#notebook-container');\n",
       "if (notebookContainer) {{\n",
       "    x.observe(notebookContainer, {childList: true});\n",
       "}}\n",
       "\n",
       "// Listen for the clearing of the current output cell\n",
       "var outputEl = gd.closest('.output');\n",
       "if (outputEl) {{\n",
       "    x.observe(outputEl, {childList: true});\n",
       "}}\n",
       "\n",
       "                        })                };                });            </script>        </div>"
      ]
     },
     "metadata": {},
     "output_type": "display_data"
    },
    {
     "name": "stderr",
     "output_type": "stream",
     "text": [
      "C:\\Users\\malsh\\anaconda3\\lib\\site-packages\\sklearn\\base.py:450: UserWarning:\n",
      "\n",
      "X does not have valid feature names, but LinearRegression was fitted with feature names\n",
      "\n",
      "C:\\Users\\malsh\\anaconda3\\lib\\site-packages\\sklearn\\base.py:450: UserWarning:\n",
      "\n",
      "X does not have valid feature names, but LinearRegression was fitted with feature names\n",
      "\n"
     ]
    },
    {
     "data": {
      "application/vnd.plotly.v1+json": {
       "config": {
        "plotlyServerURL": "https://plot.ly"
       },
       "data": [
        {
         "customdata": [
          [
           "The Escort",
           2631629
          ],
          [
           "The Escort",
           2631629
          ],
          [
           "Anguish",
           289724
          ],
          [
           "Anguish",
           289724
          ],
          [
           "Boy Meets Girl",
           1146945
          ],
          [
           "Boy Meets Girl",
           1146945
          ],
          [
           "Boy Meets Girl",
           1146945
          ],
          [
           "Boy Meets Girl",
           1146945
          ],
          [
           "Wild Horses",
           1130539
          ],
          [
           "Wild Horses",
           1130539
          ],
          [
           "Return to Sender",
           2862275
          ],
          [
           "Return to Sender",
           2862275
          ],
          [
           "Submerged",
           604613
          ],
          [
           "Submerged",
           604613
          ],
          [
           "Tumbledown",
           1375254
          ],
          [
           "Tumbledown",
           1375254
          ],
          [
           "Tumbledown",
           1375254
          ],
          [
           "Cyberbully",
           958927
          ],
          [
           "Cyberbully",
           958927
          ],
          [
           "Walter",
           283769
          ],
          [
           "Walter",
           283769
          ],
          [
           "Christmas Eve",
           1051353
          ],
          [
           "Christmas Eve",
           1051353
          ],
          [
           "Vendetta",
           498142
          ],
          [
           "Vendetta",
           498142
          ],
          [
           "Kumiko, the Treasure Hunter",
           454094
          ],
          [
           "Justice League: Throne of Atlantis",
           2613037
          ],
          [
           "Louis C.K.: Live at The Comedy Store",
           488396
          ],
          [
           "Don Verdean",
           1033543
          ],
          [
           "The End of the Tour",
           1712766
          ],
          [
           "Experimenter",
           1338910
          ],
          [
           "True Story",
           16569486
          ],
          [
           "The Hunting Ground",
           1513595
          ],
          [
           "Going Clear: Scientology and the Prison of Belief",
           826178
          ],
          [
           "Tig",
           3395280
          ],
          [
           "I Smile Back",
           647496
          ],
          [
           "Results",
           1397592
          ],
          [
           "The Stanford Prison Experiment",
           9679306
          ],
          [
           "Home Sweet Hell",
           6211461
          ],
          [
           "Kidnapping Mr. Heineken",
           2413736
          ],
          [
           "The Hollow",
           1300613
          ],
          [
           "The Hollow",
           1300613
          ],
          [
           "The Hollow",
           1300613
          ],
          [
           "We Are Still Here",
           2713539
          ],
          [
           "Spring",
           1081784
          ],
          [
           "Spring",
           1081784
          ],
          [
           "Aziz Ansari: Live at Madison Square Garden",
           36318
          ],
          [
           "Parallels",
           255417
          ],
          [
           "Shaun the Sheep Movie",
           1829617
          ],
          [
           "Iliza Shlesinger: Freezing Hot",
           201119
          ],
          [
           "Survivor",
           5950515
          ],
          [
           "Survivor",
           5950515
          ],
          [
           "Survivor",
           5950515
          ],
          [
           "Absolution",
           716842
          ],
          [
           "Absolution",
           716842
          ],
          [
           "Absolution",
           716842
          ],
          [
           "Man Up",
           1523630
          ],
          [
           "The Culling",
           505966
          ],
          [
           "Regression",
           10413304
          ],
          [
           "Appropriate Behavior",
           1149072
          ],
          [
           "Barbie in Princess Power",
           8149464
          ],
          [
           "The Eichmann Show",
           3349
          ],
          [
           "Bessie",
           45638
          ],
          [
           "The Human Centipede 3 (Final Sequence)",
           882417
          ],
          [
           "Barely Lethal",
           1567300
          ],
          [
           "Deep Web",
           2049437
          ],
          [
           "Kung Fury",
           1791704
          ],
          [
           "The World Made Straight",
           689660
          ],
          [
           "The Wolfpack",
           1773517
          ],
          [
           "Dawg Fight",
           99901
          ],
          [
           "Sharknado 3: Oh Hell No!",
           3982126
          ],
          [
           "The Flintstones & WWE: Stone Age Smackdown",
           622700
          ],
          [
           "See You In Valhalla",
           1632825
          ],
          [
           "From the Dark",
           64927
          ],
          [
           "Robot Overlords",
           329252
          ],
          [
           "Bad Asses on the Bayou",
           346487
          ],
          [
           "Accidental Love",
           6400218
          ],
          [
           "7 Days in Hell",
           131756
          ],
          [
           "Learning to Drive",
           1614275
          ],
          [
           "Ooops! Noah is Gone...",
           966992
          ],
          [
           "War Pigs",
           893417
          ],
          [
           "Best of Enemies",
           1969454
          ],
          [
           "Chloe and Theo",
           290055
          ],
          [
           "Smosh: The Movie",
           13657067
          ],
          [
           "Always Watching: A Marble Hornets Story",
           851838
          ],
          [
           "Descendants",
           4398931
          ],
          [
           "Last Cab to Darwin",
           394209
          ],
          [
           "Lava",
           5698660
          ],
          [
           "I Am Chris Farley",
           251189
          ],
          [
           "A LEGO Brickumentary",
           1815611
          ],
          [
           "Deathgasm",
           168330
          ],
          [
           "He Named Me Malala",
           3637076
          ],
          [
           "Bloodsucking Bastards",
           712048
          ],
          [
           "Meru",
           562540
          ],
          [
           "Welcome to Leith",
           49493
          ],
          [
           "Listening",
           426186
          ],
          [
           "Listen to Me Marlon",
           582679
          ],
          [
           "Into the Forest",
           1775529
          ],
          [
           "Last Shift",
           7386940
          ],
          [
           "Pay the Ghost",
           740315
          ],
          [
           "Ghoul",
           303199
          ],
          [
           "Ghoul",
           303199
          ],
          [
           "Full Out",
           1569102
          ],
          [
           "The Quiet Hour",
           2592291
          ],
          [
           "I Am Here",
           408217
          ],
          [
           "Oddball",
           1360400
          ],
          [
           "Tremors 5: Bloodlines",
           39827
          ],
          [
           "Narcopolis",
           639630
          ],
          [
           "Ronaldo",
           990775
          ],
          [
           "A Bigger Splash",
           3340687
          ],
          [
           "Where to Invade Next",
           2060772
          ],
          [
           "Operator",
           3395280
          ],
          [
           "Operator",
           3395280
          ],
          [
           "All Things Must Pass",
           119384
          ],
          [
           "The Girl King",
           740303
          ],
          [
           "Miss You Already",
           1451467
          ],
          [
           "Momentum",
           1051549
          ],
          [
           "Momentum",
           1051549
          ],
          [
           "Tales of Halloween",
           1319802
          ],
          [
           "Bone Tomahawk",
           5231591
          ],
          [
           "Amy Schumer: Live at the Apollo",
           2366
          ],
          [
           "Extraordinary Tales",
           121081
          ],
          [
           "SuperBob",
           15957
          ],
          [
           "Safelight",
           222699
          ],
          [
           "The Phoenix Incident",
           523043
          ],
          [
           "The Subjects",
           167576
          ],
          [
           "Twinsters",
           255586
          ],
          [
           "Condemned",
           348309
          ],
          [
           "Chi-Raq",
           1721726
          ],
          [
           "The Ridiculous 6",
           9783955
          ],
          [
           "He Never Died",
           367206
          ],
          [
           "3-Headed Shark Attack",
           468018
          ],
          [
           "Woodlawn",
           1398366
          ],
          [
           "Moonwalkers",
           1749787
          ],
          [
           "Racing Extinction",
           1601074
          ],
          [
           "Requiem for the American Dream",
           22450
          ],
          [
           "Holding the Man",
           1909503
          ],
          [
           "The Fear of 13",
           709282
          ],
          [
           "Regular Show: The Movie",
           420175
          ],
          [
           "Forsaken",
           1511475
          ],
          [
           "Forsaken",
           1511475
          ],
          [
           "Remember",
           814668
          ],
          [
           "I Spit on Your Grave III: Vengeance is Mine",
           429232
          ],
          [
           "The Girl in the Photographs",
           773764
          ],
          [
           "VANish",
           243469
          ],
          [
           "Jack of the Red Hearts",
           11304234
          ],
          [
           "The Condemned 2",
           685904
          ],
          [
           "The Benefactor",
           10621826
          ],
          [
           "Walt Before Mickey",
           1128222
          ],
          [
           "Io che amo solo te",
           11005
          ],
          [
           "Teen Beach 2",
           927225
          ],
          [
           "Those People",
           10803581
          ],
          [
           "Harry Price: Ghost Hunter",
           13961
          ],
          [
           "Clash of the Titans",
           371089
          ],
          [
           "Neighbors",
           18418664
          ],
          [
           "The Thing",
           5708600
          ],
          [
           "Conan the Barbarian",
           12086764
          ],
          [
           "Annie",
           5911899
          ],
          [
           "Parasite",
           18564278
          ],
          [
           "Ghostbusters",
           48178612
          ],
          [
           "The Karate Kid",
           18197819
          ],
          [
           "A Nightmare on Elm Street",
           2795962
          ],
          [
           "Fright Night",
           4316799
          ],
          [
           "Project X",
           5110072
          ],
          [
           "Sing",
           11619457
          ],
          [
           "Total Recall",
           7803121
          ],
          [
           "Flatliners",
           3452380
          ],
          [
           "Trust",
           1001331
          ],
          [
           "The Addams Family",
           18265832
          ],
          [
           "Beauty and the Beast",
           39055146
          ],
          [
           "Aladdin",
           1456540
          ],
          [
           "The Three Musketeers",
           588516
          ],
          [
           "The Lion King",
           74398614
          ],
          [
           "Little Women",
           18286878
          ],
          [
           "The Jungle Book",
           26515747
          ],
          [
           "Fair Game",
           651647
          ],
          [
           "Anna Karenina",
           3644746
          ],
          [
           "Godzilla",
           41484626
          ],
          [
           "The Avengers",
           37214177
          ],
          [
           "Life",
           12165094
          ],
          [
           "The Kid",
           2002004
          ],
          [
           "Oldboy",
           1346608
          ],
          [
           "Hellboy",
           16267262
          ],
          [
           "Step Up",
           337896
          ],
          [
           "Halloween",
           36817650
          ],
          [
           "Death at a Funeral",
           2600632
          ],
          [
           "Passengers",
           33969196
          ],
          [
           "The Girl with the Dragon Tattoo",
           6057967
          ],
          [
           "Inception",
           15613461
          ],
          [
           "Iron Man 2",
           2031380
          ],
          [
           "Shutter Island",
           1737362
          ],
          [
           "Scott Pilgrim vs. the World",
           4901853
          ],
          [
           "Grown Ups",
           6874999
          ],
          [
           "Kick-Ass",
           2129743
          ],
          [
           "Black Swan",
           31988201
          ],
          [
           "The Town",
           8114245
          ],
          [
           "Flipped",
           1612318
          ],
          [
           "The Social Network",
           15253654
          ],
          [
           "Robin Hood",
           2087856
          ],
          [
           "Monsters",
           683751
          ],
          [
           "Insidious",
           9913503
          ],
          [
           "Tangled",
           6213673
          ],
          [
           "RED",
           2126156
          ],
          [
           "I Spit on Your Grave",
           303556
          ],
          [
           "The Last Airbender",
           10456159
          ],
          [
           "How to Train Your Dragon",
           229249
          ],
          [
           "The American",
           141080
          ],
          [
           "Incendies",
           2307697
          ],
          [
           "Sex and the City 2",
           477503
          ],
          [
           "Burlesque",
           1973236
          ],
          [
           "Despicable Me",
           2855717
          ],
          [
           "Love & Other Drugs",
           7636777
          ],
          [
           "True Grit",
           6591557
          ],
          [
           "The Tourist",
           3202983
          ],
          [
           "The Twilight Saga: Eclipse",
           22697146
          ],
          [
           "Percy Jackson & the Olympians: The Lightning Thief",
           815431
          ],
          [
           "The Book of Eli",
           2709220
          ],
          [
           "Blue Valentine",
           2657616
          ],
          [
           "Knight and Day",
           5820302
          ],
          [
           "Piranha 3D",
           3539361
          ],
          [
           "127 Hours",
           14244651
          ],
          [
           "The Expendables",
           3046241
          ],
          [
           "The Other Guys",
           9090557
          ],
          [
           "TRON: Legacy",
           14836439
          ],
          [
           "Life as We Know It",
           2143611
          ],
          [
           "Toy Story 3",
           11571769
          ],
          [
           "The Next Three Days",
           425690
          ],
          [
           "Easy A",
           10934727
          ],
          [
           "The Fighter",
           1250291
          ],
          [
           "Machete",
           946423
          ],
          [
           "The Debt",
           210760
          ],
          [
           "Megamind",
           450915
          ],
          [
           "The Losers",
           388412
          ],
          [
           "Unstoppable",
           1271247
          ],
          [
           "Eat Pray Love",
           6971741
          ],
          [
           "Centurion",
           6363489
          ],
          [
           "The A-Team",
           174794
          ],
          [
           "Hot Tub Time Machine",
           693033
          ],
          [
           "Prince of Persia: the Sands of Time",
           6592749
          ],
          [
           "Diary of a Wimpy Kid",
           6367147
          ],
          [
           "Never Let Me Go",
           16135421
          ],
          [
           "Predators",
           2006499
          ],
          [
           "Buried",
           2412906
          ],
          [
           "Legion",
           2472802
          ],
          [
           "Remember Me",
           2756773
          ],
          [
           "Jonah Hex",
           5322266
          ],
          [
           "Salt",
           9408098
          ],
          [
           "Morning Glory",
           6427313
          ],
          [
           "Resident Evil: Afterlife",
           811576
          ],
          [
           "Takers",
           1058344
          ],
          [
           "The Way Back",
           30736
          ],
          [
           "Killers",
           1708311
          ],
          [
           "Due Date",
           116445
          ],
          [
           "Devil",
           3307250
          ],
          [
           "Green Zone",
           2046069
          ],
          [
           "Faster",
           1732159
          ],
          [
           "Super",
           960420
          ],
          [
           "The Crazies",
           3767408
          ],
          [
           "Shrek Forever After",
           7205019
          ],
          [
           "The Chronicles of Narnia: the Voyage of the Dawn Treader",
           75792
          ],
          [
           "Let Me In",
           6090884
          ],
          [
           "The Kids Are All Right",
           1000539
          ],
          [
           "Date Night",
           5274199
          ],
          [
           "Leap Year",
           4254914
          ],
          [
           "Little Fockers",
           560463
          ],
          [
           "The Runaways",
           316345
          ],
          [
           "MacGruber",
           423087
          ],
          [
           "The Ghost Writer",
           353445
          ],
          [
           "Skyline",
           1791432
          ],
          [
           "Edge of Darkness",
           279218
          ],
          [
           "Ramona and Beezus",
           279218
          ],
          [
           "Letters to Juliet",
           2307428
          ],
          [
           "Dear John",
           13433064
          ],
          [
           "Get Him to the Greek",
           1269431
          ],
          [
           "Dinner for Schmucks",
           3302728
          ],
          [
           "How Do You Know",
           2225065
          ],
          [
           "The Secret World of Arrietty",
           4938671
          ],
          [
           "Tooth Fairy",
           3823528
          ],
          [
           "The Switch",
           7717150
          ],
          [
           "Wall Street: Money Never Sleeps",
           1130222
          ],
          [
           "The Last Song",
           650888
          ],
          [
           "Cop Out",
           1060172
          ],
          [
           "Rubber",
           1503928
          ],
          [
           "You Again",
           144876
          ],
          [
           "The Bounty Hunter",
           64964
          ],
          [
           "From Paris with Love",
           694898
          ],
          [
           "13 Assassins",
           1295978
          ],
          [
           "Nanny McPhee Returns",
           2565893
          ],
          [
           "Wild Target",
           713932
          ],
          [
           "When in Rome",
           195677
          ],
          [
           "Going the Distance",
           106145
          ],
          [
           "Somewhere",
           1063167
          ],
          [
           "Secretariat",
           2441997
          ],
          [
           "The Spy Next Door",
           816027
          ],
          [
           "Hereafter",
           667469
          ],
          [
           "Repo Men",
           4668217
          ],
          [
           "Vampires Suck",
           1723974
          ],
          [
           "Twelve",
           435138
          ],
          [
           "Beginners",
           335896
          ],
          [
           "Rabbit Hole",
           750864
          ],
          [
           "Conviction",
           2496544
          ],
          [
           "My Name Is Khan",
           1364277
          ],
          [
           "The Company Men",
           156663
          ],
          [
           "Cyrus",
           2179362
          ],
          [
           "Paranormal Activity 2",
           19500763
          ],
          [
           "The Killer Inside Me",
           451736
          ],
          [
           "The Extra Man",
           109367
          ],
          [
           "Stone",
           434780
          ],
          [
           "Why Did I Get Married Too?",
           527283
          ],
          [
           "The Last Exorcism",
           1449805
          ],
          [
           "Dirty Girl",
           43661
          ],
          [
           "London Boulevard",
           1006801
          ],
          [
           "The Back-up Plan",
           1455543
          ],
          [
           "Country Strong",
           320016
          ],
          [
           "Charlie St. Cloud",
           909635
          ],
          [
           "Stake Land",
           313900
          ],
          [
           "Vanishing on 7th Street",
           208234
          ],
          [
           "You Will Meet a Tall Dark Stranger",
           249841
          ],
          [
           "The Conspirator",
           115259
          ],
          [
           "The Tempest",
           38413
          ],
          [
           "Extraordinary Measures",
           224748
          ],
          [
           "Yogi Bear",
           247728
          ],
          [
           "My Soul to Take",
           435683
          ],
          [
           "Hatchet II",
           242238
          ],
          [
           "Hesher",
           11063
          ],
          [
           "For Colored Girls",
           555143
          ],
          [
           "The Perfect Host",
           745056
          ],
          [
           "Love Ranch",
           7780
          ],
          [
           "Passion Play",
           423505
          ],
          [
           "Everything Must Go",
           552481
          ],
          [
           "Captain America: the First Avenger",
           11880743
          ],
          [
           "Thor",
           26452579
          ],
          [
           "Harry Potter and the Deathly Hallows: Part 2",
           12354163
          ],
          [
           "Take Shelter",
           746944
          ],
          [
           "Bridesmaids",
           5241392
          ],
          [
           "Fast Five",
           2850362
          ],
          [
           "Midnight in Paris",
           2574754
          ],
          [
           "Moneyball",
           3995758
          ],
          [
           "Just Go with It",
           3714500
          ],
          [
           "Drive",
           8541876
          ],
          [
           "Green Lantern",
           1891605
          ],
          [
           "The Cabin in the Woods",
           11062944
          ],
          [
           "The Help",
           1670104
          ],
          [
           "Crazy, Stupid, Love.",
           7930084
          ],
          [
           "No Strings Attached",
           987810
          ],
          [
           "Pirates of the Caribbean: on Stranger Tides",
           88224
          ],
          [
           "Sucker Punch",
           2375603
          ],
          [
           "Warrior",
           7566551
          ],
          [
           "Kung Fu Panda 2",
           2324330
          ],
          [
           "Friends with Benefits",
           1673024
          ],
          [
           "Immortals",
           1620569
          ],
          [
           "X-Men: First Class",
           2209356
          ],
          [
           "Contagion",
           29659659
          ],
          [
           "Bad Teacher",
           4289699
          ],
          [
           "In Time",
           2933462
          ],
          [
           "One Day",
           12692118
          ],
          [
           "Scream 4",
           807713
          ],
          [
           "Shame",
           2671005
          ],
          [
           "Mission: Impossible - Ghost Protocol",
           2545952
          ],
          [
           "We Need to Talk About Kevin",
           1358112
          ],
          [
           "Limitless",
           4270400
          ],
          [
           "Unknown",
           2614690
          ],
          [
           "Transformers: Dark of the Moon",
           331216
          ],
          [
           "Cowboys & Aliens",
           5506119
          ],
          [
           "The Twilight Saga: Breaking Dawn - Part 1",
           2456075
          ],
          [
           "Cars 2",
           32797435
          ],
          [
           "Rango",
           2392702
          ],
          [
           "Melancholia",
           1083259
          ],
          [
           "Source Code",
           8724881
          ],
          [
           "Real Steel",
           2808731
          ],
          [
           "Horrible Bosses",
           2508515
          ],
          [
           "Rio",
           1611952
          ],
          [
           "Sherlock Holmes: A Game of Shadows",
           1861849
          ],
          [
           "Tower Heist",
           6332354
          ],
          [
           "Paul",
           1307280
          ],
          [
           "We Bought a Zoo",
           1163886
          ],
          [
           "Rise of the Planet of the Apes",
           4863051
          ],
          [
           "Your Highness",
           5898131
          ],
          [
           "The Lincoln Lawyer",
           4195187
          ],
          [
           "Colombiana",
           7440394
          ],
          [
           "Larry Crowne",
           436718
          ],
          [
           "Abduction",
           8346497
          ],
          [
           "A Separation",
           110599
          ],
          [
           "Hugo",
           1231008
          ],
          [
           "The Adjustment Bureau",
           2182065
          ],
          [
           "The Tree of Life",
           2559581
          ],
          [
           "Margin Call",
           2248827
          ],
          [
           "Hanna",
           2673721
          ],
          [
           "50/50",
           3865865
          ],
          [
           "The Descendants",
           802593
          ],
          [
           "The Adventures of Tintin",
           392538
          ],
          [
           "Drive Angry",
           1030588
          ],
          [
           "Jack and Jill",
           1410829
          ],
          [
           "The Hangover Part II",
           5369208
          ],
          [
           "The Mechanic",
           10444669
          ],
          [
           "Ghost Rider: Spirit of Vengeance",
           2234751
          ],
          [
           "Battle Los Angeles",
           2219482
          ],
          [
           "The Green Hornet",
           2906129
          ],
          [
           "Killer Elite",
           2288304
          ],
          [
           "The Smurfs",
           3532627
          ],
          [
           "The Ides of March",
           478014
          ],
          [
           "Soul Surfer",
           2030815
          ],
          [
           "The Artist",
           9027
          ],
          [
           "Bucky Larson: Born to Be a Star",
           1018433
          ],
          [
           "Diary of a Wimpy Kid: Rodrick Rules",
           230958
          ],
          [
           "Carnage",
           335716
          ],
          [
           "Attack the Block",
           791737
          ],
          [
           "The Guard",
           387826
          ],
          [
           "Gnomeo & Juliet",
           920065
          ],
          [
           "Puss in Boots",
           1569906
          ],
          [
           "Bernie",
           861413
          ],
          [
           "Season of the Witch",
           505900
          ],
          [
           "Spy Kids 4-D: All the Time in the World",
           40502
          ],
          [
           "The Divide",
           696192
          ],
          [
           "Red Riding Hood",
           834120
          ],
          [
           "The Roommate",
           2063152
          ],
          [
           "Monte Carlo",
           314711
          ],
          [
           "Alvin and the Chipmunks: Chipwrecked",
           14608154
          ],
          [
           "Our Idiot Brother",
           1968267
          ],
          [
           "Sanctum",
           2838752
          ],
          [
           "The Big Year",
           2475688
          ],
          [
           "Straw Dogs",
           2258297
          ],
          [
           "The Iron Lady",
           1338953
          ],
          [
           "Courageous",
           773879
          ],
          [
           "Django Unchained",
           1888642
          ],
          [
           "The Hobbit: An Unexpected Journey",
           7546475
          ],
          [
           "The Hunger Games",
           10110636
          ],
          [
           "The Dark Knight Rises",
           39401568
          ],
          [
           "Pitch Perfect",
           4480867
          ],
          [
           "This Is 40",
           2945126
          ],
          [
           "The Hunt",
           1534004
          ],
          [
           "Prometheus",
           1615031
          ],
          [
           "Moonrise Kingdom",
           3457723
          ],
          [
           "The Impossible",
           17304236
          ],
          [
           "Argo",
           2940464
          ],
          [
           "The Twilight Saga: Breaking Dawn - Part 2",
           1803056
          ],
          [
           "Jack Reacher",
           2742969
          ],
          [
           "Zero Dark Thirty",
           4062558
          ],
          [
           "Cloud Atlas",
           23026894
          ],
          [
           "Skyfall",
           30617962
          ],
          [
           "The Perks of Being a Wallflower",
           12384496
          ],
          [
           "The Amazing Spider-Man",
           16911338
          ],
          [
           "Les Misérables",
           4258792
          ],
          [
           "Silver Linings Playbook",
           1069515
          ],
          [
           "Snow White and the Huntsman",
           1592860
          ],
          [
           "The Master",
           1504471
          ],
          [
           "Looper",
           10084518
          ],
          [
           "Killing Them Softly",
           159350
          ],
          [
           "Flight",
           2279375
          ],
          [
           "21 Jump Street",
           4067800
          ],
          [
           "Ted",
           24244725
          ],
          [
           "Sinister",
           8837203
          ],
          [
           "This Means War",
           3722929
          ],
          [
           "Lincoln",
           4707014
          ],
          [
           "Brave",
           21307820
          ],
          [
           "The Place Beyond the Pines",
           2706712
          ],
          [
           "Dredd",
           3777695
          ],
          [
           "Dark Shadows",
           3179045
          ],
          [
           "John Carter",
           5530850
          ],
          [
           "Battleship",
           5996735
          ],
          [
           "Magic Mike",
           10742854
          ],
          [
           "Hotel Transylvania",
           5375901
          ],
          [
           "Lawless",
           429571
          ],
          [
           "Spring Breakers",
           2056717
          ],
          [
           "Underworld: Awakening",
           4669729
          ],
          [
           "Piranha 3DD",
           18462191
          ],
          [
           "Safe House",
           9501004
          ],
          [
           "Seeking a Friend for the End of the World",
           1413391
          ],
          [
           "The Bourne Legacy",
           4750034
          ],
          [
           "Abraham Lincoln: Vampire Hunter",
           3540885
          ],
          [
           "Wreck-It Ralph",
           11764929
          ],
          [
           "American Reunion",
           4228698
          ],
          [
           "Savages",
           2061733
          ],
          [
           "Life of Pi",
           4842857
          ],
          [
           "Resident Evil: Retribution",
           6889524
          ],
          [
           "Men in Black 3",
           18455311
          ],
          [
           "Journey 2: The Mysterious Island",
           4361121
          ],
          [
           "Seven Psychopaths",
           2659518
          ],
          [
           "Rock of Ages",
           976292
          ],
          [
           "The Wolf of Wall Street",
           29827668
          ],
          [
           "Iron Man 3",
           30726463
          ],
          [
           "The Conjuring",
           35700932
          ],
          [
           "Prisoners",
           13640817
          ],
          [
           "Thor: The Dark World",
           21995061
          ],
          [
           "The Purge",
           41898109
          ],
          [
           "Grown Ups 2",
           4288270
          ],
          [
           "Fast & Furious 6",
           29214620
          ],
          [
           "Gravity",
           20217081
          ],
          [
           "About Time",
           16146782
          ],
          [
           "The Hobbit: The Desolation of Smaug",
           14822584
          ],
          [
           "Man of Steel",
           49219655
          ],
          [
           "Star Trek Into Darkness",
           8083980
          ],
          [
           "The Hunger Games: Catching Fire",
           32513220
          ],
          [
           "Homefront",
           11881584
          ],
          [
           "Movie 43",
           4331536
          ],
          [
           "World War Z",
           12561639
          ],
          [
           "12 Years a Slave",
           6961538
          ],
          [
           "G.I. Joe: Retaliation",
           2000714
          ],
          [
           "Dallas Buyers Club",
           810280
          ],
          [
           "The Secret Life of Walter Mitty",
           5490675
          ],
          [
           "Pacific Rim",
           22812952
          ],
          [
           "The Croods",
           14830608
          ],
          [
           "The Way Way Back",
           3746727
          ],
          [
           "The Internship",
           1872558
          ],
          [
           "Elysium",
           12058130
          ],
          [
           "Hansel & Gretel: Witch Hunters",
           10676180
          ],
          [
           "Captain Phillips",
           3569737
          ],
          [
           "Evil Dead",
           1269671
          ],
          [
           "White House Down",
           9223481
          ],
          [
           "Olympus Has Fallen",
           6289224
          ],
          [
           "Lone Survivor",
           20280772
          ],
          [
           "Oz the Great and Powerful",
           8099762
          ],
          [
           "Pain & Gain",
           22892069
          ],
          [
           "Out of the Furnace",
           5733374
          ],
          [
           "Coherence",
           1490953
          ],
          [
           "Stoker",
           4171965
          ],
          [
           "The Mortal Instruments: City of Bones",
           9425434
          ],
          [
           "Mama",
           16198928
          ],
          [
           "Guardians of the Galaxy",
           10366412
          ],
          [
           "Interstellar",
           36084861
          ],
          [
           "John Wick",
           13765909
          ],
          [
           "Edge of Tomorrow",
           17336794
          ],
          [
           "Gone Girl",
           15802931
          ],
          [
           "Captain America: The Winter Soldier",
           33160766
          ],
          [
           "The Grand Budapest Hotel",
           14054342
          ],
          [
           "Whiplash",
           15226132
          ],
          [
           "Kingsman: The Secret Service",
           20701113
          ],
          [
           "Ex Machina",
           9018887
          ],
          [
           "Divergent",
           38789694
          ],
          [
           "Nightcrawler",
           8726612
          ],
          [
           "The Hobbit: The Battle of the Five Armies",
           23968145
          ],
          [
           "The Maze Runner",
           13182473
          ],
          [
           "Lucy",
           44271725
          ],
          [
           "What We Do in the Shadows",
           7196552
          ],
          [
           "The Imitation Game",
           1425657
          ],
          [
           "X-Men: Days of Future Past",
           37469393
          ],
          [
           "Predestination",
           7809529
          ],
          [
           "Birdman or (The Unexpected Virtue of Ignorance)",
           15755181
          ],
          [
           "It Follows",
           10498607
          ],
          [
           "Blended",
           13661334
          ],
          [
           "The Judge",
           8385830
          ],
          [
           "The Giver",
           8575534
          ],
          [
           "300: Rise of an Empire",
           18562100
          ],
          [
           "American Sniper",
           24735187
          ],
          [
           "Big Hero 6",
           21355289
          ],
          [
           "The Amazing Spider-Man 2",
           41330418
          ],
          [
           "Maleficent",
           18209296
          ],
          [
           "Into the Woods",
           4133291
          ],
          [
           "Unbroken",
           11701382
          ],
          [
           "The Lego Movie",
           34729678
          ],
          [
           "The Hunger Games: Mockingjay - Part 1",
           14054262
          ],
          [
           "Tusk",
           7085055
          ],
          [
           "Night at the Museum: Secret of the Tomb",
           6823471
          ],
          [
           "The Fault in Our Stars",
           47647207
          ],
          [
           "As Above, So Below",
           3193391
          ],
          [
           "Annabelle",
           29233708
          ],
          [
           "Boyhood",
           9422304
          ],
          [
           "The Theory of Everything",
           23911719
          ],
          [
           "The Expendables 3",
           18068752
          ],
          [
           "The Interview",
           8892766
          ],
          [
           "The Drop",
           7494210
          ],
          [
           "Transformers: Age of Extinction",
           7078665
          ],
          [
           "Inherent Vice",
           6856928
          ],
          [
           "The Babadook",
           17088372
          ],
          [
           "Sex Tape",
           7791266
          ],
          [
           "The Other Woman",
           17203540
          ],
          [
           "Wild Tales",
           1262219
          ],
          [
           "Wild",
           9620967
          ],
          [
           "Foxcatcher",
           9058572
          ],
          [
           "The Guest",
           7642035
          ],
          [
           "Mad Max: Fury Road",
           35993794
          ],
          [
           "Avengers: Age of Ultron",
           93136456
          ],
          [
           "Crimson Peak",
           3065553
          ],
          [
           "The Big Short",
           12773447
          ],
          [
           "Jurassic World",
           92701512
          ],
          [
           "The Martian",
           20224641
          ],
          [
           "Room",
           13800069
          ],
          [
           "Spotlight",
           6057836
          ],
          [
           "Cinderella",
           42139777
          ],
          [
           "In the Heart of the Sea",
           15513097
          ],
          [
           "The Hunger Games: Mockingjay - Part 2",
           23716245
          ],
          [
           "The Visit",
           13554154
          ],
          [
           "Creed",
           28173455
          ],
          [
           "Black Mass",
           5324732
          ],
          [
           "Home",
           14727961
          ],
          [
           "Pitch Perfect 2",
           10185564
          ],
          [
           "San Andreas",
           27265464
          ],
          [
           "Tomorrowland",
           10381190
          ],
          [
           "The Danish Girl",
           14475273
          ],
          [
           "Burnt",
           4914157
          ],
          [
           "The Good Dinosaur",
           21569428
          ],
          [
           "Hitman: Agent 47",
           22356634
          ],
          [
           "Steve Jobs",
           16277652
          ],
          [
           "Hardcore Henry",
           20703535
          ],
          [
           "Demolition",
           3298748
          ],
          [
           "Macbeth",
           2705738
          ],
          [
           "Run All Night",
           8945572
          ],
          [
           "Mr. Right",
           9848580
          ],
          [
           "Magic Mike XXL",
           12169929
          ],
          [
           "Victor Frankenstein",
           10504471
          ],
          [
           "Goosebumps",
           18523254
          ],
          [
           "Aloha",
           11032453
          ],
          [
           "Baahubali: The Beginning",
           27672008
          ],
          [
           "Secret in Their Eyes",
           5153915
          ],
          [
           "Irrational Man",
           5444646
          ],
          [
           "Beasts of No Nation",
           13896281
          ],
          [
           "Me and Earl and the Dying Girl",
           7496171
          ],
          [
           "Tangerine",
           2800897
          ],
          [
           "A Walk in the Woods",
           723041
          ],
          [
           "Eddie the Eagle",
           885307
          ],
          [
           "The Second Best Exotic Marigold Hotel",
           1265354
          ],
          [
           "The Meddler",
           1106149
          ],
          [
           "We Are Your Friends",
           21065381
          ],
          [
           "Grandma",
           1112159
          ],
          [
           "Project Almanac",
           9618992
          ],
          [
           "Equals",
           1098878
          ],
          [
           "Hot Pursuit",
           11298833
          ],
          [
           "90 Minutes in Heaven",
           702611
          ],
          [
           "Rock the Kasbah",
           2010404
          ],
          [
           "The Sea of Trees",
           1139867
          ],
          [
           "The Lazarus Effect",
           6733696
          ],
          [
           "Love the Coopers",
           6240021
          ],
          [
           "Slow West",
           3010137
          ],
          [
           "Cop Car",
           611230
          ],
          [
           "Our Brand Is Crisis",
           4619670
          ],
          [
           "Unfinished Business",
           3578211
          ],
          [
           "Hot Tub Time Machine 2",
           3022961
          ],
          [
           "Hello, My Name Is Doris",
           3334966
          ],
          [
           "Ricki and the Flash",
           4274511
          ],
          [
           "Danny Collins",
           2396415
          ],
          [
           "Mr. Holmes",
           1565492
          ],
          [
           "War Room",
           1646210
          ],
          [
           "Dragon Blade",
           3792400
          ],
          [
           "Suicide Squad",
           43612620
          ],
          [
           "The Magnificent Seven",
           14142063
          ],
          [
           "Captain America: Civil War",
           30313451
          ],
          [
           "Deadpool",
           21036223
          ],
          [
           "Doctor Strange",
           44742333
          ],
          [
           "Split",
           30697114
          ],
          [
           "Me Before You",
           30004423
          ],
          [
           "Don't Breathe",
           33417544
          ],
          [
           "Moana",
           40308746
          ],
          [
           "Arrival",
           24311291
          ],
          [
           "X-Men: Apocalypse",
           56516429
          ],
          [
           "Captain Fantastic",
           8749016
          ],
          [
           "Star Trek Beyond",
           19343044
          ],
          [
           "La La Land",
           41291629
          ],
          [
           "The Conjuring 2",
           36561903
          ],
          [
           "Zootopia",
           23702488
          ],
          [
           "Hacksaw Ridge",
           26214851
          ],
          [
           "13 Hours",
           8391110
          ],
          [
           "Rogue One: A Star Wars Story",
           41658553
          ],
          [
           "Batman v Superman: Dawn of Justice",
           78302379
          ],
          [
           "Kung Fu Panda 3",
           26686552
          ],
          [
           "The Nice Guys",
           10156012
          ],
          [
           "Independence Day: Resurgence",
           28382453
          ],
          [
           "Miss Peregrine's Home for Peculiar Children",
           17778867
          ],
          [
           "Fantastic Beasts and Where to Find Them",
           19229727
          ],
          [
           "Resident Evil: The Final Chapter",
           13903964
          ],
          [
           "Criminal",
           4578870
          ],
          [
           "Underworld: Blood Wars",
           8757062
          ],
          [
           "The Shallows",
           24346628
          ],
          [
           "Sausage Party",
           15489907
          ],
          [
           "Hell or High Water",
           7171209
          ],
          [
           "The Purge: Election Year",
           11426920
          ],
          [
           "The Accountant",
           12510988
          ],
          [
           "The Neon Demon",
           10976481
          ],
          [
           "Moonlight",
           18845165
          ],
          [
           "Jason Bourne",
           12621587
          ],
          [
           "Manchester by the Sea",
           9731437
          ],
          [
           "Central Intelligence",
           42912165
          ],
          [
           "War Dogs",
           14548376
          ],
          [
           "The Legend of Tarzan",
           38000916
          ],
          [
           "Silence",
           8090083
          ],
          [
           "Gods of Egypt",
           27144126
          ],
          [
           "The Founder",
           6192544
          ],
          [
           "Inferno",
           13804143
          ],
          [
           "Now You See Me 2",
           11690272
          ],
          [
           "Miss Sloane",
           3803131
          ],
          [
           "10 Cloverfield Lane",
           11454542
          ],
          [
           "The Lost City of Z",
           2533442
          ],
          [
           "Finding Dory",
           31593445
          ],
          [
           "Lion",
           18210247
          ],
          [
           "Allied",
           7006452
          ],
          [
           "Jack Reacher: Never Go Back",
           13187256
          ],
          [
           "Snowden",
           17823293
          ],
          [
           "Triple 9",
           7735467
          ],
          [
           "Deepwater Horizon",
           15721724
          ],
          [
           "Sully",
           17685715
          ],
          [
           "Morgan",
           6923623
          ],
          [
           "The Edge of Seventeen",
           1429513
          ],
          [
           "The 5th Wave",
           21198345
          ],
          [
           "The Great Wall",
           11983948
          ],
          [
           "The Boy",
           17667649
          ],
          [
           "The Belko Experiment",
           3502401
          ],
          [
           "The Angry Birds Movie",
           18298837
          ],
          [
           "Nerve",
           11773792
          ],
          [
           "Jackie",
           5330009
          ],
          [
           "Keanu",
           3088198
          ],
          [
           "Kubo and the Two Strings",
           1066633
          ],
          [
           "Office Christmas Party",
           3845830
          ],
          [
           "Leap!",
           2205373
          ],
          [
           "Ouija: Origin of Evil",
           8777065
          ],
          [
           "All I See Is You",
           1940956
          ],
          [
           "Money Monster",
           2626913
          ],
          [
           "Bleed for This",
           9218327
          ],
          [
           "Mr. Church",
           3306463
          ],
          [
           "Ride Along 2",
           15658533
          ],
          [
           "Race",
           1992939
          ],
          [
           "Incarnate",
           1154795
          ],
          [
           "Thor: Ragnarok",
           82243099
          ],
          [
           "Darkest Hour",
           6353514
          ],
          [
           "It",
           44280574
          ],
          [
           "Spider-Man: Homecoming",
           11351625
          ],
          [
           "Blade Runner 2049",
           35623611
          ],
          [
           "Guardians of the Galaxy Vol. 2",
           22560304
          ],
          [
           "The Greatest Showman",
           23654363
          ],
          [
           "Jumanji: Welcome to the Jungle",
           36663624
          ],
          [
           "Baywatch",
           18761468
          ],
          [
           "Home Again",
           12546200
          ],
          [
           "The Fate of the Furious",
           20630519
          ],
          [
           "Get Out",
           22583419
          ],
          [
           "Dunkirk",
           47784685
          ],
          [
           "Coco",
           8796399
          ],
          [
           "Baby Driver",
           18613122
          ],
          [
           "The Boss Baby",
           25098808
          ],
          [
           "Logan",
           35233892
          ],
          [
           "Wonder Woman",
           30776306
          ],
          [
           "Alien: Covenant",
           30246282
          ],
          [
           "John Wick: Chapter 2",
           21138160
          ],
          [
           "Wonder",
           14469341
          ],
          [
           "Justice League",
           40391529
          ],
          [
           "Mother!",
           20490536
          ],
          [
           "Pirates of the Caribbean: Dead Men Tell No Tales",
           21176614
          ],
          [
           "The Shape of Water",
           26297189
          ],
          [
           "Disobedience",
           9139243
          ],
          [
           "Kong: Skull Island",
           17746001
          ],
          [
           "Kingsman: The Golden Circle",
           26172011
          ],
          [
           "Three Billboards Outside Ebbing, Missouri",
           10260484
          ],
          [
           "Star Wars: Episode VIII - The Last Jedi",
           57803372
          ],
          [
           "I, Tonya",
           6672099
          ],
          [
           "Atomic Blonde",
           680370
          ],
          [
           "Wind River",
           3159917
          ],
          [
           "Murder on the Orient Express",
           15533608
          ],
          [
           "King Arthur: Legend of the Sword",
           10645412
          ],
          [
           "Lady Bird",
           20483382
          ],
          [
           "Logan Lucky",
           12207289
          ],
          [
           "Fifty Shades Darker",
           24943042
          ],
          [
           "Happy Death Day",
           7995923
          ],
          [
           "Transformers: The Last Knight",
           21592352
          ],
          [
           "Good Time",
           3243822
          ],
          [
           "Ghost in the Shell",
           34794506
          ],
          [
           "Hostiles",
           2846147
          ],
          [
           "Valerian and the City of a Thousand Planets",
           10266703
          ],
          [
           "The Dark Tower",
           29513664
          ],
          [
           "Pitch Perfect 3",
           9014982
          ],
          [
           "American Assassin",
           5762583
          ],
          [
           "The Florida Project",
           6124737
          ],
          [
           "The Death of Stalin",
           3255527
          ],
          [
           "Gifted",
           17144647
          ],
          [
           "Phantom Thread",
           11718705
          ],
          [
           "The Upside",
           14380986
          ],
          [
           "Annabelle: Creation",
           9534011
          ],
          [
           "American Made",
           14721588
          ],
          [
           "Geostorm",
           17323551
          ],
          [
           "CHIPS",
           2317347
          ],
          [
           "Ferdinand",
           8382765
          ],
          [
           "Only the Brave",
           3147923
          ],
          [
           "The Beguiled",
           4298558
          ],
          [
           "The Glass Castle",
           2361654
          ],
          [
           "The Big Sick",
           4969048
          ],
          [
           "The Foreigner",
           11836682
          ],
          [
           "Jigsaw",
           19777041
          ],
          [
           "The Snowman",
           14354923
          ],
          [
           "The Disaster Artist",
           8457067
          ],
          [
           "47 Meters Down",
           9034518
          ],
          [
           "The Post",
           18106381
          ],
          [
           "Everything, Everything",
           11190272
          ],
          [
           "All the Money in the World",
           7201575
          ],
          [
           "Suburbicon",
           4905116
          ],
          [
           "Despicable Me 3",
           39902910
          ],
          [
           "Going in Style",
           6347825
          ],
          [
           "Downsizing",
           11854993
          ],
          [
           "Before I Fall",
           11377667
          ],
          [
           "Wonder Wheel",
           2105234
          ],
          [
           "Paddington 2",
           852242
          ],
          [
           "Girls Trip",
           6920332
          ],
          [
           "The Space Between Us",
           6498975
          ],
          [
           "The Mountain Between Us",
           3505626
          ],
          [
           "T2 Trainspotting",
           1051516
          ],
          [
           "The Hero",
           1375786
          ],
          [
           "Battle of the Sexes",
           3276936
          ],
          [
           "The Book of Henry",
           10082417
          ],
          [
           "The Shack",
           11206236
          ],
          [
           "Rings",
           10832658
          ],
          [
           "The Lego Ninjago Movie",
           9251335
          ],
          [
           "The House",
           4800310
          ],
          [
           "Detroit",
           624850
          ],
          [
           "All Eyez on Me",
           4830120
          ],
          [
           "Sleepless",
           8916345
          ],
          [
           "Tulip Fever",
           4083493
          ],
          [
           "Stronger",
           4405453
          ],
          [
           "Smurfs: The Lost Village",
           4249448
          ],
          [
           "Snatched",
           3604054
          ],
          [
           "Victoria & Abdul",
           7627060
          ],
          [
           "Fist Fight",
           4910894
          ],
          [
           "How to Be a Latin Lover",
           3272448
          ],
          [
           "Same Kind of Different as Me",
           59779
          ],
          [
           "My Little Pony: The Movie",
           5965811
          ],
          [
           "Table 19",
           1866969
          ],
          [
           "Father Figures",
           592708
          ],
          [
           "Kidnap",
           5704042
          ],
          [
           "Diary of a Wimpy Kid: The Long Haul",
           3543070
          ],
          [
           "Churchill",
           255598
          ],
          [
           "The Bookshop",
           718510
          ],
          [
           "A Bad Moms Christmas",
           4476409
          ],
          [
           "Captain Underpants: The First Epic Movie",
           12944992
          ],
          [
           "Wish Upon",
           3843430
          ],
          [
           "Marshall",
           1177621
          ],
          [
           "The Resurrection of Gavin Stone",
           511421
          ],
          [
           "The Bye Bye Man",
           5697614
          ],
          [
           "A Quiet Place",
           33230714
          ],
          [
           "Avengers: Infinity War",
           258808507
          ],
          [
           "Deadpool 2",
           50169229
          ],
          [
           "Bohemian Rhapsody",
           39090190
          ],
          [
           "Black Panther",
           44884097
          ],
          [
           "A Simple Favor",
           1202018
          ],
          [
           "Aquaman",
           65230598
          ],
          [
           "Ready Player One",
           36958811
          ],
          [
           "Spider-Man: Into the Spider-Verse",
           40304361
          ],
          [
           "Mission: Impossible - Fallout",
           41547587
          ],
          [
           "Venom",
           86084817
          ],
          [
           "Green Book",
           13913414
          ],
          [
           "The Predator",
           14868974
          ],
          [
           "White Boy Rick",
           6201341
          ],
          [
           "Solo: A Star Wars Story",
           20357128
          ],
          [
           "Midnight Sun",
           10658687
          ],
          [
           "Under the Silver Lake",
           5229367
          ],
          [
           "Den of Thieves",
           8110955
          ],
          [
           "Annihilation",
           22147426
          ],
          [
           "Red Sparrow",
           33282563
          ],
          [
           "A Star Is Born",
           36250494
          ],
          [
           "Mamma Mia! Here We Go Again",
           10264881
          ],
          [
           "Instant Family",
           18311428
          ],
          [
           "Jurassic World: Fallen Kingdom",
           68680484
          ],
          [
           "Eighth Grade",
           7844339
          ],
          [
           "Suspiria",
           260805
          ],
          [
           "The Favourite",
           11844645
          ],
          [
           "The Meg",
           50974171
          ],
          [
           "Mandy",
           2840418
          ],
          [
           "Sicario: Day of the Soldado",
           16277000
          ],
          [
           "Fifty Shades Freed",
           3958340
          ],
          [
           "Incredibles 2",
           164357291
          ],
          [
           "The First Purge",
           19037801
          ],
          [
           "Ophelia",
           3309683
          ],
          [
           "The Nun",
           53087617
          ],
          [
           "The Equalizer 2",
           12168962
          ],
          [
           "The Commuter",
           10071799
          ],
          [
           "Game Night",
           10707151
          ],
          [
           "Tag",
           13243866
          ],
          [
           "The Hate U Give",
           22989427
          ],
          [
           "Bad Times at the El Royale",
           26019770
          ],
          [
           "Fantastic Beasts: The Crimes of Grindelwald",
           15157622
          ],
          [
           "Hunter Killer",
           12495931
          ],
          [
           "The Mule",
           16695416
          ],
          [
           "Beautiful Boy",
           12875468
          ],
          [
           "Capharnaüm",
           2494925
          ],
          [
           "Adrift",
           7011652
          ],
          [
           "Love, Simon",
           30712813
          ],
          [
           "Bumblebee",
           28023160
          ],
          [
           "Vice",
           12730025
          ],
          [
           "Hotel Transylvania 3: Summer Vacation",
           18034696
          ],
          [
           "Mile 22",
           12899254
          ],
          [
           "Peter Rabbit",
           7545097
          ],
          [
           "The Spy Who Dumped Me",
           10664625
          ],
          [
           "Mary Queen of Scots",
           5029019
          ],
          [
           "Ralph Breaks the Internet",
           21551133
          ],
          [
           "Overlord",
           16404403
          ],
          [
           "Mortal Engines",
           28122135
          ],
          [
           "Creed II",
           20591714
          ],
          [
           "Mid90s",
           6195350
          ],
          [
           "Replicas",
           4462130
          ],
          [
           "Searching",
           10299418
          ],
          [
           "Slender Man",
           24294703
          ],
          [
           "Arctic",
           10137480
          ],
          [
           "London Fields",
           1282513
          ],
          [
           "The House with a Clock in Its Walls",
           6671844
          ],
          [
           "Can You Ever Forgive Me?",
           5098502
          ],
          [
           "Johnny English Strikes Again",
           17767318
          ],
          [
           "The Nutcracker and the Four Realms",
           6437662
          ],
          [
           "Winchester",
           18436190
          ],
          [
           "The 15:17 to Paris",
           6090134
          ],
          [
           "SuperFly",
           8507166
          ],
          [
           "Early Man",
           3296421
          ],
          [
           "Kin",
           430594
          ],
          [
           "Goosebumps 2: Haunted Halloween",
           7862992
          ],
          [
           "Midsommar",
           24447219
          ],
          [
           "Once Upon a Time... In Hollywood",
           38690760
          ],
          [
           "Avengers: Endgame",
           155072913
          ],
          [
           "Escape Room",
           25933768
          ],
          [
           "Joker",
           99868787
          ],
          [
           "Yesterday",
           8869712
          ],
          [
           "John Wick: Chapter 3 - Parabellum",
           42550267
          ],
          [
           "Knives Out",
           19419518
          ],
          [
           "Fast & Furious Presents: Hobbs & Shaw",
           122627848
          ],
          [
           "Captain Marvel",
           62162515
          ],
          [
           "After",
           1071632
          ],
          [
           "Spider-Man: Far from Home",
           87314471
          ],
          [
           "Jojo Rabbit",
           28751853
          ],
          [
           "It Chapter Two",
           40817995
          ],
          [
           "1917",
           28236238
          ],
          [
           "Star Wars: Episode IX - The Rise of Skywalker",
           49420530
          ],
          [
           "Ford v Ferrari",
           17437009
          ],
          [
           "The Irishman",
           10413636
          ],
          [
           "Jumanji: The Next Level",
           45820755
          ],
          [
           "Alita: Battle Angel",
           20341737
          ],
          [
           "Us",
           35330100
          ],
          [
           "Ready or Not",
           14756634
          ],
          [
           "Terminator: Dark Fate",
           20008952
          ],
          [
           "Downton Abbey",
           10911770
          ],
          [
           "Gemini Man",
           23041196
          ],
          [
           "Booksmart",
           1200627
          ],
          [
           "Dora and the Lost City of Gold",
           35286276
          ],
          [
           "Glass",
           28612647
          ],
          [
           "The Best of Enemies",
           3048088
          ],
          [
           "Marriage Story",
           6494587
          ],
          [
           "Godzilla: King of the Monsters",
           30130722
          ],
          [
           "Rocketman",
           22019887
          ],
          [
           "Hustlers",
           4629117
          ],
          [
           "Toy Story 4",
           66617843
          ],
          [
           "Zombieland: Double Tap",
           20932849
          ],
          [
           "Long Shot",
           4861334
          ],
          [
           "Angel Has Fallen",
           7656137
          ],
          [
           "Men in Black: International",
           26134024
          ],
          [
           "X-Men: Dark Phoenix",
           19935639
          ],
          [
           "Frozen II",
           101359095
          ],
          [
           "Brightburn",
           21340550
          ],
          [
           "Ad Astra",
           10696633
          ],
          [
           "The Peanut Butter Falcon",
           16652387
          ],
          [
           "Good Boys",
           22901413
          ],
          [
           "Ma",
           12486721
          ],
          [
           "Five Feet Apart",
           13827605
          ],
          [
           "Cold Pursuit",
           9295713
          ],
          [
           "Crawl",
           36721616
          ],
          [
           "Annabelle Comes Home",
           23745028
          ],
          [
           "Rambo: Last Blood",
           25953266
          ],
          [
           "Late Night",
           12189931
          ],
          [
           "The Goldfinch",
           8231957
          ],
          [
           "A Beautiful Day in the Neighborhood",
           16001784
          ],
          [
           "How to Train Your Dragon: The Hidden World",
           11483722
          ],
          [
           "The Secret Life of Pets 2",
           27320266
          ],
          [
           "The Curse of la Llorona",
           4340780
          ],
          [
           "Captive State",
           7081956
          ],
          [
           "Scary Stories to Tell in the Dark",
           19083743
          ],
          [
           "The Intruder",
           12134664
          ],
          [
           "The Angry Birds Movie 2",
           6379364
          ],
          [
           "What Men Want",
           11716782
          ],
          [
           "Weathering with You",
           8928855
          ],
          [
           "The Lego Movie 2: The Second Part",
           11638598
          ],
          [
           "Dumbo",
           21239912
          ],
          [
           "The Beach Bum",
           1291887
          ],
          [
           "The Art of Racing in the Rain",
           10060847
          ],
          [
           "Blinded by the Light",
           1193170
          ],
          [
           "Ip Man 4: The Finale",
           16925898
          ],
          [
           "Abominable",
           4455780
          ],
          [
           "Miss Bala",
           13217409
          ],
          [
           "Triple Threat",
           1865022
          ],
          [
           "The Wandering Earth",
           2021749
          ],
          [
           "Breakthrough",
           8044695
          ],
          [
           "Poms",
           4956554
          ],
          [
           "Little",
           2385808
          ],
          [
           "The Prodigy",
           41498486
          ],
          [
           "Overcomer",
           264924
          ],
          [
           "A Madea Family Funeral",
           1082324
          ],
          [
           "The Sun Is also a Star",
           10999120
          ],
          [
           "K-12",
           8090062
          ],
          [
           "Unplanned",
           5489284
          ],
          [
           "Tenet",
           36951864
          ],
          [
           "Birds of Prey",
           30405295
          ],
          [
           "The Invisible Man",
           12838707
          ],
          [
           "Sonic the Hedgehog",
           52206777
          ],
          [
           "Dolittle",
           28900970
          ],
          [
           "The Call of the Wild",
           11048599
          ],
          [
           "The Eight Hundred",
           836702
          ],
          [
           "The Dressmaker",
           2374977
          ],
          [
           "Paranormal Activity: The Ghost Dimension",
           4303815
          ],
          [
           "Truth",
           1451713
          ],
          [
           "Strangerland",
           1519560
          ],
          [
           "Howl",
           974857
          ],
          [
           "Frankenstein",
           3298179
          ],
          [
           "Anchorman 2: The Legend Continues",
           10095222
          ]
         ],
         "hovertemplate": "Likes=%{x}<br>Box_office=%{y}<br>name=%{customdata[0]}<br>Views=%{customdata[1]}<extra></extra>",
         "legendgroup": "",
         "marker": {
          "color": "blue",
          "symbol": "circle"
         },
         "mode": "markers",
         "name": "",
         "orientation": "v",
         "showlegend": false,
         "type": "scatter",
         "x": [
          8354,
          8354,
          605,
          605,
          5308,
          5308,
          5308,
          5308,
          1453,
          1453,
          9152,
          9152,
          774,
          774,
          4562,
          4562,
          4562,
          2326,
          2326,
          313,
          313,
          2729,
          2729,
          3504,
          3504,
          1611,
          9634,
          5585,
          2234,
          6788,
          3716,
          66240,
          6048,
          1477,
          25328,
          1878,
          2838,
          64232,
          16435,
          2925,
          3861,
          3861,
          3861,
          4972,
          3511,
          3511,
          170,
          2246,
          8344,
          706,
          11704,
          11704,
          11704,
          915,
          915,
          915,
          3999,
          562,
          31244,
          2935,
          16501,
          6,
          636,
          3084,
          10624,
          8288,
          13945,
          826,
          10442,
          157,
          11723,
          2150,
          3045,
          356,
          1191,
          714,
          11005,
          815,
          8982,
          1928,
          636,
          10867,
          922,
          258817,
          2393,
          18534,
          656,
          19195,
          2072,
          10034,
          2951,
          56422,
          1268,
          1056,
          373,
          410,
          4041,
          3796,
          43694,
          1439,
          1682,
          1682,
          15429,
          12273,
          341,
          2695,
          315,
          363,
          4802,
          11246,
          11309,
          25328,
          25328,
          745,
          3254,
          6200,
          1329,
          1329,
          3450,
          13472,
          2,
          698,
          59,
          1646,
          1510,
          314,
          2252,
          290,
          7611,
          27584,
          1655,
          1305,
          4311,
          5962,
          7649,
          323,
          13273,
          1912,
          4376,
          1855,
          1855,
          1731,
          1133,
          1809,
          171,
          129366,
          5859,
          71981,
          5459,
          57,
          4429,
          100601,
          31,
          2291,
          59596,
          15700,
          12488,
          21748,
          177942,
          327407,
          38700,
          16670,
          7613,
          34657,
          56892,
          19203,
          22240,
          4570,
          66555,
          305962,
          21332,
          2900,
          780774,
          184412,
          89319,
          1022,
          26053,
          187698,
          308531,
          46235,
          11012,
          7127,
          162924,
          2277,
          370416,
          8138,
          177249,
          23317,
          137784,
          11270,
          15300,
          56254,
          15078,
          12702,
          88748,
          37959,
          15285,
          82863,
          6669,
          2785,
          43902,
          11662,
          7910,
          900,
          21506,
          968,
          203,
          11093,
          271,
          8284,
          8287,
          40317,
          13249,
          12714,
          39611,
          5635,
          12882,
          14633,
          33863,
          4233,
          50427,
          12117,
          22092,
          49581,
          15645,
          18771,
          1930,
          37638,
          5558,
          2363,
          864,
          941,
          2287,
          6512,
          21037,
          10447,
          1372,
          3926,
          18836,
          10968,
          52940,
          9129,
          12109,
          8736,
          19822,
          9113,
          21317,
          9210,
          3419,
          4339,
          177,
          9740,
          489,
          11280,
          4104,
          7870,
          4216,
          11335,
          5855,
          388,
          10559,
          2641,
          7358,
          21071,
          383,
          1123,
          1904,
          1056,
          5133,
          1146,
          1146,
          33020,
          51562,
          4603,
          7008,
          4211,
          42831,
          9626,
          12810,
          7558,
          1959,
          4108,
          15224,
          816,
          429,
          1083,
          5443,
          10451,
          1725,
          695,
          221,
          4299,
          4948,
          2996,
          2074,
          5963,
          13777,
          794,
          2177,
          1843,
          4902,
          19710,
          344,
          2722,
          15428,
          682,
          416,
          973,
          2507,
          3782,
          81,
          2114,
          4157,
          1187,
          7193,
          810,
          1598,
          259,
          417,
          181,
          370,
          687,
          2461,
          454,
          96,
          3688,
          1946,
          41,
          1797,
          1374,
          91833,
          76148,
          87471,
          3734,
          11434,
          11359,
          14339,
          13395,
          15640,
          37853,
          12260,
          31766,
          9598,
          30930,
          5803,
          686,
          17829,
          29344,
          8560,
          7858,
          10775,
          10133,
          129672,
          24034,
          24151,
          77821,
          7208,
          6698,
          15741,
          11717,
          26881,
          7813,
          1618,
          13424,
          5750,
          28140,
          3712,
          1355,
          20716,
          4375,
          8734,
          1533,
          8290,
          12538,
          8773,
          7933,
          11476,
          10832,
          5232,
          25466,
          1480,
          27042,
          313,
          6579,
          8818,
          16373,
          12332,
          14209,
          3409,
          3096,
          4530,
          3439,
          8968,
          20142,
          13825,
          13152,
          8849,
          6847,
          7037,
          6297,
          1294,
          11354,
          28,
          2046,
          1980,
          1599,
          7667,
          1481,
          2465,
          4520,
          2090,
          2292,
          114,
          2338,
          2580,
          7814,
          3959,
          34792,
          3411,
          12592,
          3145,
          4502,
          12768,
          4044,
          15674,
          33523,
          48209,
          124235,
          15102,
          6955,
          10353,
          8584,
          25749,
          80658,
          11885,
          6144,
          12827,
          15769,
          101592,
          94648,
          111215,
          86971,
          21322,
          6843,
          8093,
          12347,
          27235,
          983,
          10202,
          22228,
          71744,
          53308,
          13411,
          19758,
          54034,
          20034,
          17032,
          29825,
          14315,
          15916,
          25335,
          16742,
          2133,
          11383,
          10925,
          65676,
          20243,
          3176,
          11011,
          14211,
          32359,
          9890,
          6697,
          24527,
          25792,
          73770,
          18214,
          15910,
          4681,
          172205,
          101735,
          117090,
          54430,
          100513,
          186208,
          17014,
          98600,
          65363,
          78972,
          66235,
          226093,
          23298,
          188867,
          40711,
          14708,
          26653,
          16442,
          14394,
          2837,
          27434,
          88449,
          30389,
          19621,
          1018,
          40845,
          35400,
          18367,
          9283,
          10698,
          20707,
          58718,
          20660,
          67115,
          14666,
          8641,
          9696,
          64658,
          53583,
          78563,
          200297,
          40428,
          64726,
          23893,
          138030,
          67822,
          61566,
          79929,
          28195,
          140505,
          25185,
          113602,
          70191,
          179918,
          50697,
          4977,
          152816,
          27462,
          39894,
          42512,
          51670,
          62554,
          37191,
          63441,
          68301,
          63228,
          252152,
          68791,
          13104,
          55996,
          124291,
          51069,
          30464,
          22192,
          603405,
          26081,
          72587,
          33531,
          229534,
          45880,
          27390,
          23550,
          40476,
          20329,
          71549,
          16882,
          118092,
          5511,
          21271,
          15327,
          29772,
          155468,
          740121,
          19882,
          48193,
          370725,
          94716,
          64729,
          22101,
          181231,
          71459,
          152940,
          53340,
          155111,
          17475,
          35130,
          42341,
          84230,
          43793,
          99980,
          18558,
          54298,
          88206,
          77640,
          83453,
          18658,
          12835,
          17939,
          43372,
          30250,
          38357,
          60952,
          26355,
          195603,
          15001,
          9962,
          77000,
          41147,
          9727,
          631,
          7810,
          3635,
          3377,
          113946,
          3111,
          24400,
          6345,
          51631,
          2421,
          5769,
          5079,
          17776,
          23621,
          9513,
          901,
          4922,
          4570,
          7912,
          16793,
          6922,
          4173,
          5410,
          9140,
          12312,
          235967,
          39840,
          122895,
          154073,
          306662,
          142855,
          208743,
          148721,
          168504,
          130760,
          302978,
          27387,
          69614,
          188671,
          186770,
          88403,
          157113,
          28750,
          338106,
          524980,
          99967,
          30895,
          107839,
          123026,
          181647,
          62430,
          8457,
          39261,
          86734,
          74745,
          16970,
          52052,
          45626,
          47513,
          78900,
          43750,
          34686,
          369103,
          55825,
          144633,
          35996,
          81829,
          31777,
          39487,
          69925,
          11317,
          43732,
          14275,
          196235,
          121976,
          27554,
          54084,
          100159,
          18855,
          39891,
          71289,
          17302,
          6380,
          106496,
          38046,
          73792,
          22749,
          45060,
          70211,
          24160,
          12468,
          10159,
          13384,
          14431,
          35603,
          12777,
          9994,
          79634,
          27490,
          54972,
          15116,
          423,
          890224,
          21853,
          268774,
          87021,
          243765,
          257340,
          119335,
          197315,
          74664,
          107067,
          163877,
          127646,
          338025,
          41744,
          127545,
          84497,
          334891,
          262465,
          188342,
          102864,
          201198,
          458661,
          63426,
          163611,
          138078,
          34881,
          95769,
          218799,
          47704,
          796245,
          45093,
          8207,
          14013,
          97444,
          42234,
          156123,
          34154,
          96130,
          55477,
          146912,
          25853,
          193176,
          9137,
          61741,
          145180,
          106065,
          29109,
          49574,
          30509,
          162214,
          34399,
          18734,
          43365,
          35457,
          63625,
          10306,
          15015,
          14902,
          27068,
          15285,
          22128,
          92766,
          95223,
          77506,
          72635,
          29154,
          24209,
          134314,
          22299,
          19934,
          129976,
          24957,
          33565,
          87683,
          4114,
          4712,
          20776,
          41810,
          18937,
          8766,
          3618,
          13306,
          118577,
          36595,
          58008,
          53773,
          28352,
          2532,
          45572,
          33745,
          32087,
          35671,
          14852,
          10558,
          67208,
          17122,
          11512,
          363,
          31702,
          9700,
          187,
          1372,
          14803,
          3436,
          829,
          17075,
          185783,
          22365,
          8617,
          2981,
          23558,
          154582,
          4102339,
          661628,
          367993,
          576783,
          2343,
          677746,
          331044,
          580550,
          351165,
          1468099,
          68876,
          108504,
          30464,
          229168,
          78776,
          38193,
          35648,
          97457,
          78384,
          241932,
          60009,
          65271,
          668509,
          85012,
          2430,
          49892,
          325284,
          17894,
          45948,
          23655,
          486958,
          134779,
          42001,
          404832,
          48539,
          22718,
          28550,
          70565,
          279734,
          36643,
          172765,
          40950,
          90049,
          16319,
          20324,
          48941,
          169906,
          264392,
          28700,
          67794,
          63794,
          21905,
          27294,
          50368,
          252402,
          69380,
          140069,
          167926,
          131083,
          18252,
          76560,
          242545,
          30402,
          5671,
          32991,
          9644,
          290493,
          50130,
          21487,
          23542,
          35233,
          11383,
          2722,
          42352,
          173185,
          358875,
          3401396,
          153381,
          1497107,
          85831,
          559408,
          73367,
          459689,
          1133775,
          4917,
          1995083,
          282551,
          485185,
          207588,
          677248,
          152996,
          106088,
          333086,
          169458,
          338971,
          107675,
          145378,
          56201,
          175444,
          10204,
          434451,
          268356,
          4255,
          73749,
          346785,
          141190,
          6582,
          1112712,
          319869,
          23019,
          47176,
          351642,
          244878,
          950304,
          173849,
          44527,
          54292,
          59628,
          93033,
          167272,
          22810,
          325918,
          285500,
          178596,
          7178,
          63612,
          188933,
          129831,
          38379,
          30396,
          12934,
          164310,
          45956,
          27184,
          50265,
          291312,
          104143,
          254799,
          5511,
          88200,
          6565,
          191629,
          46219,
          30757,
          7072,
          17065,
          145645,
          5754,
          25122,
          38095,
          2420,
          9589,
          121378,
          601360,
          50183,
          311633,
          343487,
          59513,
          1131694,
          521491,
          100010,
          4365,
          16547,
          23112,
          3473,
          2299,
          8134,
          10044,
          25866
         ],
         "xaxis": "x",
         "y": [
          0,
          0,
          0,
          0,
          0,
          0,
          0,
          0,
          0,
          0,
          0,
          0,
          0,
          0,
          0,
          135026,
          0,
          0,
          0,
          0,
          0,
          0,
          0,
          0,
          0,
          0,
          0,
          0,
          31309,
          3002884,
          0,
          4719695,
          411115,
          0,
          0,
          0,
          104507,
          643557,
          0,
          2633527,
          0,
          0,
          0,
          0,
          49970,
          0,
          0,
          0,
          59700000,
          0,
          0,
          0,
          0,
          0,
          0,
          0,
          0,
          0,
          17671101,
          0,
          0,
          0,
          0,
          0,
          6075,
          0,
          0,
          0,
          1301696,
          0,
          0,
          0,
          0,
          0,
          0,
          0,
          0,
          0,
          3447633,
          0,
          0,
          0,
          0,
          0,
          0,
          0,
          0,
          0,
          0,
          0,
          0,
          2642899,
          0,
          2334228,
          0,
          0,
          0,
          0,
          0,
          2160298,
          0,
          0,
          0,
          0,
          0,
          0,
          0,
          0,
          0,
          1982505,
          0,
          0,
          0,
          0,
          0,
          0,
          133332,
          0,
          0,
          0,
          0,
          0,
          0,
          0,
          0,
          0,
          0,
          0,
          0,
          0,
          0,
          0,
          14394097,
          0,
          0,
          44695,
          0,
          0,
          0,
          0,
          0,
          1986615,
          0,
          0,
          0,
          0,
          0,
          0,
          0,
          0,
          0,
          0,
          0,
          41092328,
          29916207,
          19632053,
          68851475,
          57063861,
          2270,
          296187079,
          91119319,
          25507137,
          24922237,
          21589395,
          2260616,
          261317921,
          61489265,
          357400,
          191502426,
          424967620,
          504050219,
          53898845,
          1083720877,
          50083616,
          43229904,
          11534477,
          858553,
          379014294,
          23384939,
          73475268,
          110317580,
          15189934,
          99378985,
          114197742,
          80460948,
          46789413,
          5798974,
          104414200,
          836836967,
          623933331,
          294805697,
          48917974,
          271457301,
          96188903,
          329398046,
          154026136,
          4324817,
          224920375,
          321669741,
          5060438,
          99557032,
          592462816,
          199006387,
          1278650,
          319713881,
          494879471,
          67876281,
          7099598,
          290745055,
          89520336,
          543113985,
          102820008,
          252276927,
          278780441,
          698491347,
          226497209,
          157107755,
          15440333,
          261989769,
          83188165,
          60738797,
          274470394,
          170458922,
          400063852,
          105734416,
          1066970811,
          67448651,
          75026327,
          129190869,
          45491656,
          45636368,
          321885765,
          29397654,
          167805466,
          204594016,
          6890432,
          177238796,
          64780213,
          336365676,
          76196538,
          9918093,
          127233108,
          19439764,
          67918658,
          56032889,
          10903312,
          293503354,
          60040976,
          300228084,
          80205382,
          24172201,
          98159963,
          211780824,
          62695489,
          154711438,
          35626958,
          422618,
          54806823,
          752600867,
          415686217,
          27093592,
          34758951,
          152263880,
          32686500,
          310650585,
          4681651,
          9322895,
          60331447,
          66984887,
          81126522,
          27293743,
          79628830,
          114984666,
          91720255,
          86855739,
          48668907,
          149411550,
          112462508,
          49843011,
          134748021,
          89137047,
          55611001,
          101729,
          32054369,
          136333522,
          52844496,
          18689058,
          93251121,
          3494154,
          43053376,
          42059111,
          14788642,
          60321861,
          66166000,
          106956330,
          18409891,
          80547866,
          2648195,
          14311701,
          5144717,
          11104555,
          42345360,
          8087000,
          9933873,
          177512032,
          4052191,
          649626,
          10300416,
          60673972,
          69432527,
          143485,
          8307227,
          77477008,
          20529194,
          48190704,
          405380,
          1671196,
          36015260,
          15625544,
          405861,
          15134293,
          203509374,
          21500813,
          156190,
          449702,
          37981984,
          453708,
          146149,
          25603,
          2820490,
          370569774,
          449326618,
          1342321665,
          3741098,
          288383523,
          626137675,
          151653750,
          110206216,
          214945591,
          77187281,
          219851172,
          69935600,
          216639112,
          145051197,
          149228077,
          1045713802,
          89792502,
          23308615,
          665692281,
          149542245,
          226904017,
          352616690,
          136515867,
          216197492,
          173930596,
          59389433,
          97231420,
          19123767,
          694713380,
          9232318,
          161849455,
          135710029,
          1123794079,
          174822325,
          712205856,
          559852396,
          245724603,
          17039814,
          147332697,
          299268508,
          209838559,
          483866518,
          543848418,
          152930623,
          97984015,
          120081841,
          481800873,
          28013733,
          86752352,
          71508440,
          75055070,
          82087155,
          22926076,
          185770310,
          127869379,
          58409247,
          19504039,
          63782078,
          41097853,
          177243185,
          373993951,
          40909909,
          149673788,
          586764305,
          76130093,
          132563930,
          211819354,
          227817248,
          57084522,
          563749323,
          76338111,
          47120948,
          133432856,
          2530394,
          72526996,
          30722632,
          6206022,
          19561904,
          193967670,
          554987477,
          10173061,
          91627228,
          85564310,
          145676,
          90260376,
          40492652,
          39782683,
          342695435,
          25804448,
          108609310,
          8179416,
          11168712,
          115890699,
          35185884,
          426074373,
          1017003568,
          694394724,
          1081142612,
          115350426,
          88215156,
          15843274,
          403354469,
          68264022,
          198087212,
          232325503,
          829747654,
          218340595,
          132820716,
          130482868,
          1108569499,
          33384127,
          757930663,
          441809770,
          236412453,
          396592829,
          28258060,
          176506819,
          37930465,
          161772375,
          201585328,
          549368315,
          82515113,
          156491279,
          275293450,
          538983207,
          47052899,
          41037742,
          245527149,
          284139100,
          303025485,
          167739961,
          358375603,
          55404207,
          32170399,
          160112671,
          8518634,
          208076205,
          11681781,
          276144750,
          116471580,
          471222889,
          234989584,
          82966152,
          609016565,
          240159255,
          624026776,
          335260290,
          32226382,
          59418613,
          392000694,
          1214811252,
          320290989,
          122126687,
          644783140,
          89328627,
          246984278,
          788680968,
          723192705,
          87100449,
          959007513,
          668045518,
          467365246,
          865011746,
          48449416,
          32443111,
          540455876,
          187733202,
          375740705,
          55736588,
          188133322,
          411002906,
          587205319,
          26474920,
          93492844,
          286140700,
          226349749,
          218791811,
          97542952,
          205366737,
          170270201,
          154802912,
          493311825,
          87305549,
          15661554,
          139745,
          12077441,
          95396573,
          146428180,
          773350147,
          701729206,
          86081711,
          370541256,
          369330363,
          714421503,
          172945750,
          49396747,
          414351546,
          36869414,
          288885818,
          47398992,
          962182865,
          348319861,
          458863600,
          7253160,
          233555708,
          746045700,
          4942449,
          103215094,
          21947454,
          127994610,
          84419388,
          66980456,
          337580051,
          547426372,
          657869686,
          708982323,
          758411779,
          212902372,
          161459297,
          468060692,
          755356711,
          1882074,
          363204635,
          307166834,
          41898409,
          257579282,
          48137666,
          123726688,
          214657577,
          11782625,
          18658381,
          1104054072,
          14710975,
          10312540,
          126069509,
          196710396,
          30642704,
          52501541,
          19206513,
          2700051,
          375658750,
          1402809540,
          74679822,
          133440870,
          1670516444,
          630162448,
          35401758,
          98690254,
          542358331,
          93920758,
          658344137,
          98450062,
          173567581,
          99775678,
          386041607,
          287144079,
          473990832,
          209035668,
          64191523,
          36606743,
          332207671,
          82347656,
          34441873,
          16810562,
          4366460,
          16322067,
          71561644,
          607595,
          117813057,
          34227298,
          158261424,
          26250020,
          24548038,
          34854990,
          27391084,
          90777,
          9074749,
          828874,
          37461274,
          46152800,
          85978292,
          5425148,
          11122090,
          7205073,
          33213241,
          2084628,
          51380201,
          4842699,
          3394174,
          906995,
          38356892,
          42426912,
          1295574,
          143658,
          8527658,
          14431253,
          13081651,
          14659448,
          41325328,
          10835752,
          29355203,
          73256266,
          122606884,
          746846894,
          162360636,
          1153337496,
          782836791,
          677796076,
          278454417,
          208314186,
          157830487,
          644411850,
          203388186,
          543934105,
          23123592,
          343471816,
          448906865,
          321788219,
          1024121104,
          180563636,
          69411370,
          1056057720,
          873637528,
          521170825,
          62788218,
          389681935,
          296482446,
          814044001,
          312242626,
          38803993,
          81093313,
          119100758,
          140705322,
          37879877,
          118587880,
          155160045,
          3377430,
          65336603,
          415484914,
          78988148,
          216972543,
          86234523,
          356700357,
          23834809,
          150680864,
          24121245,
          220021259,
          334897606,
          9101546,
          110216998,
          19263938,
          1028570942,
          140853810,
          119520023,
          162146076,
          37357216,
          23177948,
          121790373,
          240797623,
          8809407,
          19370020,
          109906372,
          334933831,
          73929392,
          11084630,
          352333929,
          85251425,
          29777777,
          20651333,
          76249438,
          114501299,
          106127278,
          81705746,
          678150,
          93282604,
          6698679,
          685780,
          124608438,
          25070261,
          9037058,
          853983911,
          150847274,
          701796444,
          880166924,
          259334548,
          863756051,
          438006904,
          962542945,
          177856751,
          37270721,
          1236005118,
          255589157,
          527016307,
          807817888,
          226945087,
          527965936,
          619179950,
          822824522,
          240891763,
          171547802,
          306209289,
          657926987,
          44516999,
          794881442,
          195333312,
          8003180,
          566652812,
          410902662,
          160192267,
          1332698830,
          53939297,
          100014025,
          43980821,
          352794081,
          148675066,
          78966486,
          48453605,
          381545846,
          125479266,
          605425157,
          3283369,
          169846945,
          35669017,
          225973340,
          113231078,
          185400345,
          67234188,
          10971298,
          24646055,
          43069254,
          47756590,
          125856180,
          306515884,
          134866593,
          221600160,
          26800152,
          296069199,
          26351322,
          27869129,
          22088533,
          56411585,
          145418070,
          102952888,
          43155261,
          29820616,
          62198461,
          180419231,
          61621140,
          56996304,
          12751667,
          1034800131,
          84918541,
          55003890,
          16373843,
          15889124,
          227978645,
          140552359,
          16080475,
          62832209,
          41681746,
          4101699,
          18598607,
          4596705,
          96942115,
          83080890,
          123081555,
          34184504,
          23355100,
          55668698,
          32917353,
          9204549,
          8503658,
          197183546,
          60845711,
          66558465,
          41087017,
          62547032,
          6423605,
          60330833,
          5042014,
          25601244,
          34814102,
          40140972,
          6724365,
          12062146,
          130560428,
          125427681,
          23468586,
          10116816,
          2308355,
          29874280,
          350320413,
          2048359754,
          786470484,
          911902649,
          1347597973,
          97644617,
          1148485886,
          582893671,
          375540831,
          791657398,
          856085151,
          321752656,
          160542134,
          25957482,
          392924807,
          27365467,
          2053469,
          80509622,
          43070915,
          151572634,
          436188866,
          395618157,
          120556201,
          1310466296,
          14347433,
          7942093,
          95918706,
          530259473,
          1555203,
          75837743,
          371987838,
          1244639527,
          137056262,
          242115,
          365551694,
          190400157,
          119942387,
          117679066,
          78130625,
          34934009,
          31882724,
          654855901,
          31676128,
          174804407,
          16636604,
          64417003,
          59945012,
          66316289,
          467989645,
          76073488,
          528583774,
          66308758,
          351496066,
          75339459,
          46712809,
          529323962,
          41657844,
          83869818,
          214215889,
          9303022,
          9330075,
          75462037,
          51738549,
          4165776,
          487420,
          131523093,
          12442161,
          158972499,
          173961069,
          44019588,
          57076286,
          20780685,
          54622814,
          10313019,
          93320380,
          47967636,
          374565754,
          -2147483648,
          155712077,
          1074427370,
          153193369,
          327281779,
          311539397,
          759056935,
          1128462972,
          69756455,
          1131927996,
          90335025,
          473093228,
          384623579,
          1078232589,
          225508210,
          968853,
          800059707,
          404980543,
          255184580,
          57615777,
          261119292,
          237860050,
          173469516,
          24959607,
          119682635,
          246999039,
          10209813,
          333686,
          386600138,
          195179299,
          157563598,
          1073394593,
          122810399,
          53873809,
          146661977,
          253890701,
          252442974,
          1450026933,
          32893421,
          127461872,
          133031473,
          111037232,
          61105744,
          91527795,
          76419755,
          91542097,
          231252591,
          91490353,
          22386555,
          9932621,
          67760877,
          525683457,
          430051293,
          123133739,
          8808611,
          104545505,
          36599361,
          147792047,
          72216294,
          193457467,
          192306508,
          353284621,
          4554416,
          33766787,
          18096691,
          176345966,
          180314199,
          15383580,
          345900,
          699992512,
          50444358,
          16418218,
          49000667,
          21150265,
          38026103,
          74747725,
          6750029,
          359377,
          21354152,
          363656624,
          201858461,
          143151000,
          319715683,
          245487753,
          111105497,
          461421559,
          18340000,
          78099553,
          2541554,
          17472,
          617000,
          112006296,
          173649015
         ],
         "yaxis": "y"
        },
        {
         "line": {
          "color": "black",
          "width": 2
         },
         "mode": "lines",
         "name": "Linear Regression",
         "type": "scatter",
         "x": [
          2,
          4102339
         ],
         "y": [
          59326439.786273755,
          -1952853474.4110086
         ]
        }
       ],
       "layout": {
        "font": {
         "size": 14
        },
        "legend": {
         "tracegroupgap": 0
        },
        "margin": {
         "t": 60
        },
        "template": {
         "data": {
          "bar": [
           {
            "error_x": {
             "color": "rgb(36,36,36)"
            },
            "error_y": {
             "color": "rgb(36,36,36)"
            },
            "marker": {
             "line": {
              "color": "white",
              "width": 0.5
             },
             "pattern": {
              "fillmode": "overlay",
              "size": 10,
              "solidity": 0.2
             }
            },
            "type": "bar"
           }
          ],
          "barpolar": [
           {
            "marker": {
             "line": {
              "color": "white",
              "width": 0.5
             },
             "pattern": {
              "fillmode": "overlay",
              "size": 10,
              "solidity": 0.2
             }
            },
            "type": "barpolar"
           }
          ],
          "carpet": [
           {
            "aaxis": {
             "endlinecolor": "rgb(36,36,36)",
             "gridcolor": "white",
             "linecolor": "white",
             "minorgridcolor": "white",
             "startlinecolor": "rgb(36,36,36)"
            },
            "baxis": {
             "endlinecolor": "rgb(36,36,36)",
             "gridcolor": "white",
             "linecolor": "white",
             "minorgridcolor": "white",
             "startlinecolor": "rgb(36,36,36)"
            },
            "type": "carpet"
           }
          ],
          "choropleth": [
           {
            "colorbar": {
             "outlinewidth": 1,
             "tickcolor": "rgb(36,36,36)",
             "ticks": "outside"
            },
            "type": "choropleth"
           }
          ],
          "contour": [
           {
            "colorbar": {
             "outlinewidth": 1,
             "tickcolor": "rgb(36,36,36)",
             "ticks": "outside"
            },
            "colorscale": [
             [
              0,
              "#440154"
             ],
             [
              0.1111111111111111,
              "#482878"
             ],
             [
              0.2222222222222222,
              "#3e4989"
             ],
             [
              0.3333333333333333,
              "#31688e"
             ],
             [
              0.4444444444444444,
              "#26828e"
             ],
             [
              0.5555555555555556,
              "#1f9e89"
             ],
             [
              0.6666666666666666,
              "#35b779"
             ],
             [
              0.7777777777777778,
              "#6ece58"
             ],
             [
              0.8888888888888888,
              "#b5de2b"
             ],
             [
              1,
              "#fde725"
             ]
            ],
            "type": "contour"
           }
          ],
          "contourcarpet": [
           {
            "colorbar": {
             "outlinewidth": 1,
             "tickcolor": "rgb(36,36,36)",
             "ticks": "outside"
            },
            "type": "contourcarpet"
           }
          ],
          "heatmap": [
           {
            "colorbar": {
             "outlinewidth": 1,
             "tickcolor": "rgb(36,36,36)",
             "ticks": "outside"
            },
            "colorscale": [
             [
              0,
              "#440154"
             ],
             [
              0.1111111111111111,
              "#482878"
             ],
             [
              0.2222222222222222,
              "#3e4989"
             ],
             [
              0.3333333333333333,
              "#31688e"
             ],
             [
              0.4444444444444444,
              "#26828e"
             ],
             [
              0.5555555555555556,
              "#1f9e89"
             ],
             [
              0.6666666666666666,
              "#35b779"
             ],
             [
              0.7777777777777778,
              "#6ece58"
             ],
             [
              0.8888888888888888,
              "#b5de2b"
             ],
             [
              1,
              "#fde725"
             ]
            ],
            "type": "heatmap"
           }
          ],
          "heatmapgl": [
           {
            "colorbar": {
             "outlinewidth": 1,
             "tickcolor": "rgb(36,36,36)",
             "ticks": "outside"
            },
            "colorscale": [
             [
              0,
              "#440154"
             ],
             [
              0.1111111111111111,
              "#482878"
             ],
             [
              0.2222222222222222,
              "#3e4989"
             ],
             [
              0.3333333333333333,
              "#31688e"
             ],
             [
              0.4444444444444444,
              "#26828e"
             ],
             [
              0.5555555555555556,
              "#1f9e89"
             ],
             [
              0.6666666666666666,
              "#35b779"
             ],
             [
              0.7777777777777778,
              "#6ece58"
             ],
             [
              0.8888888888888888,
              "#b5de2b"
             ],
             [
              1,
              "#fde725"
             ]
            ],
            "type": "heatmapgl"
           }
          ],
          "histogram": [
           {
            "marker": {
             "line": {
              "color": "white",
              "width": 0.6
             }
            },
            "type": "histogram"
           }
          ],
          "histogram2d": [
           {
            "colorbar": {
             "outlinewidth": 1,
             "tickcolor": "rgb(36,36,36)",
             "ticks": "outside"
            },
            "colorscale": [
             [
              0,
              "#440154"
             ],
             [
              0.1111111111111111,
              "#482878"
             ],
             [
              0.2222222222222222,
              "#3e4989"
             ],
             [
              0.3333333333333333,
              "#31688e"
             ],
             [
              0.4444444444444444,
              "#26828e"
             ],
             [
              0.5555555555555556,
              "#1f9e89"
             ],
             [
              0.6666666666666666,
              "#35b779"
             ],
             [
              0.7777777777777778,
              "#6ece58"
             ],
             [
              0.8888888888888888,
              "#b5de2b"
             ],
             [
              1,
              "#fde725"
             ]
            ],
            "type": "histogram2d"
           }
          ],
          "histogram2dcontour": [
           {
            "colorbar": {
             "outlinewidth": 1,
             "tickcolor": "rgb(36,36,36)",
             "ticks": "outside"
            },
            "colorscale": [
             [
              0,
              "#440154"
             ],
             [
              0.1111111111111111,
              "#482878"
             ],
             [
              0.2222222222222222,
              "#3e4989"
             ],
             [
              0.3333333333333333,
              "#31688e"
             ],
             [
              0.4444444444444444,
              "#26828e"
             ],
             [
              0.5555555555555556,
              "#1f9e89"
             ],
             [
              0.6666666666666666,
              "#35b779"
             ],
             [
              0.7777777777777778,
              "#6ece58"
             ],
             [
              0.8888888888888888,
              "#b5de2b"
             ],
             [
              1,
              "#fde725"
             ]
            ],
            "type": "histogram2dcontour"
           }
          ],
          "mesh3d": [
           {
            "colorbar": {
             "outlinewidth": 1,
             "tickcolor": "rgb(36,36,36)",
             "ticks": "outside"
            },
            "type": "mesh3d"
           }
          ],
          "parcoords": [
           {
            "line": {
             "colorbar": {
              "outlinewidth": 1,
              "tickcolor": "rgb(36,36,36)",
              "ticks": "outside"
             }
            },
            "type": "parcoords"
           }
          ],
          "pie": [
           {
            "automargin": true,
            "type": "pie"
           }
          ],
          "scatter": [
           {
            "fillpattern": {
             "fillmode": "overlay",
             "size": 10,
             "solidity": 0.2
            },
            "type": "scatter"
           }
          ],
          "scatter3d": [
           {
            "line": {
             "colorbar": {
              "outlinewidth": 1,
              "tickcolor": "rgb(36,36,36)",
              "ticks": "outside"
             }
            },
            "marker": {
             "colorbar": {
              "outlinewidth": 1,
              "tickcolor": "rgb(36,36,36)",
              "ticks": "outside"
             }
            },
            "type": "scatter3d"
           }
          ],
          "scattercarpet": [
           {
            "marker": {
             "colorbar": {
              "outlinewidth": 1,
              "tickcolor": "rgb(36,36,36)",
              "ticks": "outside"
             }
            },
            "type": "scattercarpet"
           }
          ],
          "scattergeo": [
           {
            "marker": {
             "colorbar": {
              "outlinewidth": 1,
              "tickcolor": "rgb(36,36,36)",
              "ticks": "outside"
             }
            },
            "type": "scattergeo"
           }
          ],
          "scattergl": [
           {
            "marker": {
             "colorbar": {
              "outlinewidth": 1,
              "tickcolor": "rgb(36,36,36)",
              "ticks": "outside"
             }
            },
            "type": "scattergl"
           }
          ],
          "scattermapbox": [
           {
            "marker": {
             "colorbar": {
              "outlinewidth": 1,
              "tickcolor": "rgb(36,36,36)",
              "ticks": "outside"
             }
            },
            "type": "scattermapbox"
           }
          ],
          "scatterpolar": [
           {
            "marker": {
             "colorbar": {
              "outlinewidth": 1,
              "tickcolor": "rgb(36,36,36)",
              "ticks": "outside"
             }
            },
            "type": "scatterpolar"
           }
          ],
          "scatterpolargl": [
           {
            "marker": {
             "colorbar": {
              "outlinewidth": 1,
              "tickcolor": "rgb(36,36,36)",
              "ticks": "outside"
             }
            },
            "type": "scatterpolargl"
           }
          ],
          "scatterternary": [
           {
            "marker": {
             "colorbar": {
              "outlinewidth": 1,
              "tickcolor": "rgb(36,36,36)",
              "ticks": "outside"
             }
            },
            "type": "scatterternary"
           }
          ],
          "surface": [
           {
            "colorbar": {
             "outlinewidth": 1,
             "tickcolor": "rgb(36,36,36)",
             "ticks": "outside"
            },
            "colorscale": [
             [
              0,
              "#440154"
             ],
             [
              0.1111111111111111,
              "#482878"
             ],
             [
              0.2222222222222222,
              "#3e4989"
             ],
             [
              0.3333333333333333,
              "#31688e"
             ],
             [
              0.4444444444444444,
              "#26828e"
             ],
             [
              0.5555555555555556,
              "#1f9e89"
             ],
             [
              0.6666666666666666,
              "#35b779"
             ],
             [
              0.7777777777777778,
              "#6ece58"
             ],
             [
              0.8888888888888888,
              "#b5de2b"
             ],
             [
              1,
              "#fde725"
             ]
            ],
            "type": "surface"
           }
          ],
          "table": [
           {
            "cells": {
             "fill": {
              "color": "rgb(237,237,237)"
             },
             "line": {
              "color": "white"
             }
            },
            "header": {
             "fill": {
              "color": "rgb(217,217,217)"
             },
             "line": {
              "color": "white"
             }
            },
            "type": "table"
           }
          ]
         },
         "layout": {
          "annotationdefaults": {
           "arrowhead": 0,
           "arrowwidth": 1
          },
          "autotypenumbers": "strict",
          "coloraxis": {
           "colorbar": {
            "outlinewidth": 1,
            "tickcolor": "rgb(36,36,36)",
            "ticks": "outside"
           }
          },
          "colorscale": {
           "diverging": [
            [
             0,
             "rgb(103,0,31)"
            ],
            [
             0.1,
             "rgb(178,24,43)"
            ],
            [
             0.2,
             "rgb(214,96,77)"
            ],
            [
             0.3,
             "rgb(244,165,130)"
            ],
            [
             0.4,
             "rgb(253,219,199)"
            ],
            [
             0.5,
             "rgb(247,247,247)"
            ],
            [
             0.6,
             "rgb(209,229,240)"
            ],
            [
             0.7,
             "rgb(146,197,222)"
            ],
            [
             0.8,
             "rgb(67,147,195)"
            ],
            [
             0.9,
             "rgb(33,102,172)"
            ],
            [
             1,
             "rgb(5,48,97)"
            ]
           ],
           "sequential": [
            [
             0,
             "#440154"
            ],
            [
             0.1111111111111111,
             "#482878"
            ],
            [
             0.2222222222222222,
             "#3e4989"
            ],
            [
             0.3333333333333333,
             "#31688e"
            ],
            [
             0.4444444444444444,
             "#26828e"
            ],
            [
             0.5555555555555556,
             "#1f9e89"
            ],
            [
             0.6666666666666666,
             "#35b779"
            ],
            [
             0.7777777777777778,
             "#6ece58"
            ],
            [
             0.8888888888888888,
             "#b5de2b"
            ],
            [
             1,
             "#fde725"
            ]
           ],
           "sequentialminus": [
            [
             0,
             "#440154"
            ],
            [
             0.1111111111111111,
             "#482878"
            ],
            [
             0.2222222222222222,
             "#3e4989"
            ],
            [
             0.3333333333333333,
             "#31688e"
            ],
            [
             0.4444444444444444,
             "#26828e"
            ],
            [
             0.5555555555555556,
             "#1f9e89"
            ],
            [
             0.6666666666666666,
             "#35b779"
            ],
            [
             0.7777777777777778,
             "#6ece58"
            ],
            [
             0.8888888888888888,
             "#b5de2b"
            ],
            [
             1,
             "#fde725"
            ]
           ]
          },
          "colorway": [
           "#1F77B4",
           "#FF7F0E",
           "#2CA02C",
           "#D62728",
           "#9467BD",
           "#8C564B",
           "#E377C2",
           "#7F7F7F",
           "#BCBD22",
           "#17BECF"
          ],
          "font": {
           "color": "rgb(36,36,36)"
          },
          "geo": {
           "bgcolor": "white",
           "lakecolor": "white",
           "landcolor": "white",
           "showlakes": true,
           "showland": true,
           "subunitcolor": "white"
          },
          "hoverlabel": {
           "align": "left"
          },
          "hovermode": "closest",
          "mapbox": {
           "style": "light"
          },
          "paper_bgcolor": "white",
          "plot_bgcolor": "white",
          "polar": {
           "angularaxis": {
            "gridcolor": "rgb(232,232,232)",
            "linecolor": "rgb(36,36,36)",
            "showgrid": false,
            "showline": true,
            "ticks": "outside"
           },
           "bgcolor": "white",
           "radialaxis": {
            "gridcolor": "rgb(232,232,232)",
            "linecolor": "rgb(36,36,36)",
            "showgrid": false,
            "showline": true,
            "ticks": "outside"
           }
          },
          "scene": {
           "xaxis": {
            "backgroundcolor": "white",
            "gridcolor": "rgb(232,232,232)",
            "gridwidth": 2,
            "linecolor": "rgb(36,36,36)",
            "showbackground": true,
            "showgrid": false,
            "showline": true,
            "ticks": "outside",
            "zeroline": false,
            "zerolinecolor": "rgb(36,36,36)"
           },
           "yaxis": {
            "backgroundcolor": "white",
            "gridcolor": "rgb(232,232,232)",
            "gridwidth": 2,
            "linecolor": "rgb(36,36,36)",
            "showbackground": true,
            "showgrid": false,
            "showline": true,
            "ticks": "outside",
            "zeroline": false,
            "zerolinecolor": "rgb(36,36,36)"
           },
           "zaxis": {
            "backgroundcolor": "white",
            "gridcolor": "rgb(232,232,232)",
            "gridwidth": 2,
            "linecolor": "rgb(36,36,36)",
            "showbackground": true,
            "showgrid": false,
            "showline": true,
            "ticks": "outside",
            "zeroline": false,
            "zerolinecolor": "rgb(36,36,36)"
           }
          },
          "shapedefaults": {
           "fillcolor": "black",
           "line": {
            "width": 0
           },
           "opacity": 0.3
          },
          "ternary": {
           "aaxis": {
            "gridcolor": "rgb(232,232,232)",
            "linecolor": "rgb(36,36,36)",
            "showgrid": false,
            "showline": true,
            "ticks": "outside"
           },
           "baxis": {
            "gridcolor": "rgb(232,232,232)",
            "linecolor": "rgb(36,36,36)",
            "showgrid": false,
            "showline": true,
            "ticks": "outside"
           },
           "bgcolor": "white",
           "caxis": {
            "gridcolor": "rgb(232,232,232)",
            "linecolor": "rgb(36,36,36)",
            "showgrid": false,
            "showline": true,
            "ticks": "outside"
           }
          },
          "title": {
           "x": 0.05
          },
          "xaxis": {
           "automargin": true,
           "gridcolor": "rgb(232,232,232)",
           "linecolor": "rgb(36,36,36)",
           "showgrid": false,
           "showline": true,
           "ticks": "outside",
           "title": {
            "standoff": 15
           },
           "zeroline": false,
           "zerolinecolor": "rgb(36,36,36)"
          },
          "yaxis": {
           "automargin": true,
           "gridcolor": "rgb(232,232,232)",
           "linecolor": "rgb(36,36,36)",
           "showgrid": false,
           "showline": true,
           "ticks": "outside",
           "title": {
            "standoff": 15
           },
           "zeroline": false,
           "zerolinecolor": "rgb(36,36,36)"
          }
         }
        },
        "title": {
         "text": "Box Office Revenue vs. Number of Likes for Movie Trailers (R-squared: 0.35)"
        },
        "xaxis": {
         "anchor": "y",
         "domain": [
          0,
          1
         ],
         "range": [
          0,
          250000
         ],
         "title": {
          "text": "Number of Likes"
         }
        },
        "yaxis": {
         "anchor": "x",
         "domain": [
          0,
          1
         ],
         "range": [
          0,
          500000000
         ],
         "title": {
          "text": "Box Office Revenue"
         }
        }
       }
      },
      "text/html": [
       "<div>                            <div id=\"5273f673-f490-40ed-879f-621f18a3d865\" class=\"plotly-graph-div\" style=\"height:525px; width:100%;\"></div>            <script type=\"text/javascript\">                require([\"plotly\"], function(Plotly) {                    window.PLOTLYENV=window.PLOTLYENV || {};                                    if (document.getElementById(\"5273f673-f490-40ed-879f-621f18a3d865\")) {                    Plotly.newPlot(                        \"5273f673-f490-40ed-879f-621f18a3d865\",                        [{\"customdata\":[[\"The Escort\",2631629],[\"The Escort\",2631629],[\"Anguish\",289724],[\"Anguish\",289724],[\"Boy Meets Girl\",1146945],[\"Boy Meets Girl\",1146945],[\"Boy Meets Girl\",1146945],[\"Boy Meets Girl\",1146945],[\"Wild Horses\",1130539],[\"Wild Horses\",1130539],[\"Return to Sender\",2862275],[\"Return to Sender\",2862275],[\"Submerged\",604613],[\"Submerged\",604613],[\"Tumbledown\",1375254],[\"Tumbledown\",1375254],[\"Tumbledown\",1375254],[\"Cyberbully\",958927],[\"Cyberbully\",958927],[\"Walter\",283769],[\"Walter\",283769],[\"Christmas Eve\",1051353],[\"Christmas Eve\",1051353],[\"Vendetta\",498142],[\"Vendetta\",498142],[\"Kumiko, the Treasure Hunter\",454094],[\"Justice League: Throne of Atlantis\",2613037],[\"Louis C.K.: Live at The Comedy Store\",488396],[\"Don Verdean\",1033543],[\"The End of the Tour\",1712766],[\"Experimenter\",1338910],[\"True Story\",16569486],[\"The Hunting Ground\",1513595],[\"Going Clear: Scientology and the Prison of Belief\",826178],[\"Tig\",3395280],[\"I Smile Back\",647496],[\"Results\",1397592],[\"The Stanford Prison Experiment\",9679306],[\"Home Sweet Hell\",6211461],[\"Kidnapping Mr. Heineken\",2413736],[\"The Hollow\",1300613],[\"The Hollow\",1300613],[\"The Hollow\",1300613],[\"We Are Still Here\",2713539],[\"Spring\",1081784],[\"Spring\",1081784],[\"Aziz Ansari: Live at Madison Square Garden\",36318],[\"Parallels\",255417],[\"Shaun the Sheep Movie\",1829617],[\"Iliza Shlesinger: Freezing Hot\",201119],[\"Survivor\",5950515],[\"Survivor\",5950515],[\"Survivor\",5950515],[\"Absolution\",716842],[\"Absolution\",716842],[\"Absolution\",716842],[\"Man Up\",1523630],[\"The Culling\",505966],[\"Regression\",10413304],[\"Appropriate Behavior\",1149072],[\"Barbie in Princess Power\",8149464],[\"The Eichmann Show\",3349],[\"Bessie\",45638],[\"The Human Centipede 3 (Final Sequence)\",882417],[\"Barely Lethal\",1567300],[\"Deep Web\",2049437],[\"Kung Fury\",1791704],[\"The World Made Straight\",689660],[\"The Wolfpack\",1773517],[\"Dawg Fight\",99901],[\"Sharknado 3: Oh Hell No!\",3982126],[\"The Flintstones & WWE: Stone Age Smackdown\",622700],[\"See You In Valhalla\",1632825],[\"From the Dark\",64927],[\"Robot Overlords\",329252],[\"Bad Asses on the Bayou\",346487],[\"Accidental Love\",6400218],[\"7 Days in Hell\",131756],[\"Learning to Drive\",1614275],[\"Ooops! Noah is Gone...\",966992],[\"War Pigs\",893417],[\"Best of Enemies\",1969454],[\"Chloe and Theo\",290055],[\"Smosh: The Movie\",13657067],[\"Always Watching: A Marble Hornets Story\",851838],[\"Descendants\",4398931],[\"Last Cab to Darwin\",394209],[\"Lava\",5698660],[\"I Am Chris Farley\",251189],[\"A LEGO Brickumentary\",1815611],[\"Deathgasm\",168330],[\"He Named Me Malala\",3637076],[\"Bloodsucking Bastards\",712048],[\"Meru\",562540],[\"Welcome to Leith\",49493],[\"Listening\",426186],[\"Listen to Me Marlon\",582679],[\"Into the Forest\",1775529],[\"Last Shift\",7386940],[\"Pay the Ghost\",740315],[\"Ghoul\",303199],[\"Ghoul\",303199],[\"Full Out\",1569102],[\"The Quiet Hour\",2592291],[\"I Am Here\",408217],[\"Oddball\",1360400],[\"Tremors 5: Bloodlines\",39827],[\"Narcopolis\",639630],[\"Ronaldo\",990775],[\"A Bigger Splash\",3340687],[\"Where to Invade Next\",2060772],[\"Operator\",3395280],[\"Operator\",3395280],[\"All Things Must Pass\",119384],[\"The Girl King\",740303],[\"Miss You Already\",1451467],[\"Momentum\",1051549],[\"Momentum\",1051549],[\"Tales of Halloween\",1319802],[\"Bone Tomahawk\",5231591],[\"Amy Schumer: Live at the Apollo\",2366],[\"Extraordinary Tales\",121081],[\"SuperBob\",15957],[\"Safelight\",222699],[\"The Phoenix Incident\",523043],[\"The Subjects\",167576],[\"Twinsters\",255586],[\"Condemned\",348309],[\"Chi-Raq\",1721726],[\"The Ridiculous 6\",9783955],[\"He Never Died\",367206],[\"3-Headed Shark Attack\",468018],[\"Woodlawn\",1398366],[\"Moonwalkers\",1749787],[\"Racing Extinction\",1601074],[\"Requiem for the American Dream\",22450],[\"Holding the Man\",1909503],[\"The Fear of 13\",709282],[\"Regular Show: The Movie\",420175],[\"Forsaken\",1511475],[\"Forsaken\",1511475],[\"Remember\",814668],[\"I Spit on Your Grave III: Vengeance is Mine\",429232],[\"The Girl in the Photographs\",773764],[\"VANish\",243469],[\"Jack of the Red Hearts\",11304234],[\"The Condemned 2\",685904],[\"The Benefactor\",10621826],[\"Walt Before Mickey\",1128222],[\"Io che amo solo te\",11005],[\"Teen Beach 2\",927225],[\"Those People\",10803581],[\"Harry Price: Ghost Hunter\",13961],[\"Clash of the Titans\",371089],[\"Neighbors\",18418664],[\"The Thing\",5708600],[\"Conan the Barbarian\",12086764],[\"Annie\",5911899],[\"Parasite\",18564278],[\"Ghostbusters\",48178612],[\"The Karate Kid\",18197819],[\"A Nightmare on Elm Street\",2795962],[\"Fright Night\",4316799],[\"Project X\",5110072],[\"Sing\",11619457],[\"Total Recall\",7803121],[\"Flatliners\",3452380],[\"Trust\",1001331],[\"The Addams Family\",18265832],[\"Beauty and the Beast\",39055146],[\"Aladdin\",1456540],[\"The Three Musketeers\",588516],[\"The Lion King\",74398614],[\"Little Women\",18286878],[\"The Jungle Book\",26515747],[\"Fair Game\",651647],[\"Anna Karenina\",3644746],[\"Godzilla\",41484626],[\"The Avengers\",37214177],[\"Life\",12165094],[\"The Kid\",2002004],[\"Oldboy\",1346608],[\"Hellboy\",16267262],[\"Step Up\",337896],[\"Halloween\",36817650],[\"Death at a Funeral\",2600632],[\"Passengers\",33969196],[\"The Girl with the Dragon Tattoo\",6057967],[\"Inception\",15613461],[\"Iron Man 2\",2031380],[\"Shutter Island\",1737362],[\"Scott Pilgrim vs. the World\",4901853],[\"Grown Ups\",6874999],[\"Kick-Ass\",2129743],[\"Black Swan\",31988201],[\"The Town\",8114245],[\"Flipped\",1612318],[\"The Social Network\",15253654],[\"Robin Hood\",2087856],[\"Monsters\",683751],[\"Insidious\",9913503],[\"Tangled\",6213673],[\"RED\",2126156],[\"I Spit on Your Grave\",303556],[\"The Last Airbender\",10456159],[\"How to Train Your Dragon\",229249],[\"The American\",141080],[\"Incendies\",2307697],[\"Sex and the City 2\",477503],[\"Burlesque\",1973236],[\"Despicable Me\",2855717],[\"Love & Other Drugs\",7636777],[\"True Grit\",6591557],[\"The Tourist\",3202983],[\"The Twilight Saga: Eclipse\",22697146],[\"Percy Jackson & the Olympians: The Lightning Thief\",815431],[\"The Book of Eli\",2709220],[\"Blue Valentine\",2657616],[\"Knight and Day\",5820302],[\"Piranha 3D\",3539361],[\"127 Hours\",14244651],[\"The Expendables\",3046241],[\"The Other Guys\",9090557],[\"TRON: Legacy\",14836439],[\"Life as We Know It\",2143611],[\"Toy Story 3\",11571769],[\"The Next Three Days\",425690],[\"Easy A\",10934727],[\"The Fighter\",1250291],[\"Machete\",946423],[\"The Debt\",210760],[\"Megamind\",450915],[\"The Losers\",388412],[\"Unstoppable\",1271247],[\"Eat Pray Love\",6971741],[\"Centurion\",6363489],[\"The A-Team\",174794],[\"Hot Tub Time Machine\",693033],[\"Prince of Persia: the Sands of Time\",6592749],[\"Diary of a Wimpy Kid\",6367147],[\"Never Let Me Go\",16135421],[\"Predators\",2006499],[\"Buried\",2412906],[\"Legion\",2472802],[\"Remember Me\",2756773],[\"Jonah Hex\",5322266],[\"Salt\",9408098],[\"Morning Glory\",6427313],[\"Resident Evil: Afterlife\",811576],[\"Takers\",1058344],[\"The Way Back\",30736],[\"Killers\",1708311],[\"Due Date\",116445],[\"Devil\",3307250],[\"Green Zone\",2046069],[\"Faster\",1732159],[\"Super\",960420],[\"The Crazies\",3767408],[\"Shrek Forever After\",7205019],[\"The Chronicles of Narnia: the Voyage of the Dawn Treader\",75792],[\"Let Me In\",6090884],[\"The Kids Are All Right\",1000539],[\"Date Night\",5274199],[\"Leap Year\",4254914],[\"Little Fockers\",560463],[\"The Runaways\",316345],[\"MacGruber\",423087],[\"The Ghost Writer\",353445],[\"Skyline\",1791432],[\"Edge of Darkness\",279218],[\"Ramona and Beezus\",279218],[\"Letters to Juliet\",2307428],[\"Dear John\",13433064],[\"Get Him to the Greek\",1269431],[\"Dinner for Schmucks\",3302728],[\"How Do You Know\",2225065],[\"The Secret World of Arrietty\",4938671],[\"Tooth Fairy\",3823528],[\"The Switch\",7717150],[\"Wall Street: Money Never Sleeps\",1130222],[\"The Last Song\",650888],[\"Cop Out\",1060172],[\"Rubber\",1503928],[\"You Again\",144876],[\"The Bounty Hunter\",64964],[\"From Paris with Love\",694898],[\"13 Assassins\",1295978],[\"Nanny McPhee Returns\",2565893],[\"Wild Target\",713932],[\"When in Rome\",195677],[\"Going the Distance\",106145],[\"Somewhere\",1063167],[\"Secretariat\",2441997],[\"The Spy Next Door\",816027],[\"Hereafter\",667469],[\"Repo Men\",4668217],[\"Vampires Suck\",1723974],[\"Twelve\",435138],[\"Beginners\",335896],[\"Rabbit Hole\",750864],[\"Conviction\",2496544],[\"My Name Is Khan\",1364277],[\"The Company Men\",156663],[\"Cyrus\",2179362],[\"Paranormal Activity 2\",19500763],[\"The Killer Inside Me\",451736],[\"The Extra Man\",109367],[\"Stone\",434780],[\"Why Did I Get Married Too?\",527283],[\"The Last Exorcism\",1449805],[\"Dirty Girl\",43661],[\"London Boulevard\",1006801],[\"The Back-up Plan\",1455543],[\"Country Strong\",320016],[\"Charlie St. Cloud\",909635],[\"Stake Land\",313900],[\"Vanishing on 7th Street\",208234],[\"You Will Meet a Tall Dark Stranger\",249841],[\"The Conspirator\",115259],[\"The Tempest\",38413],[\"Extraordinary Measures\",224748],[\"Yogi Bear\",247728],[\"My Soul to Take\",435683],[\"Hatchet II\",242238],[\"Hesher\",11063],[\"For Colored Girls\",555143],[\"The Perfect Host\",745056],[\"Love Ranch\",7780],[\"Passion Play\",423505],[\"Everything Must Go\",552481],[\"Captain America: the First Avenger\",11880743],[\"Thor\",26452579],[\"Harry Potter and the Deathly Hallows: Part 2\",12354163],[\"Take Shelter\",746944],[\"Bridesmaids\",5241392],[\"Fast Five\",2850362],[\"Midnight in Paris\",2574754],[\"Moneyball\",3995758],[\"Just Go with It\",3714500],[\"Drive\",8541876],[\"Green Lantern\",1891605],[\"The Cabin in the Woods\",11062944],[\"The Help\",1670104],[\"Crazy, Stupid, Love.\",7930084],[\"No Strings Attached\",987810],[\"Pirates of the Caribbean: on Stranger Tides\",88224],[\"Sucker Punch\",2375603],[\"Warrior\",7566551],[\"Kung Fu Panda 2\",2324330],[\"Friends with Benefits\",1673024],[\"Immortals\",1620569],[\"X-Men: First Class\",2209356],[\"Contagion\",29659659],[\"Bad Teacher\",4289699],[\"In Time\",2933462],[\"One Day\",12692118],[\"Scream 4\",807713],[\"Shame\",2671005],[\"Mission: Impossible - Ghost Protocol\",2545952],[\"We Need to Talk About Kevin\",1358112],[\"Limitless\",4270400],[\"Unknown\",2614690],[\"Transformers: Dark of the Moon\",331216],[\"Cowboys & Aliens\",5506119],[\"The Twilight Saga: Breaking Dawn - Part 1\",2456075],[\"Cars 2\",32797435],[\"Rango\",2392702],[\"Melancholia\",1083259],[\"Source Code\",8724881],[\"Real Steel\",2808731],[\"Horrible Bosses\",2508515],[\"Rio\",1611952],[\"Sherlock Holmes: A Game of Shadows\",1861849],[\"Tower Heist\",6332354],[\"Paul\",1307280],[\"We Bought a Zoo\",1163886],[\"Rise of the Planet of the Apes\",4863051],[\"Your Highness\",5898131],[\"The Lincoln Lawyer\",4195187],[\"Colombiana\",7440394],[\"Larry Crowne\",436718],[\"Abduction\",8346497],[\"A Separation\",110599],[\"Hugo\",1231008],[\"The Adjustment Bureau\",2182065],[\"The Tree of Life\",2559581],[\"Margin Call\",2248827],[\"Hanna\",2673721],[\"50/50\",3865865],[\"The Descendants\",802593],[\"The Adventures of Tintin\",392538],[\"Drive Angry\",1030588],[\"Jack and Jill\",1410829],[\"The Hangover Part II\",5369208],[\"The Mechanic\",10444669],[\"Ghost Rider: Spirit of Vengeance\",2234751],[\"Battle Los Angeles\",2219482],[\"The Green Hornet\",2906129],[\"Killer Elite\",2288304],[\"The Smurfs\",3532627],[\"The Ides of March\",478014],[\"Soul Surfer\",2030815],[\"The Artist\",9027],[\"Bucky Larson: Born to Be a Star\",1018433],[\"Diary of a Wimpy Kid: Rodrick Rules\",230958],[\"Carnage\",335716],[\"Attack the Block\",791737],[\"The Guard\",387826],[\"Gnomeo & Juliet\",920065],[\"Puss in Boots\",1569906],[\"Bernie\",861413],[\"Season of the Witch\",505900],[\"Spy Kids 4-D: All the Time in the World\",40502],[\"The Divide\",696192],[\"Red Riding Hood\",834120],[\"The Roommate\",2063152],[\"Monte Carlo\",314711],[\"Alvin and the Chipmunks: Chipwrecked\",14608154],[\"Our Idiot Brother\",1968267],[\"Sanctum\",2838752],[\"The Big Year\",2475688],[\"Straw Dogs\",2258297],[\"The Iron Lady\",1338953],[\"Courageous\",773879],[\"Django Unchained\",1888642],[\"The Hobbit: An Unexpected Journey\",7546475],[\"The Hunger Games\",10110636],[\"The Dark Knight Rises\",39401568],[\"Pitch Perfect\",4480867],[\"This Is 40\",2945126],[\"The Hunt\",1534004],[\"Prometheus\",1615031],[\"Moonrise Kingdom\",3457723],[\"The Impossible\",17304236],[\"Argo\",2940464],[\"The Twilight Saga: Breaking Dawn - Part 2\",1803056],[\"Jack Reacher\",2742969],[\"Zero Dark Thirty\",4062558],[\"Cloud Atlas\",23026894],[\"Skyfall\",30617962],[\"The Perks of Being a Wallflower\",12384496],[\"The Amazing Spider-Man\",16911338],[\"Les Mis\\u00e9rables\",4258792],[\"Silver Linings Playbook\",1069515],[\"Snow White and the Huntsman\",1592860],[\"The Master\",1504471],[\"Looper\",10084518],[\"Killing Them Softly\",159350],[\"Flight\",2279375],[\"21 Jump Street\",4067800],[\"Ted\",24244725],[\"Sinister\",8837203],[\"This Means War\",3722929],[\"Lincoln\",4707014],[\"Brave\",21307820],[\"The Place Beyond the Pines\",2706712],[\"Dredd\",3777695],[\"Dark Shadows\",3179045],[\"John Carter\",5530850],[\"Battleship\",5996735],[\"Magic Mike\",10742854],[\"Hotel Transylvania\",5375901],[\"Lawless\",429571],[\"Spring Breakers\",2056717],[\"Underworld: Awakening\",4669729],[\"Piranha 3DD\",18462191],[\"Safe House\",9501004],[\"Seeking a Friend for the End of the World\",1413391],[\"The Bourne Legacy\",4750034],[\"Abraham Lincoln: Vampire Hunter\",3540885],[\"Wreck-It Ralph\",11764929],[\"American Reunion\",4228698],[\"Savages\",2061733],[\"Life of Pi\",4842857],[\"Resident Evil: Retribution\",6889524],[\"Men in Black 3\",18455311],[\"Journey 2: The Mysterious Island\",4361121],[\"Seven Psychopaths\",2659518],[\"Rock of Ages\",976292],[\"The Wolf of Wall Street\",29827668],[\"Iron Man 3\",30726463],[\"The Conjuring\",35700932],[\"Prisoners\",13640817],[\"Thor: The Dark World\",21995061],[\"The Purge\",41898109],[\"Grown Ups 2\",4288270],[\"Fast & Furious 6\",29214620],[\"Gravity\",20217081],[\"About Time\",16146782],[\"The Hobbit: The Desolation of Smaug\",14822584],[\"Man of Steel\",49219655],[\"Star Trek Into Darkness\",8083980],[\"The Hunger Games: Catching Fire\",32513220],[\"Homefront\",11881584],[\"Movie 43\",4331536],[\"World War Z\",12561639],[\"12 Years a Slave\",6961538],[\"G.I. Joe: Retaliation\",2000714],[\"Dallas Buyers Club\",810280],[\"The Secret Life of Walter Mitty\",5490675],[\"Pacific Rim\",22812952],[\"The Croods\",14830608],[\"The Way Way Back\",3746727],[\"The Internship\",1872558],[\"Elysium\",12058130],[\"Hansel & Gretel: Witch Hunters\",10676180],[\"Captain Phillips\",3569737],[\"Evil Dead\",1269671],[\"White House Down\",9223481],[\"Olympus Has Fallen\",6289224],[\"Lone Survivor\",20280772],[\"Oz the Great and Powerful\",8099762],[\"Pain & Gain\",22892069],[\"Out of the Furnace\",5733374],[\"Coherence\",1490953],[\"Stoker\",4171965],[\"The Mortal Instruments: City of Bones\",9425434],[\"Mama\",16198928],[\"Guardians of the Galaxy\",10366412],[\"Interstellar\",36084861],[\"John Wick\",13765909],[\"Edge of Tomorrow\",17336794],[\"Gone Girl\",15802931],[\"Captain America: The Winter Soldier\",33160766],[\"The Grand Budapest Hotel\",14054342],[\"Whiplash\",15226132],[\"Kingsman: The Secret Service\",20701113],[\"Ex Machina\",9018887],[\"Divergent\",38789694],[\"Nightcrawler\",8726612],[\"The Hobbit: The Battle of the Five Armies\",23968145],[\"The Maze Runner\",13182473],[\"Lucy\",44271725],[\"What We Do in the Shadows\",7196552],[\"The Imitation Game\",1425657],[\"X-Men: Days of Future Past\",37469393],[\"Predestination\",7809529],[\"Birdman or (The Unexpected Virtue of Ignorance)\",15755181],[\"It Follows\",10498607],[\"Blended\",13661334],[\"The Judge\",8385830],[\"The Giver\",8575534],[\"300: Rise of an Empire\",18562100],[\"American Sniper\",24735187],[\"Big Hero 6\",21355289],[\"The Amazing Spider-Man 2\",41330418],[\"Maleficent\",18209296],[\"Into the Woods\",4133291],[\"Unbroken\",11701382],[\"The Lego Movie\",34729678],[\"The Hunger Games: Mockingjay - Part 1\",14054262],[\"Tusk\",7085055],[\"Night at the Museum: Secret of the Tomb\",6823471],[\"The Fault in Our Stars\",47647207],[\"As Above, So Below\",3193391],[\"Annabelle\",29233708],[\"Boyhood\",9422304],[\"The Theory of Everything\",23911719],[\"The Expendables 3\",18068752],[\"The Interview\",8892766],[\"The Drop\",7494210],[\"Transformers: Age of Extinction\",7078665],[\"Inherent Vice\",6856928],[\"The Babadook\",17088372],[\"Sex Tape\",7791266],[\"The Other Woman\",17203540],[\"Wild Tales\",1262219],[\"Wild\",9620967],[\"Foxcatcher\",9058572],[\"The Guest\",7642035],[\"Mad Max: Fury Road\",35993794],[\"Avengers: Age of Ultron\",93136456],[\"Crimson Peak\",3065553],[\"The Big Short\",12773447],[\"Jurassic World\",92701512],[\"The Martian\",20224641],[\"Room\",13800069],[\"Spotlight\",6057836],[\"Cinderella\",42139777],[\"In the Heart of the Sea\",15513097],[\"The Hunger Games: Mockingjay - Part 2\",23716245],[\"The Visit\",13554154],[\"Creed\",28173455],[\"Black Mass\",5324732],[\"Home\",14727961],[\"Pitch Perfect 2\",10185564],[\"San Andreas\",27265464],[\"Tomorrowland\",10381190],[\"The Danish Girl\",14475273],[\"Burnt\",4914157],[\"The Good Dinosaur\",21569428],[\"Hitman: Agent 47\",22356634],[\"Steve Jobs\",16277652],[\"Hardcore Henry\",20703535],[\"Demolition\",3298748],[\"Macbeth\",2705738],[\"Run All Night\",8945572],[\"Mr. Right\",9848580],[\"Magic Mike XXL\",12169929],[\"Victor Frankenstein\",10504471],[\"Goosebumps\",18523254],[\"Aloha\",11032453],[\"Baahubali: The Beginning\",27672008],[\"Secret in Their Eyes\",5153915],[\"Irrational Man\",5444646],[\"Beasts of No Nation\",13896281],[\"Me and Earl and the Dying Girl\",7496171],[\"Tangerine\",2800897],[\"A Walk in the Woods\",723041],[\"Eddie the Eagle\",885307],[\"The Second Best Exotic Marigold Hotel\",1265354],[\"The Meddler\",1106149],[\"We Are Your Friends\",21065381],[\"Grandma\",1112159],[\"Project Almanac\",9618992],[\"Equals\",1098878],[\"Hot Pursuit\",11298833],[\"90 Minutes in Heaven\",702611],[\"Rock the Kasbah\",2010404],[\"The Sea of Trees\",1139867],[\"The Lazarus Effect\",6733696],[\"Love the Coopers\",6240021],[\"Slow West\",3010137],[\"Cop Car\",611230],[\"Our Brand Is Crisis\",4619670],[\"Unfinished Business\",3578211],[\"Hot Tub Time Machine 2\",3022961],[\"Hello, My Name Is Doris\",3334966],[\"Ricki and the Flash\",4274511],[\"Danny Collins\",2396415],[\"Mr. Holmes\",1565492],[\"War Room\",1646210],[\"Dragon Blade\",3792400],[\"Suicide Squad\",43612620],[\"The Magnificent Seven\",14142063],[\"Captain America: Civil War\",30313451],[\"Deadpool\",21036223],[\"Doctor Strange\",44742333],[\"Split\",30697114],[\"Me Before You\",30004423],[\"Don't Breathe\",33417544],[\"Moana\",40308746],[\"Arrival\",24311291],[\"X-Men: Apocalypse\",56516429],[\"Captain Fantastic\",8749016],[\"Star Trek Beyond\",19343044],[\"La La Land\",41291629],[\"The Conjuring 2\",36561903],[\"Zootopia\",23702488],[\"Hacksaw Ridge\",26214851],[\"13 Hours\",8391110],[\"Rogue One: A Star Wars Story\",41658553],[\"Batman v Superman: Dawn of Justice\",78302379],[\"Kung Fu Panda 3\",26686552],[\"The Nice Guys\",10156012],[\"Independence Day: Resurgence\",28382453],[\"Miss Peregrine's Home for Peculiar Children\",17778867],[\"Fantastic Beasts and Where to Find Them\",19229727],[\"Resident Evil: The Final Chapter\",13903964],[\"Criminal\",4578870],[\"Underworld: Blood Wars\",8757062],[\"The Shallows\",24346628],[\"Sausage Party\",15489907],[\"Hell or High Water\",7171209],[\"The Purge: Election Year\",11426920],[\"The Accountant\",12510988],[\"The Neon Demon\",10976481],[\"Moonlight\",18845165],[\"Jason Bourne\",12621587],[\"Manchester by the Sea\",9731437],[\"Central Intelligence\",42912165],[\"War Dogs\",14548376],[\"The Legend of Tarzan\",38000916],[\"Silence\",8090083],[\"Gods of Egypt\",27144126],[\"The Founder\",6192544],[\"Inferno\",13804143],[\"Now You See Me 2\",11690272],[\"Miss Sloane\",3803131],[\"10 Cloverfield Lane\",11454542],[\"The Lost City of Z\",2533442],[\"Finding Dory\",31593445],[\"Lion\",18210247],[\"Allied\",7006452],[\"Jack Reacher: Never Go Back\",13187256],[\"Snowden\",17823293],[\"Triple 9\",7735467],[\"Deepwater Horizon\",15721724],[\"Sully\",17685715],[\"Morgan\",6923623],[\"The Edge of Seventeen\",1429513],[\"The 5th Wave\",21198345],[\"The Great Wall\",11983948],[\"The Boy\",17667649],[\"The Belko Experiment\",3502401],[\"The Angry Birds Movie\",18298837],[\"Nerve\",11773792],[\"Jackie\",5330009],[\"Keanu\",3088198],[\"Kubo and the Two Strings\",1066633],[\"Office Christmas Party\",3845830],[\"Leap!\",2205373],[\"Ouija: Origin of Evil\",8777065],[\"All I See Is You\",1940956],[\"Money Monster\",2626913],[\"Bleed for This\",9218327],[\"Mr. Church\",3306463],[\"Ride Along 2\",15658533],[\"Race\",1992939],[\"Incarnate\",1154795],[\"Thor: Ragnarok\",82243099],[\"Darkest Hour\",6353514],[\"It\",44280574],[\"Spider-Man: Homecoming\",11351625],[\"Blade Runner 2049\",35623611],[\"Guardians of the Galaxy Vol. 2\",22560304],[\"The Greatest Showman\",23654363],[\"Jumanji: Welcome to the Jungle\",36663624],[\"Baywatch\",18761468],[\"Home Again\",12546200],[\"The Fate of the Furious\",20630519],[\"Get Out\",22583419],[\"Dunkirk\",47784685],[\"Coco\",8796399],[\"Baby Driver\",18613122],[\"The Boss Baby\",25098808],[\"Logan\",35233892],[\"Wonder Woman\",30776306],[\"Alien: Covenant\",30246282],[\"John Wick: Chapter 2\",21138160],[\"Wonder\",14469341],[\"Justice League\",40391529],[\"Mother!\",20490536],[\"Pirates of the Caribbean: Dead Men Tell No Tales\",21176614],[\"The Shape of Water\",26297189],[\"Disobedience\",9139243],[\"Kong: Skull Island\",17746001],[\"Kingsman: The Golden Circle\",26172011],[\"Three Billboards Outside Ebbing, Missouri\",10260484],[\"Star Wars: Episode VIII - The Last Jedi\",57803372],[\"I, Tonya\",6672099],[\"Atomic Blonde\",680370],[\"Wind River\",3159917],[\"Murder on the Orient Express\",15533608],[\"King Arthur: Legend of the Sword\",10645412],[\"Lady Bird\",20483382],[\"Logan Lucky\",12207289],[\"Fifty Shades Darker\",24943042],[\"Happy Death Day\",7995923],[\"Transformers: The Last Knight\",21592352],[\"Good Time\",3243822],[\"Ghost in the Shell\",34794506],[\"Hostiles\",2846147],[\"Valerian and the City of a Thousand Planets\",10266703],[\"The Dark Tower\",29513664],[\"Pitch Perfect 3\",9014982],[\"American Assassin\",5762583],[\"The Florida Project\",6124737],[\"The Death of Stalin\",3255527],[\"Gifted\",17144647],[\"Phantom Thread\",11718705],[\"The Upside\",14380986],[\"Annabelle: Creation\",9534011],[\"American Made\",14721588],[\"Geostorm\",17323551],[\"CHIPS\",2317347],[\"Ferdinand\",8382765],[\"Only the Brave\",3147923],[\"The Beguiled\",4298558],[\"The Glass Castle\",2361654],[\"The Big Sick\",4969048],[\"The Foreigner\",11836682],[\"Jigsaw\",19777041],[\"The Snowman\",14354923],[\"The Disaster Artist\",8457067],[\"47 Meters Down\",9034518],[\"The Post\",18106381],[\"Everything, Everything\",11190272],[\"All the Money in the World\",7201575],[\"Suburbicon\",4905116],[\"Despicable Me 3\",39902910],[\"Going in Style\",6347825],[\"Downsizing\",11854993],[\"Before I Fall\",11377667],[\"Wonder Wheel\",2105234],[\"Paddington 2\",852242],[\"Girls Trip\",6920332],[\"The Space Between Us\",6498975],[\"The Mountain Between Us\",3505626],[\"T2 Trainspotting\",1051516],[\"The Hero\",1375786],[\"Battle of the Sexes\",3276936],[\"The Book of Henry\",10082417],[\"The Shack\",11206236],[\"Rings\",10832658],[\"The Lego Ninjago Movie\",9251335],[\"The House\",4800310],[\"Detroit\",624850],[\"All Eyez on Me\",4830120],[\"Sleepless\",8916345],[\"Tulip Fever\",4083493],[\"Stronger\",4405453],[\"Smurfs: The Lost Village\",4249448],[\"Snatched\",3604054],[\"Victoria & Abdul\",7627060],[\"Fist Fight\",4910894],[\"How to Be a Latin Lover\",3272448],[\"Same Kind of Different as Me\",59779],[\"My Little Pony: The Movie\",5965811],[\"Table 19\",1866969],[\"Father Figures\",592708],[\"Kidnap\",5704042],[\"Diary of a Wimpy Kid: The Long Haul\",3543070],[\"Churchill\",255598],[\"The Bookshop\",718510],[\"A Bad Moms Christmas\",4476409],[\"Captain Underpants: The First Epic Movie\",12944992],[\"Wish Upon\",3843430],[\"Marshall\",1177621],[\"The Resurrection of Gavin Stone\",511421],[\"The Bye Bye Man\",5697614],[\"A Quiet Place\",33230714],[\"Avengers: Infinity War\",258808507],[\"Deadpool 2\",50169229],[\"Bohemian Rhapsody\",39090190],[\"Black Panther\",44884097],[\"A Simple Favor\",1202018],[\"Aquaman\",65230598],[\"Ready Player One\",36958811],[\"Spider-Man: Into the Spider-Verse\",40304361],[\"Mission: Impossible - Fallout\",41547587],[\"Venom\",86084817],[\"Green Book\",13913414],[\"The Predator\",14868974],[\"White Boy Rick\",6201341],[\"Solo: A Star Wars Story\",20357128],[\"Midnight Sun\",10658687],[\"Under the Silver Lake\",5229367],[\"Den of Thieves\",8110955],[\"Annihilation\",22147426],[\"Red Sparrow\",33282563],[\"A Star Is Born\",36250494],[\"Mamma Mia! Here We Go Again\",10264881],[\"Instant Family\",18311428],[\"Jurassic World: Fallen Kingdom\",68680484],[\"Eighth Grade\",7844339],[\"Suspiria\",260805],[\"The Favourite\",11844645],[\"The Meg\",50974171],[\"Mandy\",2840418],[\"Sicario: Day of the Soldado\",16277000],[\"Fifty Shades Freed\",3958340],[\"Incredibles 2\",164357291],[\"The First Purge\",19037801],[\"Ophelia\",3309683],[\"The Nun\",53087617],[\"The Equalizer 2\",12168962],[\"The Commuter\",10071799],[\"Game Night\",10707151],[\"Tag\",13243866],[\"The Hate U Give\",22989427],[\"Bad Times at the El Royale\",26019770],[\"Fantastic Beasts: The Crimes of Grindelwald\",15157622],[\"Hunter Killer\",12495931],[\"The Mule\",16695416],[\"Beautiful Boy\",12875468],[\"Capharna\\u00fcm\",2494925],[\"Adrift\",7011652],[\"Love, Simon\",30712813],[\"Bumblebee\",28023160],[\"Vice\",12730025],[\"Hotel Transylvania 3: Summer Vacation\",18034696],[\"Mile 22\",12899254],[\"Peter Rabbit\",7545097],[\"The Spy Who Dumped Me\",10664625],[\"Mary Queen of Scots\",5029019],[\"Ralph Breaks the Internet\",21551133],[\"Overlord\",16404403],[\"Mortal Engines\",28122135],[\"Creed II\",20591714],[\"Mid90s\",6195350],[\"Replicas\",4462130],[\"Searching\",10299418],[\"Slender Man\",24294703],[\"Arctic\",10137480],[\"London Fields\",1282513],[\"The House with a Clock in Its Walls\",6671844],[\"Can You Ever Forgive Me?\",5098502],[\"Johnny English Strikes Again\",17767318],[\"The Nutcracker and the Four Realms\",6437662],[\"Winchester\",18436190],[\"The 15:17 to Paris\",6090134],[\"SuperFly\",8507166],[\"Early Man\",3296421],[\"Kin\",430594],[\"Goosebumps 2: Haunted Halloween\",7862992],[\"Midsommar\",24447219],[\"Once Upon a Time... In Hollywood\",38690760],[\"Avengers: Endgame\",155072913],[\"Escape Room\",25933768],[\"Joker\",99868787],[\"Yesterday\",8869712],[\"John Wick: Chapter 3 - Parabellum\",42550267],[\"Knives Out\",19419518],[\"Fast & Furious Presents: Hobbs & Shaw\",122627848],[\"Captain Marvel\",62162515],[\"After\",1071632],[\"Spider-Man: Far from Home\",87314471],[\"Jojo Rabbit\",28751853],[\"It Chapter Two\",40817995],[\"1917\",28236238],[\"Star Wars: Episode IX - The Rise of Skywalker\",49420530],[\"Ford v Ferrari\",17437009],[\"The Irishman\",10413636],[\"Jumanji: The Next Level\",45820755],[\"Alita: Battle Angel\",20341737],[\"Us\",35330100],[\"Ready or Not\",14756634],[\"Terminator: Dark Fate\",20008952],[\"Downton Abbey\",10911770],[\"Gemini Man\",23041196],[\"Booksmart\",1200627],[\"Dora and the Lost City of Gold\",35286276],[\"Glass\",28612647],[\"The Best of Enemies\",3048088],[\"Marriage Story\",6494587],[\"Godzilla: King of the Monsters\",30130722],[\"Rocketman\",22019887],[\"Hustlers\",4629117],[\"Toy Story 4\",66617843],[\"Zombieland: Double Tap\",20932849],[\"Long Shot\",4861334],[\"Angel Has Fallen\",7656137],[\"Men in Black: International\",26134024],[\"X-Men: Dark Phoenix\",19935639],[\"Frozen II\",101359095],[\"Brightburn\",21340550],[\"Ad Astra\",10696633],[\"The Peanut Butter Falcon\",16652387],[\"Good Boys\",22901413],[\"Ma\",12486721],[\"Five Feet Apart\",13827605],[\"Cold Pursuit\",9295713],[\"Crawl\",36721616],[\"Annabelle Comes Home\",23745028],[\"Rambo: Last Blood\",25953266],[\"Late Night\",12189931],[\"The Goldfinch\",8231957],[\"A Beautiful Day in the Neighborhood\",16001784],[\"How to Train Your Dragon: The Hidden World\",11483722],[\"The Secret Life of Pets 2\",27320266],[\"The Curse of la Llorona\",4340780],[\"Captive State\",7081956],[\"Scary Stories to Tell in the Dark\",19083743],[\"The Intruder\",12134664],[\"The Angry Birds Movie 2\",6379364],[\"What Men Want\",11716782],[\"Weathering with You\",8928855],[\"The Lego Movie 2: The Second Part\",11638598],[\"Dumbo\",21239912],[\"The Beach Bum\",1291887],[\"The Art of Racing in the Rain\",10060847],[\"Blinded by the Light\",1193170],[\"Ip Man 4: The Finale\",16925898],[\"Abominable\",4455780],[\"Miss Bala\",13217409],[\"Triple Threat\",1865022],[\"The Wandering Earth\",2021749],[\"Breakthrough\",8044695],[\"Poms\",4956554],[\"Little\",2385808],[\"The Prodigy\",41498486],[\"Overcomer\",264924],[\"A Madea Family Funeral\",1082324],[\"The Sun Is also a Star\",10999120],[\"K-12\",8090062],[\"Unplanned\",5489284],[\"Tenet\",36951864],[\"Birds of Prey\",30405295],[\"The Invisible Man\",12838707],[\"Sonic the Hedgehog\",52206777],[\"Dolittle\",28900970],[\"The Call of the Wild\",11048599],[\"The Eight Hundred\",836702],[\"The Dressmaker\",2374977],[\"Paranormal Activity: The Ghost Dimension\",4303815],[\"Truth\",1451713],[\"Strangerland\",1519560],[\"Howl\",974857],[\"Frankenstein\",3298179],[\"Anchorman 2: The Legend Continues\",10095222]],\"hovertemplate\":\"Likes=%{x}<br>Box_office=%{y}<br>name=%{customdata[0]}<br>Views=%{customdata[1]}<extra></extra>\",\"legendgroup\":\"\",\"marker\":{\"color\":\"blue\",\"symbol\":\"circle\"},\"mode\":\"markers\",\"name\":\"\",\"orientation\":\"v\",\"showlegend\":false,\"x\":[8354,8354,605,605,5308,5308,5308,5308,1453,1453,9152,9152,774,774,4562,4562,4562,2326,2326,313,313,2729,2729,3504,3504,1611,9634,5585,2234,6788,3716,66240,6048,1477,25328,1878,2838,64232,16435,2925,3861,3861,3861,4972,3511,3511,170,2246,8344,706,11704,11704,11704,915,915,915,3999,562,31244,2935,16501,6,636,3084,10624,8288,13945,826,10442,157,11723,2150,3045,356,1191,714,11005,815,8982,1928,636,10867,922,258817,2393,18534,656,19195,2072,10034,2951,56422,1268,1056,373,410,4041,3796,43694,1439,1682,1682,15429,12273,341,2695,315,363,4802,11246,11309,25328,25328,745,3254,6200,1329,1329,3450,13472,2,698,59,1646,1510,314,2252,290,7611,27584,1655,1305,4311,5962,7649,323,13273,1912,4376,1855,1855,1731,1133,1809,171,129366,5859,71981,5459,57,4429,100601,31,2291,59596,15700,12488,21748,177942,327407,38700,16670,7613,34657,56892,19203,22240,4570,66555,305962,21332,2900,780774,184412,89319,1022,26053,187698,308531,46235,11012,7127,162924,2277,370416,8138,177249,23317,137784,11270,15300,56254,15078,12702,88748,37959,15285,82863,6669,2785,43902,11662,7910,900,21506,968,203,11093,271,8284,8287,40317,13249,12714,39611,5635,12882,14633,33863,4233,50427,12117,22092,49581,15645,18771,1930,37638,5558,2363,864,941,2287,6512,21037,10447,1372,3926,18836,10968,52940,9129,12109,8736,19822,9113,21317,9210,3419,4339,177,9740,489,11280,4104,7870,4216,11335,5855,388,10559,2641,7358,21071,383,1123,1904,1056,5133,1146,1146,33020,51562,4603,7008,4211,42831,9626,12810,7558,1959,4108,15224,816,429,1083,5443,10451,1725,695,221,4299,4948,2996,2074,5963,13777,794,2177,1843,4902,19710,344,2722,15428,682,416,973,2507,3782,81,2114,4157,1187,7193,810,1598,259,417,181,370,687,2461,454,96,3688,1946,41,1797,1374,91833,76148,87471,3734,11434,11359,14339,13395,15640,37853,12260,31766,9598,30930,5803,686,17829,29344,8560,7858,10775,10133,129672,24034,24151,77821,7208,6698,15741,11717,26881,7813,1618,13424,5750,28140,3712,1355,20716,4375,8734,1533,8290,12538,8773,7933,11476,10832,5232,25466,1480,27042,313,6579,8818,16373,12332,14209,3409,3096,4530,3439,8968,20142,13825,13152,8849,6847,7037,6297,1294,11354,28,2046,1980,1599,7667,1481,2465,4520,2090,2292,114,2338,2580,7814,3959,34792,3411,12592,3145,4502,12768,4044,15674,33523,48209,124235,15102,6955,10353,8584,25749,80658,11885,6144,12827,15769,101592,94648,111215,86971,21322,6843,8093,12347,27235,983,10202,22228,71744,53308,13411,19758,54034,20034,17032,29825,14315,15916,25335,16742,2133,11383,10925,65676,20243,3176,11011,14211,32359,9890,6697,24527,25792,73770,18214,15910,4681,172205,101735,117090,54430,100513,186208,17014,98600,65363,78972,66235,226093,23298,188867,40711,14708,26653,16442,14394,2837,27434,88449,30389,19621,1018,40845,35400,18367,9283,10698,20707,58718,20660,67115,14666,8641,9696,64658,53583,78563,200297,40428,64726,23893,138030,67822,61566,79929,28195,140505,25185,113602,70191,179918,50697,4977,152816,27462,39894,42512,51670,62554,37191,63441,68301,63228,252152,68791,13104,55996,124291,51069,30464,22192,603405,26081,72587,33531,229534,45880,27390,23550,40476,20329,71549,16882,118092,5511,21271,15327,29772,155468,740121,19882,48193,370725,94716,64729,22101,181231,71459,152940,53340,155111,17475,35130,42341,84230,43793,99980,18558,54298,88206,77640,83453,18658,12835,17939,43372,30250,38357,60952,26355,195603,15001,9962,77000,41147,9727,631,7810,3635,3377,113946,3111,24400,6345,51631,2421,5769,5079,17776,23621,9513,901,4922,4570,7912,16793,6922,4173,5410,9140,12312,235967,39840,122895,154073,306662,142855,208743,148721,168504,130760,302978,27387,69614,188671,186770,88403,157113,28750,338106,524980,99967,30895,107839,123026,181647,62430,8457,39261,86734,74745,16970,52052,45626,47513,78900,43750,34686,369103,55825,144633,35996,81829,31777,39487,69925,11317,43732,14275,196235,121976,27554,54084,100159,18855,39891,71289,17302,6380,106496,38046,73792,22749,45060,70211,24160,12468,10159,13384,14431,35603,12777,9994,79634,27490,54972,15116,423,890224,21853,268774,87021,243765,257340,119335,197315,74664,107067,163877,127646,338025,41744,127545,84497,334891,262465,188342,102864,201198,458661,63426,163611,138078,34881,95769,218799,47704,796245,45093,8207,14013,97444,42234,156123,34154,96130,55477,146912,25853,193176,9137,61741,145180,106065,29109,49574,30509,162214,34399,18734,43365,35457,63625,10306,15015,14902,27068,15285,22128,92766,95223,77506,72635,29154,24209,134314,22299,19934,129976,24957,33565,87683,4114,4712,20776,41810,18937,8766,3618,13306,118577,36595,58008,53773,28352,2532,45572,33745,32087,35671,14852,10558,67208,17122,11512,363,31702,9700,187,1372,14803,3436,829,17075,185783,22365,8617,2981,23558,154582,4102339,661628,367993,576783,2343,677746,331044,580550,351165,1468099,68876,108504,30464,229168,78776,38193,35648,97457,78384,241932,60009,65271,668509,85012,2430,49892,325284,17894,45948,23655,486958,134779,42001,404832,48539,22718,28550,70565,279734,36643,172765,40950,90049,16319,20324,48941,169906,264392,28700,67794,63794,21905,27294,50368,252402,69380,140069,167926,131083,18252,76560,242545,30402,5671,32991,9644,290493,50130,21487,23542,35233,11383,2722,42352,173185,358875,3401396,153381,1497107,85831,559408,73367,459689,1133775,4917,1995083,282551,485185,207588,677248,152996,106088,333086,169458,338971,107675,145378,56201,175444,10204,434451,268356,4255,73749,346785,141190,6582,1112712,319869,23019,47176,351642,244878,950304,173849,44527,54292,59628,93033,167272,22810,325918,285500,178596,7178,63612,188933,129831,38379,30396,12934,164310,45956,27184,50265,291312,104143,254799,5511,88200,6565,191629,46219,30757,7072,17065,145645,5754,25122,38095,2420,9589,121378,601360,50183,311633,343487,59513,1131694,521491,100010,4365,16547,23112,3473,2299,8134,10044,25866],\"xaxis\":\"x\",\"y\":[0,0,0,0,0,0,0,0,0,0,0,0,0,0,0,135026,0,0,0,0,0,0,0,0,0,0,0,0,31309,3002884,0,4719695,411115,0,0,0,104507,643557,0,2633527,0,0,0,0,49970,0,0,0,59700000,0,0,0,0,0,0,0,0,0,17671101,0,0,0,0,0,6075,0,0,0,1301696,0,0,0,0,0,0,0,0,0,3447633,0,0,0,0,0,0,0,0,0,0,0,0,2642899,0,2334228,0,0,0,0,0,2160298,0,0,0,0,0,0,0,0,0,1982505,0,0,0,0,0,0,133332,0,0,0,0,0,0,0,0,0,0,0,0,0,0,0,14394097,0,0,44695,0,0,0,0,0,1986615,0,0,0,0,0,0,0,0,0,0,0,41092328,29916207,19632053,68851475,57063861,2270,296187079,91119319,25507137,24922237,21589395,2260616,261317921,61489265,357400,191502426,424967620,504050219,53898845,1083720877,50083616,43229904,11534477,858553,379014294,23384939,73475268,110317580,15189934,99378985,114197742,80460948,46789413,5798974,104414200,836836967,623933331,294805697,48917974,271457301,96188903,329398046,154026136,4324817,224920375,321669741,5060438,99557032,592462816,199006387,1278650,319713881,494879471,67876281,7099598,290745055,89520336,543113985,102820008,252276927,278780441,698491347,226497209,157107755,15440333,261989769,83188165,60738797,274470394,170458922,400063852,105734416,1066970811,67448651,75026327,129190869,45491656,45636368,321885765,29397654,167805466,204594016,6890432,177238796,64780213,336365676,76196538,9918093,127233108,19439764,67918658,56032889,10903312,293503354,60040976,300228084,80205382,24172201,98159963,211780824,62695489,154711438,35626958,422618,54806823,752600867,415686217,27093592,34758951,152263880,32686500,310650585,4681651,9322895,60331447,66984887,81126522,27293743,79628830,114984666,91720255,86855739,48668907,149411550,112462508,49843011,134748021,89137047,55611001,101729,32054369,136333522,52844496,18689058,93251121,3494154,43053376,42059111,14788642,60321861,66166000,106956330,18409891,80547866,2648195,14311701,5144717,11104555,42345360,8087000,9933873,177512032,4052191,649626,10300416,60673972,69432527,143485,8307227,77477008,20529194,48190704,405380,1671196,36015260,15625544,405861,15134293,203509374,21500813,156190,449702,37981984,453708,146149,25603,2820490,370569774,449326618,1342321665,3741098,288383523,626137675,151653750,110206216,214945591,77187281,219851172,69935600,216639112,145051197,149228077,1045713802,89792502,23308615,665692281,149542245,226904017,352616690,136515867,216197492,173930596,59389433,97231420,19123767,694713380,9232318,161849455,135710029,1123794079,174822325,712205856,559852396,245724603,17039814,147332697,299268508,209838559,483866518,543848418,152930623,97984015,120081841,481800873,28013733,86752352,71508440,75055070,82087155,22926076,185770310,127869379,58409247,19504039,63782078,41097853,177243185,373993951,40909909,149673788,586764305,76130093,132563930,211819354,227817248,57084522,563749323,76338111,47120948,133432856,2530394,72526996,30722632,6206022,19561904,193967670,554987477,10173061,91627228,85564310,145676,90260376,40492652,39782683,342695435,25804448,108609310,8179416,11168712,115890699,35185884,426074373,1017003568,694394724,1081142612,115350426,88215156,15843274,403354469,68264022,198087212,232325503,829747654,218340595,132820716,130482868,1108569499,33384127,757930663,441809770,236412453,396592829,28258060,176506819,37930465,161772375,201585328,549368315,82515113,156491279,275293450,538983207,47052899,41037742,245527149,284139100,303025485,167739961,358375603,55404207,32170399,160112671,8518634,208076205,11681781,276144750,116471580,471222889,234989584,82966152,609016565,240159255,624026776,335260290,32226382,59418613,392000694,1214811252,320290989,122126687,644783140,89328627,246984278,788680968,723192705,87100449,959007513,668045518,467365246,865011746,48449416,32443111,540455876,187733202,375740705,55736588,188133322,411002906,587205319,26474920,93492844,286140700,226349749,218791811,97542952,205366737,170270201,154802912,493311825,87305549,15661554,139745,12077441,95396573,146428180,773350147,701729206,86081711,370541256,369330363,714421503,172945750,49396747,414351546,36869414,288885818,47398992,962182865,348319861,458863600,7253160,233555708,746045700,4942449,103215094,21947454,127994610,84419388,66980456,337580051,547426372,657869686,708982323,758411779,212902372,161459297,468060692,755356711,1882074,363204635,307166834,41898409,257579282,48137666,123726688,214657577,11782625,18658381,1104054072,14710975,10312540,126069509,196710396,30642704,52501541,19206513,2700051,375658750,1402809540,74679822,133440870,1670516444,630162448,35401758,98690254,542358331,93920758,658344137,98450062,173567581,99775678,386041607,287144079,473990832,209035668,64191523,36606743,332207671,82347656,34441873,16810562,4366460,16322067,71561644,607595,117813057,34227298,158261424,26250020,24548038,34854990,27391084,90777,9074749,828874,37461274,46152800,85978292,5425148,11122090,7205073,33213241,2084628,51380201,4842699,3394174,906995,38356892,42426912,1295574,143658,8527658,14431253,13081651,14659448,41325328,10835752,29355203,73256266,122606884,746846894,162360636,1153337496,782836791,677796076,278454417,208314186,157830487,644411850,203388186,543934105,23123592,343471816,448906865,321788219,1024121104,180563636,69411370,1056057720,873637528,521170825,62788218,389681935,296482446,814044001,312242626,38803993,81093313,119100758,140705322,37879877,118587880,155160045,3377430,65336603,415484914,78988148,216972543,86234523,356700357,23834809,150680864,24121245,220021259,334897606,9101546,110216998,19263938,1028570942,140853810,119520023,162146076,37357216,23177948,121790373,240797623,8809407,19370020,109906372,334933831,73929392,11084630,352333929,85251425,29777777,20651333,76249438,114501299,106127278,81705746,678150,93282604,6698679,685780,124608438,25070261,9037058,853983911,150847274,701796444,880166924,259334548,863756051,438006904,962542945,177856751,37270721,1236005118,255589157,527016307,807817888,226945087,527965936,619179950,822824522,240891763,171547802,306209289,657926987,44516999,794881442,195333312,8003180,566652812,410902662,160192267,1332698830,53939297,100014025,43980821,352794081,148675066,78966486,48453605,381545846,125479266,605425157,3283369,169846945,35669017,225973340,113231078,185400345,67234188,10971298,24646055,43069254,47756590,125856180,306515884,134866593,221600160,26800152,296069199,26351322,27869129,22088533,56411585,145418070,102952888,43155261,29820616,62198461,180419231,61621140,56996304,12751667,1034800131,84918541,55003890,16373843,15889124,227978645,140552359,16080475,62832209,41681746,4101699,18598607,4596705,96942115,83080890,123081555,34184504,23355100,55668698,32917353,9204549,8503658,197183546,60845711,66558465,41087017,62547032,6423605,60330833,5042014,25601244,34814102,40140972,6724365,12062146,130560428,125427681,23468586,10116816,2308355,29874280,350320413,2048359754,786470484,911902649,1347597973,97644617,1148485886,582893671,375540831,791657398,856085151,321752656,160542134,25957482,392924807,27365467,2053469,80509622,43070915,151572634,436188866,395618157,120556201,1310466296,14347433,7942093,95918706,530259473,1555203,75837743,371987838,1244639527,137056262,242115,365551694,190400157,119942387,117679066,78130625,34934009,31882724,654855901,31676128,174804407,16636604,64417003,59945012,66316289,467989645,76073488,528583774,66308758,351496066,75339459,46712809,529323962,41657844,83869818,214215889,9303022,9330075,75462037,51738549,4165776,487420,131523093,12442161,158972499,173961069,44019588,57076286,20780685,54622814,10313019,93320380,47967636,374565754,-2147483648,155712077,1074427370,153193369,327281779,311539397,759056935,1128462972,69756455,1131927996,90335025,473093228,384623579,1078232589,225508210,968853,800059707,404980543,255184580,57615777,261119292,237860050,173469516,24959607,119682635,246999039,10209813,333686,386600138,195179299,157563598,1073394593,122810399,53873809,146661977,253890701,252442974,1450026933,32893421,127461872,133031473,111037232,61105744,91527795,76419755,91542097,231252591,91490353,22386555,9932621,67760877,525683457,430051293,123133739,8808611,104545505,36599361,147792047,72216294,193457467,192306508,353284621,4554416,33766787,18096691,176345966,180314199,15383580,345900,699992512,50444358,16418218,49000667,21150265,38026103,74747725,6750029,359377,21354152,363656624,201858461,143151000,319715683,245487753,111105497,461421559,18340000,78099553,2541554,17472,617000,112006296,173649015],\"yaxis\":\"y\",\"type\":\"scatter\"},{\"line\":{\"color\":\"black\",\"width\":2},\"mode\":\"lines\",\"name\":\"Linear Regression\",\"x\":[2,4102339],\"y\":[59326439.786273755,-1952853474.4110086],\"type\":\"scatter\"}],                        {\"template\":{\"data\":{\"barpolar\":[{\"marker\":{\"line\":{\"color\":\"white\",\"width\":0.5},\"pattern\":{\"fillmode\":\"overlay\",\"size\":10,\"solidity\":0.2}},\"type\":\"barpolar\"}],\"bar\":[{\"error_x\":{\"color\":\"rgb(36,36,36)\"},\"error_y\":{\"color\":\"rgb(36,36,36)\"},\"marker\":{\"line\":{\"color\":\"white\",\"width\":0.5},\"pattern\":{\"fillmode\":\"overlay\",\"size\":10,\"solidity\":0.2}},\"type\":\"bar\"}],\"carpet\":[{\"aaxis\":{\"endlinecolor\":\"rgb(36,36,36)\",\"gridcolor\":\"white\",\"linecolor\":\"white\",\"minorgridcolor\":\"white\",\"startlinecolor\":\"rgb(36,36,36)\"},\"baxis\":{\"endlinecolor\":\"rgb(36,36,36)\",\"gridcolor\":\"white\",\"linecolor\":\"white\",\"minorgridcolor\":\"white\",\"startlinecolor\":\"rgb(36,36,36)\"},\"type\":\"carpet\"}],\"choropleth\":[{\"colorbar\":{\"outlinewidth\":1,\"tickcolor\":\"rgb(36,36,36)\",\"ticks\":\"outside\"},\"type\":\"choropleth\"}],\"contourcarpet\":[{\"colorbar\":{\"outlinewidth\":1,\"tickcolor\":\"rgb(36,36,36)\",\"ticks\":\"outside\"},\"type\":\"contourcarpet\"}],\"contour\":[{\"colorbar\":{\"outlinewidth\":1,\"tickcolor\":\"rgb(36,36,36)\",\"ticks\":\"outside\"},\"colorscale\":[[0.0,\"#440154\"],[0.1111111111111111,\"#482878\"],[0.2222222222222222,\"#3e4989\"],[0.3333333333333333,\"#31688e\"],[0.4444444444444444,\"#26828e\"],[0.5555555555555556,\"#1f9e89\"],[0.6666666666666666,\"#35b779\"],[0.7777777777777778,\"#6ece58\"],[0.8888888888888888,\"#b5de2b\"],[1.0,\"#fde725\"]],\"type\":\"contour\"}],\"heatmapgl\":[{\"colorbar\":{\"outlinewidth\":1,\"tickcolor\":\"rgb(36,36,36)\",\"ticks\":\"outside\"},\"colorscale\":[[0.0,\"#440154\"],[0.1111111111111111,\"#482878\"],[0.2222222222222222,\"#3e4989\"],[0.3333333333333333,\"#31688e\"],[0.4444444444444444,\"#26828e\"],[0.5555555555555556,\"#1f9e89\"],[0.6666666666666666,\"#35b779\"],[0.7777777777777778,\"#6ece58\"],[0.8888888888888888,\"#b5de2b\"],[1.0,\"#fde725\"]],\"type\":\"heatmapgl\"}],\"heatmap\":[{\"colorbar\":{\"outlinewidth\":1,\"tickcolor\":\"rgb(36,36,36)\",\"ticks\":\"outside\"},\"colorscale\":[[0.0,\"#440154\"],[0.1111111111111111,\"#482878\"],[0.2222222222222222,\"#3e4989\"],[0.3333333333333333,\"#31688e\"],[0.4444444444444444,\"#26828e\"],[0.5555555555555556,\"#1f9e89\"],[0.6666666666666666,\"#35b779\"],[0.7777777777777778,\"#6ece58\"],[0.8888888888888888,\"#b5de2b\"],[1.0,\"#fde725\"]],\"type\":\"heatmap\"}],\"histogram2dcontour\":[{\"colorbar\":{\"outlinewidth\":1,\"tickcolor\":\"rgb(36,36,36)\",\"ticks\":\"outside\"},\"colorscale\":[[0.0,\"#440154\"],[0.1111111111111111,\"#482878\"],[0.2222222222222222,\"#3e4989\"],[0.3333333333333333,\"#31688e\"],[0.4444444444444444,\"#26828e\"],[0.5555555555555556,\"#1f9e89\"],[0.6666666666666666,\"#35b779\"],[0.7777777777777778,\"#6ece58\"],[0.8888888888888888,\"#b5de2b\"],[1.0,\"#fde725\"]],\"type\":\"histogram2dcontour\"}],\"histogram2d\":[{\"colorbar\":{\"outlinewidth\":1,\"tickcolor\":\"rgb(36,36,36)\",\"ticks\":\"outside\"},\"colorscale\":[[0.0,\"#440154\"],[0.1111111111111111,\"#482878\"],[0.2222222222222222,\"#3e4989\"],[0.3333333333333333,\"#31688e\"],[0.4444444444444444,\"#26828e\"],[0.5555555555555556,\"#1f9e89\"],[0.6666666666666666,\"#35b779\"],[0.7777777777777778,\"#6ece58\"],[0.8888888888888888,\"#b5de2b\"],[1.0,\"#fde725\"]],\"type\":\"histogram2d\"}],\"histogram\":[{\"marker\":{\"line\":{\"color\":\"white\",\"width\":0.6}},\"type\":\"histogram\"}],\"mesh3d\":[{\"colorbar\":{\"outlinewidth\":1,\"tickcolor\":\"rgb(36,36,36)\",\"ticks\":\"outside\"},\"type\":\"mesh3d\"}],\"parcoords\":[{\"line\":{\"colorbar\":{\"outlinewidth\":1,\"tickcolor\":\"rgb(36,36,36)\",\"ticks\":\"outside\"}},\"type\":\"parcoords\"}],\"pie\":[{\"automargin\":true,\"type\":\"pie\"}],\"scatter3d\":[{\"line\":{\"colorbar\":{\"outlinewidth\":1,\"tickcolor\":\"rgb(36,36,36)\",\"ticks\":\"outside\"}},\"marker\":{\"colorbar\":{\"outlinewidth\":1,\"tickcolor\":\"rgb(36,36,36)\",\"ticks\":\"outside\"}},\"type\":\"scatter3d\"}],\"scattercarpet\":[{\"marker\":{\"colorbar\":{\"outlinewidth\":1,\"tickcolor\":\"rgb(36,36,36)\",\"ticks\":\"outside\"}},\"type\":\"scattercarpet\"}],\"scattergeo\":[{\"marker\":{\"colorbar\":{\"outlinewidth\":1,\"tickcolor\":\"rgb(36,36,36)\",\"ticks\":\"outside\"}},\"type\":\"scattergeo\"}],\"scattergl\":[{\"marker\":{\"colorbar\":{\"outlinewidth\":1,\"tickcolor\":\"rgb(36,36,36)\",\"ticks\":\"outside\"}},\"type\":\"scattergl\"}],\"scattermapbox\":[{\"marker\":{\"colorbar\":{\"outlinewidth\":1,\"tickcolor\":\"rgb(36,36,36)\",\"ticks\":\"outside\"}},\"type\":\"scattermapbox\"}],\"scatterpolargl\":[{\"marker\":{\"colorbar\":{\"outlinewidth\":1,\"tickcolor\":\"rgb(36,36,36)\",\"ticks\":\"outside\"}},\"type\":\"scatterpolargl\"}],\"scatterpolar\":[{\"marker\":{\"colorbar\":{\"outlinewidth\":1,\"tickcolor\":\"rgb(36,36,36)\",\"ticks\":\"outside\"}},\"type\":\"scatterpolar\"}],\"scatter\":[{\"fillpattern\":{\"fillmode\":\"overlay\",\"size\":10,\"solidity\":0.2},\"type\":\"scatter\"}],\"scatterternary\":[{\"marker\":{\"colorbar\":{\"outlinewidth\":1,\"tickcolor\":\"rgb(36,36,36)\",\"ticks\":\"outside\"}},\"type\":\"scatterternary\"}],\"surface\":[{\"colorbar\":{\"outlinewidth\":1,\"tickcolor\":\"rgb(36,36,36)\",\"ticks\":\"outside\"},\"colorscale\":[[0.0,\"#440154\"],[0.1111111111111111,\"#482878\"],[0.2222222222222222,\"#3e4989\"],[0.3333333333333333,\"#31688e\"],[0.4444444444444444,\"#26828e\"],[0.5555555555555556,\"#1f9e89\"],[0.6666666666666666,\"#35b779\"],[0.7777777777777778,\"#6ece58\"],[0.8888888888888888,\"#b5de2b\"],[1.0,\"#fde725\"]],\"type\":\"surface\"}],\"table\":[{\"cells\":{\"fill\":{\"color\":\"rgb(237,237,237)\"},\"line\":{\"color\":\"white\"}},\"header\":{\"fill\":{\"color\":\"rgb(217,217,217)\"},\"line\":{\"color\":\"white\"}},\"type\":\"table\"}]},\"layout\":{\"annotationdefaults\":{\"arrowhead\":0,\"arrowwidth\":1},\"autotypenumbers\":\"strict\",\"coloraxis\":{\"colorbar\":{\"outlinewidth\":1,\"tickcolor\":\"rgb(36,36,36)\",\"ticks\":\"outside\"}},\"colorscale\":{\"diverging\":[[0.0,\"rgb(103,0,31)\"],[0.1,\"rgb(178,24,43)\"],[0.2,\"rgb(214,96,77)\"],[0.3,\"rgb(244,165,130)\"],[0.4,\"rgb(253,219,199)\"],[0.5,\"rgb(247,247,247)\"],[0.6,\"rgb(209,229,240)\"],[0.7,\"rgb(146,197,222)\"],[0.8,\"rgb(67,147,195)\"],[0.9,\"rgb(33,102,172)\"],[1.0,\"rgb(5,48,97)\"]],\"sequential\":[[0.0,\"#440154\"],[0.1111111111111111,\"#482878\"],[0.2222222222222222,\"#3e4989\"],[0.3333333333333333,\"#31688e\"],[0.4444444444444444,\"#26828e\"],[0.5555555555555556,\"#1f9e89\"],[0.6666666666666666,\"#35b779\"],[0.7777777777777778,\"#6ece58\"],[0.8888888888888888,\"#b5de2b\"],[1.0,\"#fde725\"]],\"sequentialminus\":[[0.0,\"#440154\"],[0.1111111111111111,\"#482878\"],[0.2222222222222222,\"#3e4989\"],[0.3333333333333333,\"#31688e\"],[0.4444444444444444,\"#26828e\"],[0.5555555555555556,\"#1f9e89\"],[0.6666666666666666,\"#35b779\"],[0.7777777777777778,\"#6ece58\"],[0.8888888888888888,\"#b5de2b\"],[1.0,\"#fde725\"]]},\"colorway\":[\"#1F77B4\",\"#FF7F0E\",\"#2CA02C\",\"#D62728\",\"#9467BD\",\"#8C564B\",\"#E377C2\",\"#7F7F7F\",\"#BCBD22\",\"#17BECF\"],\"font\":{\"color\":\"rgb(36,36,36)\"},\"geo\":{\"bgcolor\":\"white\",\"lakecolor\":\"white\",\"landcolor\":\"white\",\"showlakes\":true,\"showland\":true,\"subunitcolor\":\"white\"},\"hoverlabel\":{\"align\":\"left\"},\"hovermode\":\"closest\",\"mapbox\":{\"style\":\"light\"},\"paper_bgcolor\":\"white\",\"plot_bgcolor\":\"white\",\"polar\":{\"angularaxis\":{\"gridcolor\":\"rgb(232,232,232)\",\"linecolor\":\"rgb(36,36,36)\",\"showgrid\":false,\"showline\":true,\"ticks\":\"outside\"},\"bgcolor\":\"white\",\"radialaxis\":{\"gridcolor\":\"rgb(232,232,232)\",\"linecolor\":\"rgb(36,36,36)\",\"showgrid\":false,\"showline\":true,\"ticks\":\"outside\"}},\"scene\":{\"xaxis\":{\"backgroundcolor\":\"white\",\"gridcolor\":\"rgb(232,232,232)\",\"gridwidth\":2,\"linecolor\":\"rgb(36,36,36)\",\"showbackground\":true,\"showgrid\":false,\"showline\":true,\"ticks\":\"outside\",\"zeroline\":false,\"zerolinecolor\":\"rgb(36,36,36)\"},\"yaxis\":{\"backgroundcolor\":\"white\",\"gridcolor\":\"rgb(232,232,232)\",\"gridwidth\":2,\"linecolor\":\"rgb(36,36,36)\",\"showbackground\":true,\"showgrid\":false,\"showline\":true,\"ticks\":\"outside\",\"zeroline\":false,\"zerolinecolor\":\"rgb(36,36,36)\"},\"zaxis\":{\"backgroundcolor\":\"white\",\"gridcolor\":\"rgb(232,232,232)\",\"gridwidth\":2,\"linecolor\":\"rgb(36,36,36)\",\"showbackground\":true,\"showgrid\":false,\"showline\":true,\"ticks\":\"outside\",\"zeroline\":false,\"zerolinecolor\":\"rgb(36,36,36)\"}},\"shapedefaults\":{\"fillcolor\":\"black\",\"line\":{\"width\":0},\"opacity\":0.3},\"ternary\":{\"aaxis\":{\"gridcolor\":\"rgb(232,232,232)\",\"linecolor\":\"rgb(36,36,36)\",\"showgrid\":false,\"showline\":true,\"ticks\":\"outside\"},\"baxis\":{\"gridcolor\":\"rgb(232,232,232)\",\"linecolor\":\"rgb(36,36,36)\",\"showgrid\":false,\"showline\":true,\"ticks\":\"outside\"},\"bgcolor\":\"white\",\"caxis\":{\"gridcolor\":\"rgb(232,232,232)\",\"linecolor\":\"rgb(36,36,36)\",\"showgrid\":false,\"showline\":true,\"ticks\":\"outside\"}},\"title\":{\"x\":0.05},\"xaxis\":{\"automargin\":true,\"gridcolor\":\"rgb(232,232,232)\",\"linecolor\":\"rgb(36,36,36)\",\"showgrid\":false,\"showline\":true,\"ticks\":\"outside\",\"title\":{\"standoff\":15},\"zeroline\":false,\"zerolinecolor\":\"rgb(36,36,36)\"},\"yaxis\":{\"automargin\":true,\"gridcolor\":\"rgb(232,232,232)\",\"linecolor\":\"rgb(36,36,36)\",\"showgrid\":false,\"showline\":true,\"ticks\":\"outside\",\"title\":{\"standoff\":15},\"zeroline\":false,\"zerolinecolor\":\"rgb(36,36,36)\"}}},\"xaxis\":{\"anchor\":\"y\",\"domain\":[0.0,1.0],\"title\":{\"text\":\"Number of Likes\"},\"range\":[0,250000]},\"yaxis\":{\"anchor\":\"x\",\"domain\":[0.0,1.0],\"title\":{\"text\":\"Box Office Revenue\"},\"range\":[0,500000000]},\"legend\":{\"tracegroupgap\":0},\"margin\":{\"t\":60},\"font\":{\"size\":14},\"title\":{\"text\":\"Box Office Revenue vs. Number of Likes for Movie Trailers (R-squared: 0.35)\"}},                        {\"responsive\": true}                    ).then(function(){\n",
       "                            \n",
       "var gd = document.getElementById('5273f673-f490-40ed-879f-621f18a3d865');\n",
       "var x = new MutationObserver(function (mutations, observer) {{\n",
       "        var display = window.getComputedStyle(gd).display;\n",
       "        if (!display || display === 'none') {{\n",
       "            console.log([gd, 'removed!']);\n",
       "            Plotly.purge(gd);\n",
       "            observer.disconnect();\n",
       "        }}\n",
       "}});\n",
       "\n",
       "// Listen for the removal of the full notebook cells\n",
       "var notebookContainer = gd.closest('#notebook-container');\n",
       "if (notebookContainer) {{\n",
       "    x.observe(notebookContainer, {childList: true});\n",
       "}}\n",
       "\n",
       "// Listen for the clearing of the current output cell\n",
       "var outputEl = gd.closest('.output');\n",
       "if (outputEl) {{\n",
       "    x.observe(outputEl, {childList: true});\n",
       "}}\n",
       "\n",
       "                        })                };                });            </script>        </div>"
      ]
     },
     "metadata": {},
     "output_type": "display_data"
    }
   ],
   "source": [
    "import plotly.express as px\n",
    "import plotly.graph_objects as go\n",
    "from sklearn.linear_model import LinearRegression\n",
    "\n",
    "df_merged = pd.merge(df_movies_marketing, df_movies_yotube, on='name')\n",
    "\n",
    "# First scatter plot\n",
    "X_views = df_merged[['Views', 'Likes']]\n",
    "y_views = df_merged['Box_office']\n",
    "reg_views = LinearRegression().fit(X_views, y_views)\n",
    "r_squared_views = reg_views.score(X_views, y_views)\n",
    "\n",
    "fig_views = px.scatter(df_merged, x='Views', y='Box_office', hover_data=['name', 'Likes'])\n",
    "fig_views.update_traces(marker=dict(color='red'))\n",
    "fig_views.update_layout(\n",
    "    title=f'Box Office Revenue vs. Number of Views for Movie Trailers (R-squared: {r_squared_views:.2f})',\n",
    "    xaxis_title='Number of Views',\n",
    "    yaxis_title='Box Office Revenue',\n",
    "    font=dict(size=14)\n",
    ")\n",
    "\n",
    "x_range_views = [df_merged['Views'].min(), df_merged['Views'].max()]\n",
    "y_range_views = [reg_views.predict([[x_range_views[0], 0]])[0], reg_views.predict([[x_range_views[1], 0]])[0]]\n",
    "fig_views.add_trace(go.Scatter(x=x_range_views, y=y_range_views, mode='lines', name='Linear Regression', line=dict(color='black', width=2)))\n",
    "fig_views.update_layout(template=\"simple_white\")\n",
    "fig_views.update_layout(yaxis_range=[0, 500000000])\n",
    "fig_views.update_layout(xaxis_range=[0, 50000000])\n",
    "fig_views.show()\n",
    "\n",
    "# Second scatter plot\n",
    "X_likes = df_merged[['Views', 'Likes']]\n",
    "y_likes = df_merged['Box_office']\n",
    "reg_likes = LinearRegression().fit(X_likes, y_likes)\n",
    "r_squared_likes = reg_likes.score(X_likes, y_likes)\n",
    "\n",
    "fig_likes = px.scatter(df_merged, x='Likes', y='Box_office', hover_data=['name', 'Views'])\n",
    "fig_likes.update_traces(marker=dict(color='blue'))\n",
    "fig_likes.update_layout(\n",
    "    title=f'Box Office Revenue vs. Number of Likes for Movie Trailers (R-squared: {r_squared_likes:.2f})',\n",
    "    xaxis_title='Number of Likes',\n",
    "    yaxis_title='Box Office Revenue',\n",
    "    font=dict(size=14)\n",
    ")\n",
    "\n",
    "x_range_likes = [df_merged['Likes'].min(), df_merged['Likes'].max()]\n",
    "y_range_likes = [reg_likes.predict([[0, x_range_likes[0]]])[0], reg_likes.predict([[0, x_range_likes[1]]])[0]]\n",
    "fig_likes.add_trace(go.Scatter(x=x_range_likes, y=y_range_likes, mode='lines', name='Linear Regression', line=dict(color='black', width=2)))\n",
    "fig_likes.update_layout(template=\"simple_white\")\n",
    "fig_likes.update_layout(yaxis_range=[0, 500000000])\n",
    "fig_likes.update_layout(xaxis_range=[0, 250000])\n",
    "fig_likes.show()\n"
   ]
  },
  {
   "cell_type": "code",
   "execution_count": null,
   "id": "b9813289",
   "metadata": {},
   "outputs": [],
   "source": []
  }
 ],
 "metadata": {
  "kernelspec": {
   "display_name": "Python 3 (ipykernel)",
   "language": "python",
   "name": "python3"
  },
  "language_info": {
   "codemirror_mode": {
    "name": "ipython",
    "version": 3
   },
   "file_extension": ".py",
   "mimetype": "text/x-python",
   "name": "python",
   "nbconvert_exporter": "python",
   "pygments_lexer": "ipython3",
   "version": "3.9.13"
  }
 },
 "nbformat": 4,
 "nbformat_minor": 5
}
